{
 "cells": [
  {
   "cell_type": "code",
   "execution_count": 1,
   "metadata": {},
   "outputs": [],
   "source": [
    "## 文件分布：\n",
    "# 14892 个数据可以通过直接匹配训练集中的数据来获取结果\n",
    "# 2936 个“无访问权限”的数据可以通过简单的规则来获取结果\n",
    "# 7388 个只有内容的数据，通过训练bert模型来预测\n",
    "# 223 个带有文件名的模型，训练一个小的bert模型来预测"
   ]
  },
  {
   "cell_type": "code",
   "execution_count": 1,
   "metadata": {},
   "outputs": [],
   "source": [
    "from glob import glob\n",
    "import os\n",
    "import pandas as pd\n",
    "from collections import defaultdict\n",
    "import numpy as np\n",
    "import re\n",
    "\n",
    "import xlrd\n",
    "from xlrd import XLRDError\n",
    "from xlrd.compdoc import CompDocError\n",
    "from pandas.errors import ParserError\n",
    "\n",
    "from tqdm import tqdm_notebook\n",
    "import pickle"
   ]
  },
  {
   "cell_type": "code",
   "execution_count": 2,
   "metadata": {},
   "outputs": [
    {
     "data": {
      "text/plain": [
       "csv    13395\n",
       "xls    12044\n",
       "Name: filetype, dtype: int64"
      ]
     },
     "execution_count": 2,
     "metadata": {},
     "output_type": "execute_result"
    }
   ],
   "source": [
    "test_df = pd.read_csv(\"../input/submit_example_test2.csv\")\n",
    "test_df['filetype'] = test_df.filename.apply(lambda x: str(x)[-3:])\n",
    "test_df['filetype'].value_counts()"
   ]
  },
  {
   "cell_type": "code",
   "execution_count": 3,
   "metadata": {},
   "outputs": [
    {
     "data": {
      "text/plain": [
       "(25439, 3)"
      ]
     },
     "execution_count": 3,
     "metadata": {},
     "output_type": "execute_result"
    }
   ],
   "source": [
    "test_df.shape"
   ]
  },
  {
   "cell_type": "markdown",
   "metadata": {},
   "source": [
    "# 准备匹配训练集的规则"
   ]
  },
  {
   "cell_type": "code",
   "execution_count": 4,
   "metadata": {},
   "outputs": [],
   "source": [
    "PUNCT_SET = set(\"#《》【】[]\") # 保留这些预定义的标点\n",
    "def is_chinese(uchar: str) -> bool:\n",
    "    # 暂时保留以下字符，看看CV是否提高\n",
    "    if uchar in PUNCT_SET:\n",
    "        return True\n",
    "    if uchar >= '\\u4e00' and uchar <= '\\u9fa5':\n",
    "        return True\n",
    "    else:\n",
    "        return False\n",
    "\n",
    "def reserve_chinese(content: str, threshold: int = 512) -> str:\n",
    "    content_str = ''\n",
    "    c = 0\n",
    "    for i in content:\n",
    "        if c == threshold:\n",
    "            break\n",
    "        if is_chinese(i):\n",
    "            content_str += i\n",
    "            c += 1\n",
    "    return content_str"
   ]
  },
  {
   "cell_type": "code",
   "execution_count": 5,
   "metadata": {},
   "outputs": [],
   "source": [
    "sub_df = pd.read_csv(\"../input/submit_example_test2.csv\")"
   ]
  },
  {
   "cell_type": "code",
   "execution_count": 6,
   "metadata": {},
   "outputs": [],
   "source": [
    "test2_df = pd.read_csv(\"../tmp_input/test_df_processed_1206_chinese.csv\")\n",
    "train_df = pd.read_csv(\"../tmp_input/train_df_processed_1206_aug_5_chinese.csv\")\n",
    "\n",
    "train_text_df = pd.DataFrame(train_df['text'].apply(eval).to_list(), columns=[f'text{i}' for i in range(1, 9)])\n",
    "train_text_df['label'] = train_df['label']\n",
    "test_text_df = pd.DataFrame(test2_df['text'].apply(eval).to_list(), columns=[f'text{i}' for i in range(1, 9)])"
   ]
  },
  {
   "cell_type": "code",
   "execution_count": 7,
   "metadata": {},
   "outputs": [],
   "source": [
    "test_text_df['filename'] = test2_df['filename']"
   ]
  },
  {
   "cell_type": "markdown",
   "metadata": {},
   "source": [
    "## 用content匹配训练集中的数据，如果发现content完全相同且训练集中label没有冲突，则直接匹配label"
   ]
  },
  {
   "cell_type": "code",
   "execution_count": 8,
   "metadata": {},
   "outputs": [],
   "source": [
    "train_text_count = train_text_df.text1.value_counts()\n",
    "test_text_count = test_text_df.text1.value_counts()"
   ]
  },
  {
   "cell_type": "code",
   "execution_count": 9,
   "metadata": {},
   "outputs": [
    {
     "name": "stdout",
     "output_type": "stream",
     "text": [
      "Wall time: 21.5 s\n"
     ]
    },
    {
     "data": {
      "text/plain": [
       "2552"
      ]
     },
     "execution_count": 9,
     "metadata": {},
     "output_type": "execute_result"
    }
   ],
   "source": [
    "%%time\n",
    "## 基于训练集的内容和标签进行统计, 将符合以下规则的保存到unique_map中\n",
    "## 1.内容出现次数超过一次且标签没有冲突的\n",
    "## 2. 内容出现次数仅为一次\n",
    "## Key is content, value is label\n",
    "unique_map = {}\n",
    "for text in train_text_count[train_text_count > 1].index:\n",
    "    subdf = train_text_df[train_text_df.text1 == text]\n",
    "    if len(subdf['label'].value_counts()) == 1:\n",
    "        label = subdf['label'].unique()[0]\n",
    "        unique_map[text] = label\n",
    "len(unique_map)"
   ]
  },
  {
   "cell_type": "code",
   "execution_count": 10,
   "metadata": {},
   "outputs": [
    {
     "data": {
      "text/plain": [
       "20592"
      ]
     },
     "execution_count": 10,
     "metadata": {},
     "output_type": "execute_result"
    }
   ],
   "source": [
    "freq1_text_set = set(train_text_count[train_text_count == 1].index)\n",
    "freq1_df = train_text_df[train_text_df.text1.isin(freq1_text_set)]\n",
    "unique_map.update(pd.Series(freq1_df.label.values, index=freq1_df.text1).to_dict())\n",
    "len(unique_map)"
   ]
  },
  {
   "cell_type": "code",
   "execution_count": 11,
   "metadata": {},
   "outputs": [
    {
     "name": "stderr",
     "output_type": "stream",
     "text": [
      "D:\\Anaconda3\\envs\\ieee\\lib\\site-packages\\ipykernel_launcher.py:2: SettingWithCopyWarning: \n",
      "A value is trying to be set on a copy of a slice from a DataFrame.\n",
      "Try using .loc[row_indexer,col_indexer] = value instead\n",
      "\n",
      "See the caveats in the documentation: https://pandas.pydata.org/pandas-docs/stable/user_guide/indexing.html#returning-a-view-versus-a-copy\n",
      "  \n"
     ]
    }
   ],
   "source": [
    "mapped_train_df = test_text_df[test_text_df.text1.isin(unique_map)]\n",
    "mapped_train_df['label'] = mapped_train_df.text1.map(unique_map)"
   ]
  },
  {
   "cell_type": "code",
   "execution_count": 12,
   "metadata": {},
   "outputs": [
    {
     "data": {
      "text/plain": [
       "(14892, 10)"
      ]
     },
     "execution_count": 12,
     "metadata": {},
     "output_type": "execute_result"
    }
   ],
   "source": [
    "mapped_train_df.shape"
   ]
  },
  {
   "cell_type": "code",
   "execution_count": 13,
   "metadata": {},
   "outputs": [],
   "source": [
    "assert mapped_train_df.label.isnull().sum() == 0"
   ]
  },
  {
   "cell_type": "code",
   "execution_count": 14,
   "metadata": {},
   "outputs": [],
   "source": [
    "## 因为12/04处理的时候，没有去匹配在train中只出现一次的content，所以漏掉了10个sample，这10个sample应该会加到LB上\n",
    "subdf1 = pd.read_csv(\"../output/sub1205.csv\")\n",
    "check_df = mapped_train_df.merge(subdf1, on='filename', suffixes=(\"\", \"_sub\"))\n",
    "assert check_df[check_df.label != check_df.label_sub].shape[0] == 10"
   ]
  },
  {
   "cell_type": "markdown",
   "metadata": {},
   "source": [
    "## 对于'无访问权限'，从文件名可以容易推断出label,用规则来匹配"
   ]
  },
  {
   "cell_type": "code",
   "execution_count": 17,
   "metadata": {},
   "outputs": [],
   "source": [
    "permission_df = test_text_df[test_text_df.text1 == '无访问权限']"
   ]
  },
  {
   "cell_type": "code",
   "execution_count": 18,
   "metadata": {},
   "outputs": [
    {
     "data": {
      "text/plain": [
       "(2936, 9)"
      ]
     },
     "execution_count": 18,
     "metadata": {},
     "output_type": "execute_result"
    }
   ],
   "source": [
    "permission_df.shape"
   ]
  },
  {
   "cell_type": "code",
   "execution_count": 19,
   "metadata": {},
   "outputs": [
    {
     "name": "stderr",
     "output_type": "stream",
     "text": [
      "D:\\Anaconda3\\envs\\ieee\\lib\\site-packages\\ipykernel_launcher.py:12: SettingWithCopyWarning: \n",
      "A value is trying to be set on a copy of a slice from a DataFrame.\n",
      "Try using .loc[row_indexer,col_indexer] = value instead\n",
      "\n",
      "See the caveats in the documentation: https://pandas.pydata.org/pandas-docs/stable/user_guide/indexing.html#returning-a-view-versus-a-copy\n",
      "  if sys.path[0] == '':\n"
     ]
    }
   ],
   "source": [
    "def permission_rules(x):\n",
    "    x = str(x)\n",
    "    if '残疾人证办理' in x:\n",
    "        return '医疗卫生'\n",
    "    if '参股企业名录' in x or '参股公司目录' in x:\n",
    "        return '工业'\n",
    "    if '执法证件信息' in x:\n",
    "        return '政法监察'\n",
    "    if '民声阅办记录信息' in x:\n",
    "        return '文化休闲'\n",
    "\n",
    "permission_df['label'] = permission_df.filename.apply(permission_rules)"
   ]
  },
  {
   "cell_type": "code",
   "execution_count": 20,
   "metadata": {},
   "outputs": [],
   "source": [
    "assert permission_df.label.isnull().sum() == 0"
   ]
  },
  {
   "cell_type": "markdown",
   "metadata": {},
   "source": [
    "## 对于剩下的数据，根据有没有title进行划分"
   ]
  },
  {
   "cell_type": "code",
   "execution_count": 21,
   "metadata": {},
   "outputs": [],
   "source": [
    "rest_df = test_text_df[(~test_text_df.text1.isin(unique_map)) & (test_text_df.text1 != '无访问权限')]"
   ]
  },
  {
   "cell_type": "code",
   "execution_count": 22,
   "metadata": {},
   "outputs": [],
   "source": [
    "assert rest_df.shape[0] + permission_df.shape[0] + mapped_train_df.shape[0] == test_text_df.shape[0]"
   ]
  },
  {
   "cell_type": "code",
   "execution_count": 23,
   "metadata": {},
   "outputs": [],
   "source": [
    "def is_masked_filename(x):\n",
    "    if len(x) == 32 and re.sub(r'[a-z0-9]', '', x) == \"\":\n",
    "        return True\n",
    "    return False"
   ]
  },
  {
   "cell_type": "code",
   "execution_count": 24,
   "metadata": {},
   "outputs": [
    {
     "name": "stderr",
     "output_type": "stream",
     "text": [
      "D:\\Anaconda3\\envs\\ieee\\lib\\site-packages\\ipykernel_launcher.py:1: SettingWithCopyWarning: \n",
      "A value is trying to be set on a copy of a slice from a DataFrame.\n",
      "Try using .loc[row_indexer,col_indexer] = value instead\n",
      "\n",
      "See the caveats in the documentation: https://pandas.pydata.org/pandas-docs/stable/user_guide/indexing.html#returning-a-view-versus-a-copy\n",
      "  \"\"\"Entry point for launching an IPython kernel.\n",
      "D:\\Anaconda3\\envs\\ieee\\lib\\site-packages\\ipykernel_launcher.py:2: SettingWithCopyWarning: \n",
      "A value is trying to be set on a copy of a slice from a DataFrame.\n",
      "Try using .loc[row_indexer,col_indexer] = value instead\n",
      "\n",
      "See the caveats in the documentation: https://pandas.pydata.org/pandas-docs/stable/user_guide/indexing.html#returning-a-view-versus-a-copy\n",
      "  \n"
     ]
    }
   ],
   "source": [
    "rest_df['filename_str'] = rest_df.filename.apply(lambda x: x[6:-4])\n",
    "rest_df['is_masked'] = rest_df.filename_str.apply(is_masked_filename)"
   ]
  },
  {
   "cell_type": "code",
   "execution_count": 69,
   "metadata": {},
   "outputs": [],
   "source": [
    "rest_df_with_title = rest_df[rest_df.is_masked == False]\n",
    "rest_df_content_only = rest_df[rest_df.is_masked == True]"
   ]
  },
  {
   "cell_type": "code",
   "execution_count": 2,
   "metadata": {},
   "outputs": [],
   "source": [
    "# rest_df_with_title.to_csv(\"../tmp_input/rest_df_with_title_1206_chinese.csv\", index=False)"
   ]
  },
  {
   "cell_type": "code",
   "execution_count": 3,
   "metadata": {},
   "outputs": [],
   "source": [
    "# rest_df_content_only.to_csv(\"../tmp_input/rest_df_content_only_1206_chinese.csv\", index=False)"
   ]
  },
  {
   "cell_type": "code",
   "execution_count": 70,
   "metadata": {},
   "outputs": [
    {
     "data": {
      "text/plain": [
       "((223, 11), (7388, 11))"
      ]
     },
     "execution_count": 70,
     "metadata": {},
     "output_type": "execute_result"
    }
   ],
   "source": [
    "rest_df_with_title.shape, rest_df_content_only.shape"
   ]
  },
  {
   "cell_type": "code",
   "execution_count": 71,
   "metadata": {},
   "outputs": [
    {
     "name": "stderr",
     "output_type": "stream",
     "text": [
      "D:\\Anaconda3\\envs\\ieee\\lib\\site-packages\\ipykernel_launcher.py:1: SettingWithCopyWarning: \n",
      "A value is trying to be set on a copy of a slice from a DataFrame.\n",
      "Try using .loc[row_indexer,col_indexer] = value instead\n",
      "\n",
      "See the caveats in the documentation: https://pandas.pydata.org/pandas-docs/stable/user_guide/indexing.html#returning-a-view-versus-a-copy\n",
      "  \"\"\"Entry point for launching an IPython kernel.\n"
     ]
    }
   ],
   "source": [
    "rest_df_with_title['text'] = rest_df_with_title['filename_str'].apply(reserve_chinese) + rest_df_with_title['text1']"
   ]
  },
  {
   "cell_type": "markdown",
   "metadata": {},
   "source": [
    "## 读取两个模型对于title和content的预测"
   ]
  },
  {
   "cell_type": "code",
   "execution_count": 72,
   "metadata": {},
   "outputs": [],
   "source": [
    "title_df = pd.read_csv(\"../output/title_predictions.csv\")\n",
    "rest_df_with_title = rest_df_with_title.merge(title_df, how='left', on='filename')"
   ]
  },
  {
   "cell_type": "code",
   "execution_count": 74,
   "metadata": {},
   "outputs": [],
   "source": [
    "content_df = pd.read_csv('../output/content_predictions.csv')\n",
    "rest_df_content_only = rest_df_content_only.merge(content_df, on='filename', how='left')"
   ]
  },
  {
   "cell_type": "code",
   "execution_count": 77,
   "metadata": {},
   "outputs": [],
   "source": [
    "assert rest_df_with_title.shape[0] + rest_df_content_only.shape[0] + permission_df.shape[0] + mapped_train_df.shape[0] == test_text_df.shape[0]"
   ]
  },
  {
   "cell_type": "code",
   "execution_count": 79,
   "metadata": {},
   "outputs": [],
   "source": [
    "concat_df = pd.concat([rest_df_with_title[['filename', 'label']],\n",
    "            rest_df_content_only[['filename', 'label']],\n",
    "            permission_df[['filename', 'label']],\n",
    "            mapped_train_df[['filename', 'label']]])"
   ]
  },
  {
   "cell_type": "code",
   "execution_count": 81,
   "metadata": {},
   "outputs": [],
   "source": [
    "sub1207 = pd.read_csv(\"../input/submit_example_test2.csv\")"
   ]
  },
  {
   "cell_type": "code",
   "execution_count": 82,
   "metadata": {},
   "outputs": [],
   "source": [
    "sub1207 = sub1207.merge(concat_df, on='filename', suffixes=(\"_old\", \"\")).drop('label_old', axis=1)"
   ]
  },
  {
   "cell_type": "code",
   "execution_count": 40,
   "metadata": {},
   "outputs": [],
   "source": [
    "sub1207.to_csv(\"../output/sub1207.csv\", index=False)"
   ]
  }
 ],
 "metadata": {
  "kernelspec": {
   "display_name": "Python3 (ieee)",
   "language": "python",
   "name": "ieee"
  },
  "language_info": {
   "codemirror_mode": {
    "name": "ipython",
    "version": 3
   },
   "file_extension": ".py",
   "mimetype": "text/x-python",
   "name": "python",
   "nbconvert_exporter": "python",
   "pygments_lexer": "ipython3",
   "version": "3.7.6"
  }
 },
 "nbformat": 4,
 "nbformat_minor": 2
}
