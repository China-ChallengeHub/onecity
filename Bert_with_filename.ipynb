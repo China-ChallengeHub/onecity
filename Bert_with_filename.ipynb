{
 "cells": [
  {
   "cell_type": "code",
   "execution_count": 1,
   "metadata": {
    "execution": {
     "iopub.execute_input": "2020-12-05T12:41:09.651767Z",
     "iopub.status.busy": "2020-12-05T12:41:09.651018Z",
     "iopub.status.idle": "2020-12-05T12:41:09.654104Z",
     "shell.execute_reply": "2020-12-05T12:41:09.653313Z"
    },
    "papermill": {
     "duration": 0.029396,
     "end_time": "2020-12-05T12:41:09.654236",
     "exception": false,
     "start_time": "2020-12-05T12:41:09.624840",
     "status": "completed"
    },
    "tags": []
   },
   "outputs": [],
   "source": [
    "from time import time\n",
    "start_time = time()"
   ]
  },
  {
   "cell_type": "code",
   "execution_count": 2,
   "metadata": {
    "_cell_guid": "b1076dfc-b9ad-4769-8c92-a6c4dae69d19",
    "_uuid": "8f2839f25d086af736a60e9eeb907d3b93b6e0e5",
    "execution": {
     "iopub.execute_input": "2020-12-05T12:41:09.699360Z",
     "iopub.status.busy": "2020-12-05T12:41:09.698370Z",
     "iopub.status.idle": "2020-12-05T12:41:09.701463Z",
     "shell.execute_reply": "2020-12-05T12:41:09.700869Z"
    },
    "papermill": {
     "duration": 0.027357,
     "end_time": "2020-12-05T12:41:09.701592",
     "exception": false,
     "start_time": "2020-12-05T12:41:09.674235",
     "status": "completed"
    },
    "tags": []
   },
   "outputs": [],
   "source": [
    "SMALL_TEST = False\n",
    "N_FOLDS = 5\n",
    "WITH_CONTENT = True"
   ]
  },
  {
   "cell_type": "code",
   "execution_count": 3,
   "metadata": {
    "_cell_guid": "79c7e3d0-c299-4dcb-8224-4455121ee9b0",
    "_uuid": "d629ff2d2480ee46fbb7e2d37f6b5fab8052498a",
    "execution": {
     "iopub.execute_input": "2020-12-05T12:41:09.746544Z",
     "iopub.status.busy": "2020-12-05T12:41:09.745730Z",
     "iopub.status.idle": "2020-12-05T12:41:19.214528Z",
     "shell.execute_reply": "2020-12-05T12:41:19.213758Z"
    },
    "papermill": {
     "duration": 9.493408,
     "end_time": "2020-12-05T12:41:19.214649",
     "exception": false,
     "start_time": "2020-12-05T12:41:09.721241",
     "status": "completed"
    },
    "tags": []
   },
   "outputs": [
    {
     "name": "stderr",
     "output_type": "stream",
     "text": [
      "\u001b[34m\u001b[1mwandb\u001b[0m: \u001b[33mWARNING\u001b[0m W&B installed but not logged in.  Run `wandb login` or set the WANDB_API_KEY env variable.\n"
     ]
    },
    {
     "name": "stdout",
     "output_type": "stream",
     "text": [
      "2.2.0\n",
      "2.11.0\n"
     ]
    }
   ],
   "source": [
    "import tensorflow as tf\n",
    "import transformers\n",
    "\n",
    "print(tf.__version__)\n",
    "print(transformers.__version__)"
   ]
  },
  {
   "cell_type": "code",
   "execution_count": 4,
   "metadata": {
    "execution": {
     "iopub.execute_input": "2020-12-05T12:41:19.375677Z",
     "iopub.status.busy": "2020-12-05T12:41:19.274827Z",
     "iopub.status.idle": "2020-12-05T12:41:23.575712Z",
     "shell.execute_reply": "2020-12-05T12:41:23.574707Z"
    },
    "papermill": {
     "duration": 4.340247,
     "end_time": "2020-12-05T12:41:23.576007",
     "exception": false,
     "start_time": "2020-12-05T12:41:19.235760",
     "status": "completed"
    },
    "tags": []
   },
   "outputs": [
    {
     "name": "stdout",
     "output_type": "stream",
     "text": [
      "Running on TPU  ['10.0.0.2:8470']\n",
      "REPLICAS:  8\n"
     ]
    }
   ],
   "source": [
    "# Detect hardware, return appropriate distribution strategy\n",
    "try:\n",
    "    tpu = tf.distribute.cluster_resolver.TPUClusterResolver()  # TPU detection\n",
    "    print('Running on TPU ', tpu.cluster_spec().as_dict()['worker'])\n",
    "except ValueError:\n",
    "    tpu = None\n",
    "    gpus = tf.config.experimental.list_logical_devices(\"GPU\")\n",
    "\n",
    "if tpu:\n",
    "    tf.config.experimental_connect_to_cluster(tpu)\n",
    "    tf.tpu.experimental.initialize_tpu_system(tpu)\n",
    "    strategy = tf.distribute.experimental.TPUStrategy(tpu)\n",
    "elif len(gpus) > 1: # multiple GPUs in one VM\n",
    "    strategy = tf.distribute.MirroredStrategy(gpus)\n",
    "else: # default strategy that works on CPU and single GPU\n",
    "    strategy = tf.distribute.get_strategy()\n",
    "\n",
    "print(\"REPLICAS: \", strategy.num_replicas_in_sync)"
   ]
  },
  {
   "cell_type": "code",
   "execution_count": 5,
   "metadata": {
    "execution": {
     "iopub.execute_input": "2020-12-05T12:41:23.625986Z",
     "iopub.status.busy": "2020-12-05T12:41:23.625173Z",
     "iopub.status.idle": "2020-12-05T12:41:23.628733Z",
     "shell.execute_reply": "2020-12-05T12:41:23.628013Z"
    },
    "papermill": {
     "duration": 0.031012,
     "end_time": "2020-12-05T12:41:23.628895",
     "exception": false,
     "start_time": "2020-12-05T12:41:23.597883",
     "status": "completed"
    },
    "tags": []
   },
   "outputs": [],
   "source": [
    "AUTO = tf.data.experimental.AUTOTUNE\n",
    "\n",
    "# Configuration\n",
    "EPOCHS = 5\n",
    "BATCH_SIZE = 32 * strategy.num_replicas_in_sync\n",
    "MAX_LEN = 64\n",
    "\n",
    "MODEL_NAME = 'bert-base-chinese'"
   ]
  },
  {
   "cell_type": "code",
   "execution_count": 6,
   "metadata": {
    "execution": {
     "iopub.execute_input": "2020-12-05T12:41:23.691384Z",
     "iopub.status.busy": "2020-12-05T12:41:23.690554Z",
     "iopub.status.idle": "2020-12-05T12:41:24.856343Z",
     "shell.execute_reply": "2020-12-05T12:41:24.855504Z"
    },
    "papermill": {
     "duration": 1.204375,
     "end_time": "2020-12-05T12:41:24.856474",
     "exception": false,
     "start_time": "2020-12-05T12:41:23.652099",
     "status": "completed"
    },
    "tags": []
   },
   "outputs": [],
   "source": [
    "import numpy as np # linear algebra\n",
    "import pandas as pd # data processing, CSV file I/O (e.g. pd.read_csv)\n",
    "\n",
    "import re\n",
    "import os\n",
    "from tqdm.notebook import tqdm\n",
    "\n",
    "import seaborn as sns\n",
    "import plotly.express as px\n",
    "import matplotlib.pyplot as plt\n",
    "%matplotlib inline\n",
    "\n",
    "from sklearn.metrics import *\n",
    "from sklearn.model_selection import StratifiedKFold\n",
    "from sklearn.model_selection import train_test_split\n",
    "\n",
    "# TENSORFLOW\n",
    "from tensorflow.keras.layers import Dense, Input, Dropout\n",
    "from tensorflow.keras.optimizers import Adam\n",
    "from tensorflow.keras.models import Model\n",
    "from tensorflow.keras.callbacks import ModelCheckpoint\n",
    "from tensorflow.keras.utils import to_categorical\n",
    "from tensorflow.keras.layers import Dense, Input, GlobalAveragePooling1D, GlobalMaxPooling1D\n",
    "\n",
    "# HUGGINGFACE\n",
    "from tokenizers import BertWordPieceTokenizer\n",
    "from transformers import TFAutoModel, AutoTokenizer, TFBertModel\n",
    "from transformers import TFBertForSequenceClassification, TFTrainer, TFTrainingArguments\n",
    "from transformers import AdamWeightDecay"
   ]
  },
  {
   "cell_type": "code",
   "execution_count": 7,
   "metadata": {
    "execution": {
     "iopub.execute_input": "2020-12-05T12:41:24.912866Z",
     "iopub.status.busy": "2020-12-05T12:41:24.912038Z",
     "iopub.status.idle": "2020-12-05T12:41:25.869718Z",
     "shell.execute_reply": "2020-12-05T12:41:25.868999Z"
    },
    "papermill": {
     "duration": 0.99091,
     "end_time": "2020-12-05T12:41:25.869859",
     "exception": false,
     "start_time": "2020-12-05T12:41:24.878949",
     "status": "completed"
    },
    "tags": []
   },
   "outputs": [
    {
     "data": {
      "application/vnd.jupyter.widget-view+json": {
       "model_id": "bfd57ae368a644e88466a31e55a762f2",
       "version_major": 2,
       "version_minor": 0
      },
      "text/plain": [
       "HBox(children=(FloatProgress(value=0.0, description='Downloading', max=624.0, style=ProgressStyle(description_…"
      ]
     },
     "metadata": {},
     "output_type": "display_data"
    },
    {
     "name": "stdout",
     "output_type": "stream",
     "text": [
      "\n"
     ]
    },
    {
     "data": {
      "application/vnd.jupyter.widget-view+json": {
       "model_id": "0a8c9f7e120b406f985aa24e614f22b6",
       "version_major": 2,
       "version_minor": 0
      },
      "text/plain": [
       "HBox(children=(FloatProgress(value=0.0, description='Downloading', max=109540.0, style=ProgressStyle(descripti…"
      ]
     },
     "metadata": {},
     "output_type": "display_data"
    },
    {
     "name": "stdout",
     "output_type": "stream",
     "text": [
      "\n"
     ]
    }
   ],
   "source": [
    "# First load the tokenizer\n",
    "tokenizer = AutoTokenizer.from_pretrained(MODEL_NAME)"
   ]
  },
  {
   "cell_type": "code",
   "execution_count": 8,
   "metadata": {
    "execution": {
     "iopub.execute_input": "2020-12-05T12:41:25.924422Z",
     "iopub.status.busy": "2020-12-05T12:41:25.923544Z",
     "iopub.status.idle": "2020-12-05T12:41:25.929860Z",
     "shell.execute_reply": "2020-12-05T12:41:25.929112Z"
    },
    "papermill": {
     "duration": 0.035492,
     "end_time": "2020-12-05T12:41:25.929989",
     "exception": false,
     "start_time": "2020-12-05T12:41:25.894497",
     "status": "completed"
    },
    "tags": []
   },
   "outputs": [],
   "source": [
    "import pickle\n",
    "with open(\"/kaggle/input/onecity/add_tokens_1201.pkl\", 'rb') as f:\n",
    "    add_tokens = pickle.load(f)"
   ]
  },
  {
   "cell_type": "code",
   "execution_count": 9,
   "metadata": {
    "execution": {
     "iopub.execute_input": "2020-12-05T12:41:25.984933Z",
     "iopub.status.busy": "2020-12-05T12:41:25.983778Z",
     "iopub.status.idle": "2020-12-05T12:41:26.013503Z",
     "shell.execute_reply": "2020-12-05T12:41:26.012722Z"
    },
    "papermill": {
     "duration": 0.059365,
     "end_time": "2020-12-05T12:41:26.013640",
     "exception": false,
     "start_time": "2020-12-05T12:41:25.954275",
     "status": "completed"
    },
    "tags": []
   },
   "outputs": [
    {
     "data": {
      "text/plain": [
       "373"
      ]
     },
     "execution_count": 9,
     "metadata": {},
     "output_type": "execute_result"
    }
   ],
   "source": [
    "tokenizer.add_tokens(add_tokens)"
   ]
  },
  {
   "cell_type": "code",
   "execution_count": 10,
   "metadata": {
    "execution": {
     "iopub.execute_input": "2020-12-05T12:41:26.072940Z",
     "iopub.status.busy": "2020-12-05T12:41:26.072142Z",
     "iopub.status.idle": "2020-12-05T12:41:26.075578Z",
     "shell.execute_reply": "2020-12-05T12:41:26.074923Z"
    },
    "papermill": {
     "duration": 0.03682,
     "end_time": "2020-12-05T12:41:26.075710",
     "exception": false,
     "start_time": "2020-12-05T12:41:26.038890",
     "status": "completed"
    },
    "tags": []
   },
   "outputs": [],
   "source": [
    "labels = ['文化休闲', '医疗卫生', '教育科技', '城乡建设', '工业', '交通运输', '生态环境', '经济管理',\n",
    "       '政法监察', '农业畜牧业', '文秘行政', '劳动人事', '信息产业', '民政社区', '旅游服务', '商业贸易',\n",
    "       '气象水文测绘地震地理', '资源能源', '财税金融', '外交外事']\n",
    "\n",
    "label_map, inv_label_map = {}, {}\n",
    "for idx, label in enumerate(labels):\n",
    "    label_map[label] = idx\n",
    "    inv_label_map[idx] = label"
   ]
  },
  {
   "cell_type": "code",
   "execution_count": 11,
   "metadata": {
    "execution": {
     "iopub.execute_input": "2020-12-05T12:41:26.136339Z",
     "iopub.status.busy": "2020-12-05T12:41:26.135444Z",
     "iopub.status.idle": "2020-12-05T12:41:26.138765Z",
     "shell.execute_reply": "2020-12-05T12:41:26.138050Z"
    },
    "papermill": {
     "duration": 0.038057,
     "end_time": "2020-12-05T12:41:26.138906",
     "exception": false,
     "start_time": "2020-12-05T12:41:26.100849",
     "status": "completed"
    },
    "tags": []
   },
   "outputs": [],
   "source": [
    "PUNCT_SET = set(\"#《》【】[]\")\n",
    "def is_chinese(uchar: str) -> bool:\n",
    "    if uchar in PUNCT_SET:\n",
    "        return True\n",
    "    if uchar >= '\\u4e00' and uchar <= '\\u9fa5':\n",
    "        return True\n",
    "    else:\n",
    "        return False\n",
    "\n",
    "def reserve_chinese(content: str, threshold: int = 512) -> str:\n",
    "    content_str = ''\n",
    "    c = 0\n",
    "    for i in content:\n",
    "        if c == threshold:\n",
    "            break\n",
    "        if is_chinese(i):\n",
    "            content_str += i\n",
    "            c += 1\n",
    "    return content_str"
   ]
  },
  {
   "cell_type": "code",
   "execution_count": 12,
   "metadata": {
    "execution": {
     "iopub.execute_input": "2020-12-05T12:41:26.198935Z",
     "iopub.status.busy": "2020-12-05T12:41:26.198027Z",
     "iopub.status.idle": "2020-12-05T12:41:37.629263Z",
     "shell.execute_reply": "2020-12-05T12:41:37.628411Z"
    },
    "papermill": {
     "duration": 11.46507,
     "end_time": "2020-12-05T12:41:37.629401",
     "exception": false,
     "start_time": "2020-12-05T12:41:26.164331",
     "status": "completed"
    },
    "tags": []
   },
   "outputs": [],
   "source": [
    "train_df = pd.read_csv(\"/kaggle/input/onecity/train_df_processed_1204_punctuations_aug.csv\")\n",
    "train_df['text'] = train_df['text'].apply(eval).apply(lambda x: x[0])\n",
    "train_df['filename_chinese'] = train_df.filename.apply(reserve_chinese)\n",
    "train_df['text'] = train_df['filename_chinese'] + train_df['text']"
   ]
  },
  {
   "cell_type": "code",
   "execution_count": 13,
   "metadata": {
    "execution": {
     "iopub.execute_input": "2020-12-05T12:41:37.720449Z",
     "iopub.status.busy": "2020-12-05T12:41:37.715194Z",
     "iopub.status.idle": "2020-12-05T12:41:37.779049Z",
     "shell.execute_reply": "2020-12-05T12:41:37.778173Z"
    },
    "papermill": {
     "duration": 0.124089,
     "end_time": "2020-12-05T12:41:37.779188",
     "exception": false,
     "start_time": "2020-12-05T12:41:37.655099",
     "status": "completed"
    },
    "tags": []
   },
   "outputs": [],
   "source": [
    "train_df['text'] = train_df['text'].apply(lambda x: str(x)[:MAX_LEN - 2])"
   ]
  },
  {
   "cell_type": "code",
   "execution_count": 14,
   "metadata": {
    "execution": {
     "iopub.execute_input": "2020-12-05T12:41:37.851593Z",
     "iopub.status.busy": "2020-12-05T12:41:37.846291Z",
     "iopub.status.idle": "2020-12-05T12:43:12.810234Z",
     "shell.execute_reply": "2020-12-05T12:43:12.811208Z"
    },
    "papermill": {
     "duration": 95.005825,
     "end_time": "2020-12-05T12:43:12.811476",
     "exception": false,
     "start_time": "2020-12-05T12:41:37.805651",
     "status": "completed"
    },
    "tags": []
   },
   "outputs": [
    {
     "name": "stdout",
     "output_type": "stream",
     "text": [
      "CPU times: user 1min 34s, sys: 185 ms, total: 1min 34s\n",
      "Wall time: 1min 34s\n"
     ]
    }
   ],
   "source": [
    "%%time\n",
    "train_encoded = tokenizer.batch_encode_plus(\n",
    "    train_df.text.values,\n",
    "    pad_to_max_length=True,\n",
    "    max_length=MAX_LEN\n",
    ")"
   ]
  },
  {
   "cell_type": "code",
   "execution_count": 15,
   "metadata": {
    "execution": {
     "iopub.execute_input": "2020-12-05T12:43:13.765341Z",
     "iopub.status.busy": "2020-12-05T12:43:13.764422Z",
     "iopub.status.idle": "2020-12-05T12:43:13.768574Z",
     "shell.execute_reply": "2020-12-05T12:43:13.767852Z"
    },
    "papermill": {
     "duration": 0.923396,
     "end_time": "2020-12-05T12:43:13.768696",
     "exception": false,
     "start_time": "2020-12-05T12:43:12.845300",
     "status": "completed"
    },
    "tags": []
   },
   "outputs": [],
   "source": [
    "x = np.array(train_encoded['input_ids'])\n",
    "y = train_df['label'].map(label_map).values"
   ]
  },
  {
   "cell_type": "code",
   "execution_count": 16,
   "metadata": {
    "execution": {
     "iopub.execute_input": "2020-12-05T12:43:13.828521Z",
     "iopub.status.busy": "2020-12-05T12:43:13.827398Z",
     "iopub.status.idle": "2020-12-05T12:43:13.831907Z",
     "shell.execute_reply": "2020-12-05T12:43:13.831312Z"
    },
    "papermill": {
     "duration": 0.036793,
     "end_time": "2020-12-05T12:43:13.832036",
     "exception": false,
     "start_time": "2020-12-05T12:43:13.795243",
     "status": "completed"
    },
    "tags": []
   },
   "outputs": [
    {
     "data": {
      "text/plain": [
       "(60000, 60000)"
      ]
     },
     "execution_count": 16,
     "metadata": {},
     "output_type": "execute_result"
    }
   ],
   "source": [
    "len(x), len(y)"
   ]
  },
  {
   "cell_type": "code",
   "execution_count": 17,
   "metadata": {
    "execution": {
     "iopub.execute_input": "2020-12-05T12:43:13.897026Z",
     "iopub.status.busy": "2020-12-05T12:43:13.895048Z",
     "iopub.status.idle": "2020-12-05T12:43:13.900490Z",
     "shell.execute_reply": "2020-12-05T12:43:13.899690Z"
    },
    "papermill": {
     "duration": 0.041202,
     "end_time": "2020-12-05T12:43:13.900623",
     "exception": false,
     "start_time": "2020-12-05T12:43:13.859421",
     "status": "completed"
    },
    "tags": []
   },
   "outputs": [],
   "source": [
    "def build_model(model_name, max_len):\n",
    "    # First load the transformer layer\n",
    "    if MODEL_NAME == 'bert-base-chinese':\n",
    "        transformer_encoder = TFAutoModel.from_pretrained(model_name)\n",
    "    else:\n",
    "        transformer_encoder = TFBertModel.from_pretrained(model_name, from_pt=True)\n",
    "\n",
    "    # This will be the input tokens \n",
    "    input_ids = Input(shape=(max_len,), dtype=tf.int32, name=\"input_ids\")\n",
    "\n",
    "    # Now, we encode the text using the transformers we just loaded\n",
    "    sequence_output = transformer_encoder(input_ids)[0]\n",
    "\n",
    "    # Only extract the token used for classification, which is <s>\n",
    "    cls_token = sequence_output[:, 0, :]\n",
    "\n",
    "    # Finally, pass it through a 3-way softmax, since there's 3 possible laels\n",
    "    out = Dense(20, activation='softmax')(cls_token)\n",
    "\n",
    "    # It's time to build and compile the model\n",
    "    model = Model(inputs=input_ids, outputs=out)\n",
    "    model.compile(\n",
    "        Adam(lr=3e-5),\n",
    "        loss='sparse_categorical_crossentropy', \n",
    "        metrics=['accuracy']\n",
    "    )\n",
    "    return model"
   ]
  },
  {
   "cell_type": "code",
   "execution_count": 18,
   "metadata": {
    "execution": {
     "iopub.execute_input": "2020-12-05T12:43:13.965155Z",
     "iopub.status.busy": "2020-12-05T12:43:13.964343Z",
     "iopub.status.idle": "2020-12-05T12:43:13.975348Z",
     "shell.execute_reply": "2020-12-05T12:43:13.974648Z"
    },
    "papermill": {
     "duration": 0.047324,
     "end_time": "2020-12-05T12:43:13.975494",
     "exception": false,
     "start_time": "2020-12-05T12:43:13.928170",
     "status": "completed"
    },
    "tags": []
   },
   "outputs": [],
   "source": [
    "test_df = pd.read_csv(\"/kaggle/input/onecity/rest_df_with_title.csv\")\n",
    "test_df[\"text\"] = test_df[\"text\"].apply(lambda x: str(x)[:MAX_LEN-2])"
   ]
  },
  {
   "cell_type": "code",
   "execution_count": 19,
   "metadata": {
    "execution": {
     "iopub.execute_input": "2020-12-05T12:43:14.095667Z",
     "iopub.status.busy": "2020-12-05T12:43:14.059555Z",
     "iopub.status.idle": "2020-12-05T12:43:14.412411Z",
     "shell.execute_reply": "2020-12-05T12:43:14.411421Z"
    },
    "papermill": {
     "duration": 0.409737,
     "end_time": "2020-12-05T12:43:14.412576",
     "exception": false,
     "start_time": "2020-12-05T12:43:14.002839",
     "status": "completed"
    },
    "tags": []
   },
   "outputs": [
    {
     "name": "stdout",
     "output_type": "stream",
     "text": [
      "CPU times: user 371 ms, sys: 2.03 ms, total: 373 ms\n",
      "Wall time: 371 ms\n"
     ]
    }
   ],
   "source": [
    "%%time\n",
    "test_encoded = tokenizer.batch_encode_plus(\n",
    "    test_df[\"text\"].values,\n",
    "    pad_to_max_length=True,\n",
    "    max_length=MAX_LEN\n",
    ")\n",
    "x_test = np.array(test_encoded['input_ids'])\n",
    "test_dataset = (\n",
    "    tf.data.Dataset\n",
    "    .from_tensor_slices(x_test)\n",
    "    .batch(BATCH_SIZE)\n",
    ")"
   ]
  },
  {
   "cell_type": "code",
   "execution_count": 20,
   "metadata": {
    "execution": {
     "iopub.execute_input": "2020-12-05T12:43:14.477310Z",
     "iopub.status.busy": "2020-12-05T12:43:14.476521Z",
     "iopub.status.idle": "2020-12-05T12:43:14.480194Z",
     "shell.execute_reply": "2020-12-05T12:43:14.479471Z"
    },
    "papermill": {
     "duration": 0.039325,
     "end_time": "2020-12-05T12:43:14.480320",
     "exception": false,
     "start_time": "2020-12-05T12:43:14.440995",
     "status": "completed"
    },
    "tags": []
   },
   "outputs": [],
   "source": [
    "kfold = StratifiedKFold(n_splits=N_FOLDS)\n",
    "\n",
    "train_df['y_pred'] = \"\"\n",
    "train_df['proba'] = 0.0"
   ]
  },
  {
   "cell_type": "code",
   "execution_count": 21,
   "metadata": {
    "execution": {
     "iopub.execute_input": "2020-12-05T12:43:14.555630Z",
     "iopub.status.busy": "2020-12-05T12:43:14.554849Z",
     "iopub.status.idle": "2020-12-05T13:05:06.391998Z",
     "shell.execute_reply": "2020-12-05T13:05:06.391227Z"
    },
    "papermill": {
     "duration": 1311.883686,
     "end_time": "2020-12-05T13:05:06.392172",
     "exception": false,
     "start_time": "2020-12-05T12:43:14.508486",
     "status": "completed"
    },
    "tags": []
   },
   "outputs": [
    {
     "data": {
      "application/vnd.jupyter.widget-view+json": {
       "model_id": "33b963ebae1648d786367d9b852e3601",
       "version_major": 2,
       "version_minor": 0
      },
      "text/plain": [
       "HBox(children=(FloatProgress(value=0.0, description='Downloading', max=478309336.0, style=ProgressStyle(descri…"
      ]
     },
     "metadata": {},
     "output_type": "display_data"
    },
    {
     "name": "stdout",
     "output_type": "stream",
     "text": [
      "\n",
      "Epoch 1/5\n",
      "187/187 [==============================] - 52s 277ms/step - accuracy: 0.9045 - loss: 0.3451 - val_accuracy: 0.9668 - val_loss: 0.1127\n",
      "Epoch 2/5\n",
      "187/187 [==============================] - 24s 127ms/step - accuracy: 0.9724 - loss: 0.0915 - val_accuracy: 0.9744 - val_loss: 0.0928\n",
      "Epoch 3/5\n",
      "187/187 [==============================] - 24s 126ms/step - accuracy: 0.9836 - loss: 0.0542 - val_accuracy: 0.9769 - val_loss: 0.0881\n",
      "Epoch 4/5\n",
      "187/187 [==============================] - 24s 127ms/step - accuracy: 0.9894 - loss: 0.0355 - val_accuracy: 0.9774 - val_loss: 0.0910\n",
      "Epoch 5/5\n",
      "187/187 [==============================] - 24s 126ms/step - accuracy: 0.9922 - loss: 0.0256 - val_accuracy: 0.9797 - val_loss: 0.0827\n",
      "1/1 [==============================] - 0s 2ms/step\n",
      "Epoch 1/5\n",
      "187/187 [==============================] - 40s 213ms/step - accuracy: 0.9110 - loss: 0.3328 - val_accuracy: 0.9662 - val_loss: 0.1119\n",
      "Epoch 2/5\n",
      "187/187 [==============================] - 24s 127ms/step - accuracy: 0.9733 - loss: 0.0884 - val_accuracy: 0.9719 - val_loss: 0.0961\n",
      "Epoch 3/5\n",
      "187/187 [==============================] - 24s 127ms/step - accuracy: 0.9841 - loss: 0.0513 - val_accuracy: 0.9753 - val_loss: 0.0972\n",
      "Epoch 4/5\n",
      "187/187 [==============================] - 24s 128ms/step - accuracy: 0.9896 - loss: 0.0339 - val_accuracy: 0.9766 - val_loss: 0.1013\n",
      "Epoch 5/5\n",
      "187/187 [==============================] - 24s 127ms/step - accuracy: 0.9922 - loss: 0.0246 - val_accuracy: 0.9764 - val_loss: 0.1057\n",
      "1/1 [==============================] - 0s 2ms/step\n",
      "Epoch 1/5\n",
      "187/187 [==============================] - 41s 218ms/step - accuracy: 0.9043 - loss: 0.3489 - val_accuracy: 0.9634 - val_loss: 0.1328\n",
      "Epoch 2/5\n",
      "187/187 [==============================] - 24s 128ms/step - accuracy: 0.9733 - loss: 0.0915 - val_accuracy: 0.9713 - val_loss: 0.1104\n",
      "Epoch 3/5\n",
      "187/187 [==============================] - 26s 137ms/step - accuracy: 0.9832 - loss: 0.0530 - val_accuracy: 0.9758 - val_loss: 0.0966\n",
      "Epoch 4/5\n",
      "187/187 [==============================] - 24s 128ms/step - accuracy: 0.9892 - loss: 0.0344 - val_accuracy: 0.9781 - val_loss: 0.1002\n",
      "Epoch 5/5\n",
      "187/187 [==============================] - 24s 128ms/step - accuracy: 0.9923 - loss: 0.0240 - val_accuracy: 0.9758 - val_loss: 0.1151\n",
      "1/1 [==============================] - 0s 2ms/step\n",
      "Epoch 1/5\n",
      "187/187 [==============================] - 41s 217ms/step - accuracy: 0.9118 - loss: 0.3218 - val_accuracy: 0.9635 - val_loss: 0.1271\n",
      "Epoch 2/5\n",
      "187/187 [==============================] - 24s 127ms/step - accuracy: 0.9735 - loss: 0.0873 - val_accuracy: 0.9717 - val_loss: 0.1137\n",
      "Epoch 3/5\n",
      "187/187 [==============================] - 24s 128ms/step - accuracy: 0.9848 - loss: 0.0508 - val_accuracy: 0.9738 - val_loss: 0.1083\n",
      "Epoch 4/5\n",
      "187/187 [==============================] - 24s 128ms/step - accuracy: 0.9898 - loss: 0.0322 - val_accuracy: 0.9756 - val_loss: 0.1034\n",
      "Epoch 5/5\n",
      "187/187 [==============================] - 24s 128ms/step - accuracy: 0.9927 - loss: 0.0235 - val_accuracy: 0.9767 - val_loss: 0.1096\n",
      "1/1 [==============================] - 0s 2ms/step\n",
      "Epoch 1/5\n",
      "187/187 [==============================] - 43s 231ms/step - accuracy: 0.9094 - loss: 0.3250 - val_accuracy: 0.9658 - val_loss: 0.1164\n",
      "Epoch 2/5\n",
      "187/187 [==============================] - 24s 127ms/step - accuracy: 0.9732 - loss: 0.0876 - val_accuracy: 0.9742 - val_loss: 0.0938\n",
      "Epoch 3/5\n",
      "187/187 [==============================] - 24s 128ms/step - accuracy: 0.9834 - loss: 0.0541 - val_accuracy: 0.9762 - val_loss: 0.0911\n",
      "Epoch 4/5\n",
      "187/187 [==============================] - 24s 129ms/step - accuracy: 0.9892 - loss: 0.0349 - val_accuracy: 0.9771 - val_loss: 0.1011\n",
      "Epoch 5/5\n",
      "187/187 [==============================] - 24s 127ms/step - accuracy: 0.9922 - loss: 0.0257 - val_accuracy: 0.9782 - val_loss: 0.1048\n",
      "1/1 [==============================] - 0s 2ms/step\n"
     ]
    }
   ],
   "source": [
    "test_pred_results = []\n",
    "all_accs = []\n",
    "for ii, (tr, tt) in enumerate(kfold.split(X=y, y=y)):\n",
    "    if tpu:\n",
    "        tf.config.experimental_connect_to_cluster(tpu)\n",
    "        tf.tpu.experimental.initialize_tpu_system(tpu)\n",
    "        strategy = tf.distribute.experimental.TPUStrategy(tpu)\n",
    "    elif len(gpus) > 1: # multiple GPUs in one VM\n",
    "        strategy = tf.distribute.MirroredStrategy(gpus)\n",
    "    else: # default strategy that works on CPU and single GPU\n",
    "        strategy = tf.distribute.get_strategy()\n",
    "    \n",
    "    # Prepare KFold data\n",
    "    y_train, y_valid = y[tr], y[tt]\n",
    "    \n",
    "    x_train = x[tr]\n",
    "    x_valid = x[tt]\n",
    "\n",
    "    train_dataset = (\n",
    "        tf.data.Dataset\n",
    "        .from_tensor_slices((x_train, y_train))\n",
    "        .repeat()\n",
    "        .shuffle(2048)\n",
    "        .batch(BATCH_SIZE)\n",
    "        .prefetch(AUTO)\n",
    "    )\n",
    "    valid_dataset = (\n",
    "        tf.data.Dataset\n",
    "        .from_tensor_slices((x_valid, y_valid))\n",
    "        .batch(BATCH_SIZE)\n",
    "        .cache()\n",
    "        .prefetch(AUTO)\n",
    "    )\n",
    "\n",
    "    with strategy.scope():\n",
    "        model = build_model(MODEL_NAME, MAX_LEN)\n",
    "\n",
    "    n_steps = len(x_train) // BATCH_SIZE\n",
    "    train_history = model.fit(\n",
    "        train_dataset,\n",
    "        steps_per_epoch=n_steps,\n",
    "        validation_data=valid_dataset,\n",
    "        epochs=EPOCHS\n",
    "    )\n",
    "    acc = train_history.history['val_accuracy'][-1]\n",
    "    all_accs.append(acc)\n",
    "    \n",
    "    # Prediction on test set\n",
    "    test_probs = model.predict(test_dataset, verbose=1)\n",
    "    test_pred_results.append(test_probs)"
   ]
  },
  {
   "cell_type": "code",
   "execution_count": 22,
   "metadata": {
    "execution": {
     "iopub.execute_input": "2020-12-05T13:05:10.277159Z",
     "iopub.status.busy": "2020-12-05T13:05:10.276189Z",
     "iopub.status.idle": "2020-12-05T13:05:10.279819Z",
     "shell.execute_reply": "2020-12-05T13:05:10.280620Z"
    },
    "papermill": {
     "duration": 1.922985,
     "end_time": "2020-12-05T13:05:10.280830",
     "exception": false,
     "start_time": "2020-12-05T13:05:08.357845",
     "status": "completed"
    },
    "tags": []
   },
   "outputs": [
    {
     "name": "stdout",
     "output_type": "stream",
     "text": [
      "[0.9796666502952576, 0.9764166474342346, 0.9758332967758179, 0.9766666293144226, 0.9782499670982361]\n",
      "0.9773666381835937\n"
     ]
    }
   ],
   "source": [
    "print(all_accs)\n",
    "print(np.mean(all_accs))"
   ]
  },
  {
   "cell_type": "code",
   "execution_count": 23,
   "metadata": {
    "execution": {
     "iopub.execute_input": "2020-12-05T13:05:14.197781Z",
     "iopub.status.busy": "2020-12-05T13:05:14.193053Z",
     "iopub.status.idle": "2020-12-05T13:05:14.263708Z",
     "shell.execute_reply": "2020-12-05T13:05:14.262973Z"
    },
    "papermill": {
     "duration": 2.023194,
     "end_time": "2020-12-05T13:05:14.263891",
     "exception": false,
     "start_time": "2020-12-05T13:05:12.240697",
     "status": "completed"
    },
    "tags": []
   },
   "outputs": [],
   "source": [
    "test_preds = np.argmax(np.sum(test_pred_results, axis=0), axis=-1)\n",
    "test_df['label'] = np.vectorize(inv_label_map.get)(test_preds)\n",
    "test_df[['filename', 'label']].to_csv(\"title_223_prediction.csv\", index=False, encoding='utf-8')"
   ]
  },
  {
   "cell_type": "code",
   "execution_count": 24,
   "metadata": {
    "execution": {
     "iopub.execute_input": "2020-12-05T13:05:18.114315Z",
     "iopub.status.busy": "2020-12-05T13:05:18.113337Z",
     "iopub.status.idle": "2020-12-05T13:05:18.117671Z",
     "shell.execute_reply": "2020-12-05T13:05:18.118445Z"
    },
    "papermill": {
     "duration": 1.93678,
     "end_time": "2020-12-05T13:05:18.118633",
     "exception": false,
     "start_time": "2020-12-05T13:05:16.181853",
     "status": "completed"
    },
    "tags": []
   },
   "outputs": [
    {
     "name": "stdout",
     "output_type": "stream",
     "text": [
      "Total Running Time: 1448.462 seconds\n"
     ]
    }
   ],
   "source": [
    "print(f\"Total Running Time: {time() - start_time:.3f} seconds\")"
   ]
  }
 ],
 "metadata": {
  "kernelspec": {
   "display_name": "Python 3",
   "language": "python",
   "name": "python3"
  },
  "language_info": {
   "codemirror_mode": {
    "name": "ipython",
    "version": 3
   },
   "file_extension": ".py",
   "mimetype": "text/x-python",
   "name": "python",
   "nbconvert_exporter": "python",
   "pygments_lexer": "ipython3",
   "version": "3.5.5"
  },
  "papermill": {
   "duration": 1455.755884,
   "end_time": "2020-12-05T13:05:20.268100",
   "environment_variables": {},
   "exception": null,
   "input_path": "__notebook__.ipynb",
   "output_path": "__notebook__.ipynb",
   "parameters": {},
   "start_time": "2020-12-05T12:41:04.512216",
   "version": "2.1.0"
  },
  "widgets": {
   "application/vnd.jupyter.widget-state+json": {
    "state": {
     "0a8c9f7e120b406f985aa24e614f22b6": {
      "model_module": "@jupyter-widgets/controls",
      "model_module_version": "1.5.0",
      "model_name": "HBoxModel",
      "state": {
       "_dom_classes": [],
       "_model_module": "@jupyter-widgets/controls",
       "_model_module_version": "1.5.0",
       "_model_name": "HBoxModel",
       "_view_count": null,
       "_view_module": "@jupyter-widgets/controls",
       "_view_module_version": "1.5.0",
       "_view_name": "HBoxView",
       "box_style": "",
       "children": [
        "IPY_MODEL_82fe5b7e26fe44b585ccbd81d020cf74",
        "IPY_MODEL_1de54a5c8e824645b79d05487aa955ee"
       ],
       "layout": "IPY_MODEL_a3d2685024a643b68ccf74eac499d2ff"
      }
     },
     "18496801d880456a8e75a9e13b99df1b": {
      "model_module": "@jupyter-widgets/controls",
      "model_module_version": "1.5.0",
      "model_name": "DescriptionStyleModel",
      "state": {
       "_model_module": "@jupyter-widgets/controls",
       "_model_module_version": "1.5.0",
       "_model_name": "DescriptionStyleModel",
       "_view_count": null,
       "_view_module": "@jupyter-widgets/base",
       "_view_module_version": "1.2.0",
       "_view_name": "StyleView",
       "description_width": ""
      }
     },
     "1de54a5c8e824645b79d05487aa955ee": {
      "model_module": "@jupyter-widgets/controls",
      "model_module_version": "1.5.0",
      "model_name": "HTMLModel",
      "state": {
       "_dom_classes": [],
       "_model_module": "@jupyter-widgets/controls",
       "_model_module_version": "1.5.0",
       "_model_name": "HTMLModel",
       "_view_count": null,
       "_view_module": "@jupyter-widgets/controls",
       "_view_module_version": "1.5.0",
       "_view_name": "HTMLView",
       "description": "",
       "description_tooltip": null,
       "layout": "IPY_MODEL_99ff06b8e33c469ba7de385704763223",
       "placeholder": "​",
       "style": "IPY_MODEL_aeecfc7137d54febab8c2cc69ea41339",
       "value": " 110k/110k [00:00&lt;00:00, 929kB/s]"
      }
     },
     "321948bc8a3447928de5c58031b48c5b": {
      "model_module": "@jupyter-widgets/base",
      "model_module_version": "1.2.0",
      "model_name": "LayoutModel",
      "state": {
       "_model_module": "@jupyter-widgets/base",
       "_model_module_version": "1.2.0",
       "_model_name": "LayoutModel",
       "_view_count": null,
       "_view_module": "@jupyter-widgets/base",
       "_view_module_version": "1.2.0",
       "_view_name": "LayoutView",
       "align_content": null,
       "align_items": null,
       "align_self": null,
       "border": null,
       "bottom": null,
       "display": null,
       "flex": null,
       "flex_flow": null,
       "grid_area": null,
       "grid_auto_columns": null,
       "grid_auto_flow": null,
       "grid_auto_rows": null,
       "grid_column": null,
       "grid_gap": null,
       "grid_row": null,
       "grid_template_areas": null,
       "grid_template_columns": null,
       "grid_template_rows": null,
       "height": null,
       "justify_content": null,
       "justify_items": null,
       "left": null,
       "margin": null,
       "max_height": null,
       "max_width": null,
       "min_height": null,
       "min_width": null,
       "object_fit": null,
       "object_position": null,
       "order": null,
       "overflow": null,
       "overflow_x": null,
       "overflow_y": null,
       "padding": null,
       "right": null,
       "top": null,
       "visibility": null,
       "width": null
      }
     },
     "33b963ebae1648d786367d9b852e3601": {
      "model_module": "@jupyter-widgets/controls",
      "model_module_version": "1.5.0",
      "model_name": "HBoxModel",
      "state": {
       "_dom_classes": [],
       "_model_module": "@jupyter-widgets/controls",
       "_model_module_version": "1.5.0",
       "_model_name": "HBoxModel",
       "_view_count": null,
       "_view_module": "@jupyter-widgets/controls",
       "_view_module_version": "1.5.0",
       "_view_name": "HBoxView",
       "box_style": "",
       "children": [
        "IPY_MODEL_607c5eb0ff4e4b93bb71cc13ffb86d98",
        "IPY_MODEL_8e7a27b8412b4a3c9fbf2dbb95b1f5bf"
       ],
       "layout": "IPY_MODEL_9a8eb0f6a8e8424a846f717f197468b3"
      }
     },
     "4cf5f09601e94e01b260583ebe8b8f8a": {
      "model_module": "@jupyter-widgets/base",
      "model_module_version": "1.2.0",
      "model_name": "LayoutModel",
      "state": {
       "_model_module": "@jupyter-widgets/base",
       "_model_module_version": "1.2.0",
       "_model_name": "LayoutModel",
       "_view_count": null,
       "_view_module": "@jupyter-widgets/base",
       "_view_module_version": "1.2.0",
       "_view_name": "LayoutView",
       "align_content": null,
       "align_items": null,
       "align_self": null,
       "border": null,
       "bottom": null,
       "display": null,
       "flex": null,
       "flex_flow": null,
       "grid_area": null,
       "grid_auto_columns": null,
       "grid_auto_flow": null,
       "grid_auto_rows": null,
       "grid_column": null,
       "grid_gap": null,
       "grid_row": null,
       "grid_template_areas": null,
       "grid_template_columns": null,
       "grid_template_rows": null,
       "height": null,
       "justify_content": null,
       "justify_items": null,
       "left": null,
       "margin": null,
       "max_height": null,
       "max_width": null,
       "min_height": null,
       "min_width": null,
       "object_fit": null,
       "object_position": null,
       "order": null,
       "overflow": null,
       "overflow_x": null,
       "overflow_y": null,
       "padding": null,
       "right": null,
       "top": null,
       "visibility": null,
       "width": null
      }
     },
     "607c5eb0ff4e4b93bb71cc13ffb86d98": {
      "model_module": "@jupyter-widgets/controls",
      "model_module_version": "1.5.0",
      "model_name": "FloatProgressModel",
      "state": {
       "_dom_classes": [],
       "_model_module": "@jupyter-widgets/controls",
       "_model_module_version": "1.5.0",
       "_model_name": "FloatProgressModel",
       "_view_count": null,
       "_view_module": "@jupyter-widgets/controls",
       "_view_module_version": "1.5.0",
       "_view_name": "ProgressView",
       "bar_style": "success",
       "description": "Downloading: 100%",
       "description_tooltip": null,
       "layout": "IPY_MODEL_9fcd3639e21b407bbe04007f7fe20536",
       "max": 478309336,
       "min": 0,
       "orientation": "horizontal",
       "style": "IPY_MODEL_7340736f6b474a428ad2689d69d49e18",
       "value": 478309336
      }
     },
     "6bf926758b94441aa25071ee179567c3": {
      "model_module": "@jupyter-widgets/controls",
      "model_module_version": "1.5.0",
      "model_name": "HTMLModel",
      "state": {
       "_dom_classes": [],
       "_model_module": "@jupyter-widgets/controls",
       "_model_module_version": "1.5.0",
       "_model_name": "HTMLModel",
       "_view_count": null,
       "_view_module": "@jupyter-widgets/controls",
       "_view_module_version": "1.5.0",
       "_view_name": "HTMLView",
       "description": "",
       "description_tooltip": null,
       "layout": "IPY_MODEL_852ec5446081464d879517b86f5a46a9",
       "placeholder": "​",
       "style": "IPY_MODEL_18496801d880456a8e75a9e13b99df1b",
       "value": " 624/624 [00:00&lt;00:00, 1.19kB/s]"
      }
     },
     "7340736f6b474a428ad2689d69d49e18": {
      "model_module": "@jupyter-widgets/controls",
      "model_module_version": "1.5.0",
      "model_name": "ProgressStyleModel",
      "state": {
       "_model_module": "@jupyter-widgets/controls",
       "_model_module_version": "1.5.0",
       "_model_name": "ProgressStyleModel",
       "_view_count": null,
       "_view_module": "@jupyter-widgets/base",
       "_view_module_version": "1.2.0",
       "_view_name": "StyleView",
       "bar_color": null,
       "description_width": "initial"
      }
     },
     "82fe5b7e26fe44b585ccbd81d020cf74": {
      "model_module": "@jupyter-widgets/controls",
      "model_module_version": "1.5.0",
      "model_name": "FloatProgressModel",
      "state": {
       "_dom_classes": [],
       "_model_module": "@jupyter-widgets/controls",
       "_model_module_version": "1.5.0",
       "_model_name": "FloatProgressModel",
       "_view_count": null,
       "_view_module": "@jupyter-widgets/controls",
       "_view_module_version": "1.5.0",
       "_view_name": "ProgressView",
       "bar_style": "success",
       "description": "Downloading: 100%",
       "description_tooltip": null,
       "layout": "IPY_MODEL_aa0384fae5b34535ad3283d0d732f709",
       "max": 109540,
       "min": 0,
       "orientation": "horizontal",
       "style": "IPY_MODEL_d9568b3f5240460e8e9e635acafb5e17",
       "value": 109540
      }
     },
     "852ec5446081464d879517b86f5a46a9": {
      "model_module": "@jupyter-widgets/base",
      "model_module_version": "1.2.0",
      "model_name": "LayoutModel",
      "state": {
       "_model_module": "@jupyter-widgets/base",
       "_model_module_version": "1.2.0",
       "_model_name": "LayoutModel",
       "_view_count": null,
       "_view_module": "@jupyter-widgets/base",
       "_view_module_version": "1.2.0",
       "_view_name": "LayoutView",
       "align_content": null,
       "align_items": null,
       "align_self": null,
       "border": null,
       "bottom": null,
       "display": null,
       "flex": null,
       "flex_flow": null,
       "grid_area": null,
       "grid_auto_columns": null,
       "grid_auto_flow": null,
       "grid_auto_rows": null,
       "grid_column": null,
       "grid_gap": null,
       "grid_row": null,
       "grid_template_areas": null,
       "grid_template_columns": null,
       "grid_template_rows": null,
       "height": null,
       "justify_content": null,
       "justify_items": null,
       "left": null,
       "margin": null,
       "max_height": null,
       "max_width": null,
       "min_height": null,
       "min_width": null,
       "object_fit": null,
       "object_position": null,
       "order": null,
       "overflow": null,
       "overflow_x": null,
       "overflow_y": null,
       "padding": null,
       "right": null,
       "top": null,
       "visibility": null,
       "width": null
      }
     },
     "8e7a27b8412b4a3c9fbf2dbb95b1f5bf": {
      "model_module": "@jupyter-widgets/controls",
      "model_module_version": "1.5.0",
      "model_name": "HTMLModel",
      "state": {
       "_dom_classes": [],
       "_model_module": "@jupyter-widgets/controls",
       "_model_module_version": "1.5.0",
       "_model_name": "HTMLModel",
       "_view_count": null,
       "_view_module": "@jupyter-widgets/controls",
       "_view_module_version": "1.5.0",
       "_view_name": "HTMLView",
       "description": "",
       "description_tooltip": null,
       "layout": "IPY_MODEL_321948bc8a3447928de5c58031b48c5b",
       "placeholder": "​",
       "style": "IPY_MODEL_edc76d9245824c1fa5c71f0531449a2c",
       "value": " 478M/478M [00:14&lt;00:00, 32.7MB/s]"
      }
     },
     "99ff06b8e33c469ba7de385704763223": {
      "model_module": "@jupyter-widgets/base",
      "model_module_version": "1.2.0",
      "model_name": "LayoutModel",
      "state": {
       "_model_module": "@jupyter-widgets/base",
       "_model_module_version": "1.2.0",
       "_model_name": "LayoutModel",
       "_view_count": null,
       "_view_module": "@jupyter-widgets/base",
       "_view_module_version": "1.2.0",
       "_view_name": "LayoutView",
       "align_content": null,
       "align_items": null,
       "align_self": null,
       "border": null,
       "bottom": null,
       "display": null,
       "flex": null,
       "flex_flow": null,
       "grid_area": null,
       "grid_auto_columns": null,
       "grid_auto_flow": null,
       "grid_auto_rows": null,
       "grid_column": null,
       "grid_gap": null,
       "grid_row": null,
       "grid_template_areas": null,
       "grid_template_columns": null,
       "grid_template_rows": null,
       "height": null,
       "justify_content": null,
       "justify_items": null,
       "left": null,
       "margin": null,
       "max_height": null,
       "max_width": null,
       "min_height": null,
       "min_width": null,
       "object_fit": null,
       "object_position": null,
       "order": null,
       "overflow": null,
       "overflow_x": null,
       "overflow_y": null,
       "padding": null,
       "right": null,
       "top": null,
       "visibility": null,
       "width": null
      }
     },
     "9a8eb0f6a8e8424a846f717f197468b3": {
      "model_module": "@jupyter-widgets/base",
      "model_module_version": "1.2.0",
      "model_name": "LayoutModel",
      "state": {
       "_model_module": "@jupyter-widgets/base",
       "_model_module_version": "1.2.0",
       "_model_name": "LayoutModel",
       "_view_count": null,
       "_view_module": "@jupyter-widgets/base",
       "_view_module_version": "1.2.0",
       "_view_name": "LayoutView",
       "align_content": null,
       "align_items": null,
       "align_self": null,
       "border": null,
       "bottom": null,
       "display": null,
       "flex": null,
       "flex_flow": null,
       "grid_area": null,
       "grid_auto_columns": null,
       "grid_auto_flow": null,
       "grid_auto_rows": null,
       "grid_column": null,
       "grid_gap": null,
       "grid_row": null,
       "grid_template_areas": null,
       "grid_template_columns": null,
       "grid_template_rows": null,
       "height": null,
       "justify_content": null,
       "justify_items": null,
       "left": null,
       "margin": null,
       "max_height": null,
       "max_width": null,
       "min_height": null,
       "min_width": null,
       "object_fit": null,
       "object_position": null,
       "order": null,
       "overflow": null,
       "overflow_x": null,
       "overflow_y": null,
       "padding": null,
       "right": null,
       "top": null,
       "visibility": null,
       "width": null
      }
     },
     "9c4feabfc3dc4a069061f2b05ec7ccf8": {
      "model_module": "@jupyter-widgets/controls",
      "model_module_version": "1.5.0",
      "model_name": "ProgressStyleModel",
      "state": {
       "_model_module": "@jupyter-widgets/controls",
       "_model_module_version": "1.5.0",
       "_model_name": "ProgressStyleModel",
       "_view_count": null,
       "_view_module": "@jupyter-widgets/base",
       "_view_module_version": "1.2.0",
       "_view_name": "StyleView",
       "bar_color": null,
       "description_width": "initial"
      }
     },
     "9fcd3639e21b407bbe04007f7fe20536": {
      "model_module": "@jupyter-widgets/base",
      "model_module_version": "1.2.0",
      "model_name": "LayoutModel",
      "state": {
       "_model_module": "@jupyter-widgets/base",
       "_model_module_version": "1.2.0",
       "_model_name": "LayoutModel",
       "_view_count": null,
       "_view_module": "@jupyter-widgets/base",
       "_view_module_version": "1.2.0",
       "_view_name": "LayoutView",
       "align_content": null,
       "align_items": null,
       "align_self": null,
       "border": null,
       "bottom": null,
       "display": null,
       "flex": null,
       "flex_flow": null,
       "grid_area": null,
       "grid_auto_columns": null,
       "grid_auto_flow": null,
       "grid_auto_rows": null,
       "grid_column": null,
       "grid_gap": null,
       "grid_row": null,
       "grid_template_areas": null,
       "grid_template_columns": null,
       "grid_template_rows": null,
       "height": null,
       "justify_content": null,
       "justify_items": null,
       "left": null,
       "margin": null,
       "max_height": null,
       "max_width": null,
       "min_height": null,
       "min_width": null,
       "object_fit": null,
       "object_position": null,
       "order": null,
       "overflow": null,
       "overflow_x": null,
       "overflow_y": null,
       "padding": null,
       "right": null,
       "top": null,
       "visibility": null,
       "width": null
      }
     },
     "a3d2685024a643b68ccf74eac499d2ff": {
      "model_module": "@jupyter-widgets/base",
      "model_module_version": "1.2.0",
      "model_name": "LayoutModel",
      "state": {
       "_model_module": "@jupyter-widgets/base",
       "_model_module_version": "1.2.0",
       "_model_name": "LayoutModel",
       "_view_count": null,
       "_view_module": "@jupyter-widgets/base",
       "_view_module_version": "1.2.0",
       "_view_name": "LayoutView",
       "align_content": null,
       "align_items": null,
       "align_self": null,
       "border": null,
       "bottom": null,
       "display": null,
       "flex": null,
       "flex_flow": null,
       "grid_area": null,
       "grid_auto_columns": null,
       "grid_auto_flow": null,
       "grid_auto_rows": null,
       "grid_column": null,
       "grid_gap": null,
       "grid_row": null,
       "grid_template_areas": null,
       "grid_template_columns": null,
       "grid_template_rows": null,
       "height": null,
       "justify_content": null,
       "justify_items": null,
       "left": null,
       "margin": null,
       "max_height": null,
       "max_width": null,
       "min_height": null,
       "min_width": null,
       "object_fit": null,
       "object_position": null,
       "order": null,
       "overflow": null,
       "overflow_x": null,
       "overflow_y": null,
       "padding": null,
       "right": null,
       "top": null,
       "visibility": null,
       "width": null
      }
     },
     "aa0384fae5b34535ad3283d0d732f709": {
      "model_module": "@jupyter-widgets/base",
      "model_module_version": "1.2.0",
      "model_name": "LayoutModel",
      "state": {
       "_model_module": "@jupyter-widgets/base",
       "_model_module_version": "1.2.0",
       "_model_name": "LayoutModel",
       "_view_count": null,
       "_view_module": "@jupyter-widgets/base",
       "_view_module_version": "1.2.0",
       "_view_name": "LayoutView",
       "align_content": null,
       "align_items": null,
       "align_self": null,
       "border": null,
       "bottom": null,
       "display": null,
       "flex": null,
       "flex_flow": null,
       "grid_area": null,
       "grid_auto_columns": null,
       "grid_auto_flow": null,
       "grid_auto_rows": null,
       "grid_column": null,
       "grid_gap": null,
       "grid_row": null,
       "grid_template_areas": null,
       "grid_template_columns": null,
       "grid_template_rows": null,
       "height": null,
       "justify_content": null,
       "justify_items": null,
       "left": null,
       "margin": null,
       "max_height": null,
       "max_width": null,
       "min_height": null,
       "min_width": null,
       "object_fit": null,
       "object_position": null,
       "order": null,
       "overflow": null,
       "overflow_x": null,
       "overflow_y": null,
       "padding": null,
       "right": null,
       "top": null,
       "visibility": null,
       "width": null
      }
     },
     "aeecfc7137d54febab8c2cc69ea41339": {
      "model_module": "@jupyter-widgets/controls",
      "model_module_version": "1.5.0",
      "model_name": "DescriptionStyleModel",
      "state": {
       "_model_module": "@jupyter-widgets/controls",
       "_model_module_version": "1.5.0",
       "_model_name": "DescriptionStyleModel",
       "_view_count": null,
       "_view_module": "@jupyter-widgets/base",
       "_view_module_version": "1.2.0",
       "_view_name": "StyleView",
       "description_width": ""
      }
     },
     "b21bda9fb1ee4ce4b207a37711ff16e2": {
      "model_module": "@jupyter-widgets/base",
      "model_module_version": "1.2.0",
      "model_name": "LayoutModel",
      "state": {
       "_model_module": "@jupyter-widgets/base",
       "_model_module_version": "1.2.0",
       "_model_name": "LayoutModel",
       "_view_count": null,
       "_view_module": "@jupyter-widgets/base",
       "_view_module_version": "1.2.0",
       "_view_name": "LayoutView",
       "align_content": null,
       "align_items": null,
       "align_self": null,
       "border": null,
       "bottom": null,
       "display": null,
       "flex": null,
       "flex_flow": null,
       "grid_area": null,
       "grid_auto_columns": null,
       "grid_auto_flow": null,
       "grid_auto_rows": null,
       "grid_column": null,
       "grid_gap": null,
       "grid_row": null,
       "grid_template_areas": null,
       "grid_template_columns": null,
       "grid_template_rows": null,
       "height": null,
       "justify_content": null,
       "justify_items": null,
       "left": null,
       "margin": null,
       "max_height": null,
       "max_width": null,
       "min_height": null,
       "min_width": null,
       "object_fit": null,
       "object_position": null,
       "order": null,
       "overflow": null,
       "overflow_x": null,
       "overflow_y": null,
       "padding": null,
       "right": null,
       "top": null,
       "visibility": null,
       "width": null
      }
     },
     "bfd57ae368a644e88466a31e55a762f2": {
      "model_module": "@jupyter-widgets/controls",
      "model_module_version": "1.5.0",
      "model_name": "HBoxModel",
      "state": {
       "_dom_classes": [],
       "_model_module": "@jupyter-widgets/controls",
       "_model_module_version": "1.5.0",
       "_model_name": "HBoxModel",
       "_view_count": null,
       "_view_module": "@jupyter-widgets/controls",
       "_view_module_version": "1.5.0",
       "_view_name": "HBoxView",
       "box_style": "",
       "children": [
        "IPY_MODEL_edac78e627c64efb867e1463968b0829",
        "IPY_MODEL_6bf926758b94441aa25071ee179567c3"
       ],
       "layout": "IPY_MODEL_4cf5f09601e94e01b260583ebe8b8f8a"
      }
     },
     "d9568b3f5240460e8e9e635acafb5e17": {
      "model_module": "@jupyter-widgets/controls",
      "model_module_version": "1.5.0",
      "model_name": "ProgressStyleModel",
      "state": {
       "_model_module": "@jupyter-widgets/controls",
       "_model_module_version": "1.5.0",
       "_model_name": "ProgressStyleModel",
       "_view_count": null,
       "_view_module": "@jupyter-widgets/base",
       "_view_module_version": "1.2.0",
       "_view_name": "StyleView",
       "bar_color": null,
       "description_width": "initial"
      }
     },
     "edac78e627c64efb867e1463968b0829": {
      "model_module": "@jupyter-widgets/controls",
      "model_module_version": "1.5.0",
      "model_name": "FloatProgressModel",
      "state": {
       "_dom_classes": [],
       "_model_module": "@jupyter-widgets/controls",
       "_model_module_version": "1.5.0",
       "_model_name": "FloatProgressModel",
       "_view_count": null,
       "_view_module": "@jupyter-widgets/controls",
       "_view_module_version": "1.5.0",
       "_view_name": "ProgressView",
       "bar_style": "success",
       "description": "Downloading: 100%",
       "description_tooltip": null,
       "layout": "IPY_MODEL_b21bda9fb1ee4ce4b207a37711ff16e2",
       "max": 624,
       "min": 0,
       "orientation": "horizontal",
       "style": "IPY_MODEL_9c4feabfc3dc4a069061f2b05ec7ccf8",
       "value": 624
      }
     },
     "edc76d9245824c1fa5c71f0531449a2c": {
      "model_module": "@jupyter-widgets/controls",
      "model_module_version": "1.5.0",
      "model_name": "DescriptionStyleModel",
      "state": {
       "_model_module": "@jupyter-widgets/controls",
       "_model_module_version": "1.5.0",
       "_model_name": "DescriptionStyleModel",
       "_view_count": null,
       "_view_module": "@jupyter-widgets/base",
       "_view_module_version": "1.2.0",
       "_view_name": "StyleView",
       "description_width": ""
      }
     }
    },
    "version_major": 2,
    "version_minor": 0
   }
  }
 },
 "nbformat": 4,
 "nbformat_minor": 4
}
