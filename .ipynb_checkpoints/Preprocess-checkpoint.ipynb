{
 "cells": [
  {
   "cell_type": "code",
   "execution_count": 1,
   "metadata": {},
   "outputs": [],
   "source": [
    "## This notebook is to pre-process data,and store as new input data for model"
   ]
  },
  {
   "cell_type": "code",
   "execution_count": 20,
   "metadata": {},
   "outputs": [],
   "source": [
    "from glob import glob\n",
    "import os\n",
    "import pandas as pd\n",
    "from collections import defaultdict\n",
    "import numpy as np\n",
    "import re\n",
    "\n",
    "import xlrd\n",
    "\n",
    "from xlrd import XLRDError\n",
    "from xlrd.compdoc import CompDocError\n",
    "from pandas.errors import ParserError\n",
    "\n",
    "from tqdm import tqdm_notebook\n",
    "import pickle"
   ]
  },
  {
   "cell_type": "code",
   "execution_count": 135,
   "metadata": {},
   "outputs": [],
   "source": [
    "KEEP_LEN = 300 # 预处理数据是每个文件保留的最长字符数\n",
    "RANDOM_SAMPLE_NUM = 5 # 对于给个输入文件，做随机数据增强的次数\n",
    "PUNCT_SET = set(\"#《》【】[]\") # 保留这些预定义的标点"
   ]
  },
  {
   "cell_type": "code",
   "execution_count": 22,
   "metadata": {},
   "outputs": [],
   "source": [
    "answer_df = pd.read_csv(\"../input/answer_train.csv\")\n",
    "test_df = pd.read_csv(\"../input/submit_example_test1.csv\")\n",
    "test2_df = pd.read_csv(\"../input/submit_example_test2.csv\")"
   ]
  },
  {
   "cell_type": "code",
   "execution_count": 39,
   "metadata": {},
   "outputs": [],
   "source": [
    "with open('../tmp_input/pinyin_map_1206.pkl', 'rb') as f:\n",
    "    pinyin_chinese_map, add_tokens = pickle.load(f)"
   ]
  },
  {
   "cell_type": "code",
   "execution_count": 24,
   "metadata": {},
   "outputs": [
    {
     "data": {
      "text/plain": [
       "(2835, 563)"
      ]
     },
     "execution_count": 24,
     "metadata": {},
     "output_type": "execute_result"
    }
   ],
   "source": [
    "len(pinyin_chinese_map), len(add_tokens)"
   ]
  },
  {
   "cell_type": "code",
   "execution_count": 29,
   "metadata": {},
   "outputs": [],
   "source": [
    "import random"
   ]
  },
  {
   "cell_type": "code",
   "execution_count": 42,
   "metadata": {},
   "outputs": [
    {
     "data": {
      "text/plain": [
       "'新办'"
      ]
     },
     "execution_count": 42,
     "metadata": {},
     "output_type": "execute_result"
    }
   ],
   "source": [
    "pinyin_chinese_map.pop('xb')"
   ]
  },
  {
   "cell_type": "code",
   "execution_count": 44,
   "metadata": {},
   "outputs": [
    {
     "data": {
      "text/plain": [
       "'民非名称'"
      ]
     },
     "execution_count": 44,
     "metadata": {},
     "output_type": "execute_result"
    }
   ],
   "source": [
    "pinyin_chinese_map.pop('mfmc')"
   ]
  },
  {
   "cell_type": "code",
   "execution_count": 62,
   "metadata": {},
   "outputs": [],
   "source": [
    "def _find_substr_match(col, substr_len):\n",
    "    \"\"\"发现有些很长的纯拼音字符串，尝试substring匹配，来找到对应中文\"\"\"\n",
    "    for i in range(len(col)-substr_len + 1):\n",
    "        if col[i:i+substr_len] in pinyin_chinese_map and (i %2 != 1 or i+substr_len == len(col)):\n",
    "            return pinyin_chinese_map[col[i:i+substr_len]]\n",
    "    return None"
   ]
  },
  {
   "cell_type": "code",
   "execution_count": 80,
   "metadata": {},
   "outputs": [],
   "source": [
    "def find_substr_match(col):\n",
    "    \"\"\"发现有些很长的纯拼音字符串，尝试substring匹配，来找到对应中文\"\"\"\n",
    "    mapped_chinese = None\n",
    "    if re.sub(r'[a-z0-9]', '', col.lower()) == \"\" and len(col) > 4 and col not in pinyin_chinese_map:\n",
    "        for substr_len in range(10, 3, -1):\n",
    "            mapped_chinese = _find_substr_match(col, substr_len)\n",
    "            if mapped_chinese:\n",
    "                return mapped_chinese\n",
    "    return None"
   ]
  },
  {
   "cell_type": "code",
   "execution_count": 82,
   "metadata": {},
   "outputs": [],
   "source": [
    "def is_chinese(uchar: str) -> bool:\n",
    "    # 暂时保留以下字符，看看CV是否提高\n",
    "    if uchar in PUNCT_SET:\n",
    "        return True\n",
    "    if uchar >= '\\u4e00' and uchar <= '\\u9fa5':\n",
    "        return True\n",
    "    else:\n",
    "        return False\n",
    "\n",
    "def reserve_chinese(content: str, threshold: int = 512) -> str:\n",
    "    content_str = ''\n",
    "    c = 0\n",
    "    for i in content:\n",
    "        if c == threshold:\n",
    "            break\n",
    "        if is_chinese(i):\n",
    "            content_str += i\n",
    "            c += 1\n",
    "    return content_str\n",
    "\n",
    "def filter_cols(cols):\n",
    "    res = []\n",
    "    for col in cols:\n",
    "        if col == 'index' or 'Unnamed' in col:\n",
    "            continue\n",
    "        # For following cases, check if they exists in `pinyin_chinese_map`\n",
    "        # if so, replace them with chinese characters\n",
    "        # if not, ignore them\n",
    "        col_lower = col.lower()\n",
    "        if re.sub(r'[a-z0-9_]', '', col_lower) == \"\":\n",
    "            if col_lower in pinyin_chinese_map:\n",
    "                # 匹配中文\n",
    "                res.append(pinyin_chinese_map[col_lower])\n",
    "                continue\n",
    "            matched_chinese = find_substr_match(col_lower)\n",
    "            if matched_chinese:\n",
    "                res.append(matched_chinese)\n",
    "            elif col_lower in add_tokens:\n",
    "                res.append(col_lower)\n",
    "        # Keep long header, like HTML cases, 只保留其中的中文\n",
    "        else:\n",
    "            res.append(reserve_chinese(col, -1))\n",
    "    return res\n",
    "\n",
    "def get_content_from_cell_values(cell_values):\n",
    "    \"\"\"cell_values is a 1d numpy array\"\"\"\n",
    "    content = \"\".join(cell_values)\n",
    "    content = reserve_chinese(content, KEEP_LEN)\n",
    "    return content\n",
    "\n",
    "def process_header_and_content(cols, cell_values, how='first'):\n",
    "    \"\"\"Data Augmentation based on different methods.\"\"\"\n",
    "    cols = filter_cols(cols)\n",
    "    # Based on different method, prepare header and content string\n",
    "    if how == 'first':\n",
    "        cell_values = cell_values.ravel()\n",
    "    elif how == 'reverse_rows':\n",
    "        cell_values = cell_values[::-1].ravel()\n",
    "    elif how == 'random_rows':\n",
    "        np.random.shuffle(cell_values)\n",
    "        cell_values = cell_values.ravel()\n",
    "    elif how == 'random':\n",
    "        np.random.shuffle(cols)\n",
    "        cell_values = cell_values.ravel()\n",
    "        np.random.shuffle(cell_values)\n",
    "    header = \"\".join(cols)\n",
    "    cell_values = cell_values.astype(str)\n",
    "    content = get_content_from_cell_values(cell_values)\n",
    "    return header, content\n",
    "\n",
    "def get_text_use_xlrd(xl_workbook, how='first'):\n",
    "    \"\"\"`how` can be 'first', 'last' and 'random'\"\"\"\n",
    "    text = \"\"\n",
    "    for sheet_name in xl_workbook.sheet_names():\n",
    "        xl_sheet = xl_workbook.sheet_by_name(sheet_name)\n",
    "        if xl_sheet.nrows > 0:\n",
    "            # Get header & content cell_values\n",
    "            cols = np.array(xl_sheet._cell_values[0]).astype(str)\n",
    "            cell_values = np.array(xl_sheet._cell_values[1:])\n",
    "            header, content = process_header_and_content(cols, cell_values, how)\n",
    "            text += reserve_chinese(sheet_name) + header + content\n",
    "            if len(text) >= KEEP_LEN:\n",
    "                text = text[:KEEP_LEN]\n",
    "                break\n",
    "    return text\n",
    "\n",
    "\n",
    "def get_text_from_dataframe(df, how='first'):\n",
    "    \"\"\"`how` can be 'first', 'last' and 'random'\"\"\"\n",
    "    # Get header & content cell_values\n",
    "    cols = list(df)\n",
    "    cell_values = df.values\n",
    "    header, content = process_header_and_content(cols, cell_values, how)\n",
    "    text = header + content\n",
    "    text = text[:KEEP_LEN]\n",
    "    return text\n",
    "\n",
    "def get_xls_texts(filename):\n",
    "    xl_workbook = xlrd.open_workbook(filename, on_demand = True)\n",
    "    texts = []\n",
    "    texts.append(get_text_use_xlrd(xl_workbook, how='first'))\n",
    "    texts.append(get_text_use_xlrd(xl_workbook, how='reverse_rows'))\n",
    "    texts.append(get_text_use_xlrd(xl_workbook, how='random_rows'))\n",
    "    for _ in range(RANDOM_SAMPLE_NUM):\n",
    "        texts.append(get_text_use_xlrd(xl_workbook, how='random'))\n",
    "    xl_workbook.release_resources()\n",
    "    return texts\n",
    "\n",
    "def get_csv_texts(filename):\n",
    "    if filename in {'../input/train/社区服务中心.csv', '../input/test2/3a005470f08021e03ccd9317d23021b9.csv'}:\n",
    "        df = pd.read_csv(filename, nrows=100, usecols = range(4), error_bad_lines=False).reset_index().fillna(\"\")\n",
    "    else:\n",
    "        df = pd.read_csv(filename, nrows=100, error_bad_lines=False).reset_index().fillna(\"\")\n",
    "    texts = []\n",
    "    texts.append(get_text_from_dataframe(df, how='first'))\n",
    "    texts.append(get_text_from_dataframe(df, how='reverse_rows'))\n",
    "    texts.append(get_text_from_dataframe(df, how='random_rows'))\n",
    "    for _ in range(RANDOM_SAMPLE_NUM):\n",
    "        texts.append(get_text_from_dataframe(df, how='random'))\n",
    "    return texts"
   ]
  },
  {
   "cell_type": "code",
   "execution_count": 78,
   "metadata": {},
   "outputs": [],
   "source": [
    "def preprocess(df):\n",
    "    \"\"\"数据预处理,读取所有xls和csv文件,返回dictionary: {filename: list of texts}\"\"\"\n",
    "    texts_augment = {}\n",
    "    for _, row in tqdm_notebook(df.iterrows(), total=df.shape[0]):\n",
    "    # for _, row in tqdm_notebook(df.head(2000).tail(10).iterrows(), total=10):\n",
    "        filename = rf\"../input/{row['filename']}\"\n",
    "        if filename[-3:] == 'xls':\n",
    "            try:\n",
    "                texts = get_xls_texts(filename)\n",
    "            except:\n",
    "                try:\n",
    "                    texts = get_csv_texts(filename)\n",
    "                except (pd.io.common.EmptyDataError, XLRDError, UnicodeDecodeError, pd.errors.ParserError, CompDocError):\n",
    "                    print(filename)\n",
    "                    texts = [\"ERROR\"] * (3 + RANDOM_SAMPLE_NUM)\n",
    "        elif filename[-3:] == 'csv':\n",
    "            try:\n",
    "                texts = get_csv_texts(filename)\n",
    "            except (pd.io.common.EmptyDataError, XLRDError, UnicodeDecodeError, pd.errors.ParserError, CompDocError):\n",
    "                print(filename)\n",
    "                texts = [\"ERROR\"] * (3 + RANDOM_SAMPLE_NUM)\n",
    "        texts_augment[row['filename']] = texts\n",
    "    return texts_augment"
   ]
  },
  {
   "cell_type": "code",
   "execution_count": 85,
   "metadata": {
    "scrolled": true
   },
   "outputs": [
    {
     "name": "stderr",
     "output_type": "stream",
     "text": [
      "D:\\Anaconda3\\envs\\ieee\\lib\\site-packages\\ipykernel_launcher.py:4: TqdmDeprecationWarning: This function will be removed in tqdm==5.0.0\n",
      "Please use `tqdm.notebook.tqdm` instead of `tqdm.tqdm_notebook`\n",
      "  after removing the cwd from sys.path.\n"
     ]
    },
    {
     "data": {
      "application/vnd.jupyter.widget-view+json": {
       "model_id": "915880854db24b698638aa7aa25cb08c",
       "version_major": 2,
       "version_minor": 0
      },
      "text/plain": [
       "HBox(children=(FloatProgress(value=0.0, max=60000.0), HTML(value='')))"
      ]
     },
     "metadata": {},
     "output_type": "display_data"
    },
    {
     "name": "stderr",
     "output_type": "stream",
     "text": [
      "b'Skipping line 9: expected 9 fields, saw 10\\nSkipping line 38: expected 9 fields, saw 10\\nSkipping line 51: expected 9 fields, saw 10\\nSkipping line 83: expected 9 fields, saw 10\\nSkipping line 87: expected 9 fields, saw 10\\nSkipping line 91: expected 9 fields, saw 10\\nSkipping line 102: expected 9 fields, saw 10\\nSkipping line 103: expected 9 fields, saw 10\\nSkipping line 104: expected 9 fields, saw 10\\n'\n",
      "b'Skipping line 13: expected 18 fields, saw 19\\nSkipping line 14: expected 18 fields, saw 19\\nSkipping line 15: expected 18 fields, saw 19\\nSkipping line 27: expected 18 fields, saw 19\\nSkipping line 28: expected 18 fields, saw 19\\nSkipping line 69: expected 18 fields, saw 19\\nSkipping line 71: expected 18 fields, saw 19\\n'\n",
      "b'Skipping line 9: expected 9 fields, saw 10\\nSkipping line 38: expected 9 fields, saw 10\\nSkipping line 51: expected 9 fields, saw 10\\nSkipping line 83: expected 9 fields, saw 10\\nSkipping line 87: expected 9 fields, saw 10\\nSkipping line 91: expected 9 fields, saw 10\\nSkipping line 102: expected 9 fields, saw 10\\nSkipping line 103: expected 9 fields, saw 10\\nSkipping line 104: expected 9 fields, saw 10\\n'\n",
      "b'Skipping line 13: expected 10 fields, saw 12\\nSkipping line 18: expected 10 fields, saw 11\\nSkipping line 19: expected 10 fields, saw 11\\nSkipping line 20: expected 10 fields, saw 11\\nSkipping line 21: expected 10 fields, saw 11\\nSkipping line 22: expected 10 fields, saw 11\\nSkipping line 23: expected 10 fields, saw 11\\nSkipping line 24: expected 10 fields, saw 11\\nSkipping line 25: expected 10 fields, saw 11\\nSkipping line 32: expected 10 fields, saw 12\\nSkipping line 34: expected 10 fields, saw 12\\nSkipping line 36: expected 10 fields, saw 13\\nSkipping line 38: expected 10 fields, saw 11\\nSkipping line 39: expected 10 fields, saw 11\\nSkipping line 54: expected 10 fields, saw 14\\nSkipping line 65: expected 10 fields, saw 11\\nSkipping line 66: expected 10 fields, saw 11\\nSkipping line 67: expected 10 fields, saw 11\\nSkipping line 68: expected 10 fields, saw 11\\nSkipping line 69: expected 10 fields, saw 11\\nSkipping line 70: expected 10 fields, saw 11\\nSkipping line 71: expected 10 fields, saw 11\\nSkipping line 72: expected 10 fields, saw 11\\nSkipping line 73: expected 10 fields, saw 11\\nSkipping line 74: expected 10 fields, saw 11\\nSkipping line 79: expected 10 fields, saw 12\\nSkipping line 83: expected 10 fields, saw 11\\nSkipping line 85: expected 10 fields, saw 11\\nSkipping line 86: expected 10 fields, saw 11\\nSkipping line 87: expected 10 fields, saw 11\\nSkipping line 89: expected 10 fields, saw 12\\nSkipping line 105: expected 10 fields, saw 13\\nSkipping line 106: expected 10 fields, saw 13\\n'\n",
      "b'Skipping line 44: expected 12 fields, saw 13\\nSkipping line 53: expected 12 fields, saw 13\\n'\n",
      "b'Skipping line 14: expected 3 fields, saw 4\\n'\n",
      "b'Skipping line 49: expected 6 fields, saw 7\\nSkipping line 90: expected 6 fields, saw 7\\n'\n",
      "b'Skipping line 35: expected 9 fields, saw 10\\n'\n",
      "b'Skipping line 6: expected 11 fields, saw 12\\nSkipping line 54: expected 11 fields, saw 12\\nSkipping line 57: expected 11 fields, saw 12\\nSkipping line 106: expected 11 fields, saw 12\\n'\n",
      "b'Skipping line 92: expected 4 fields, saw 5\\n'\n",
      "b'Skipping line 18: expected 11 fields, saw 12\\nSkipping line 19: expected 11 fields, saw 12\\n'\n",
      "b'Skipping line 26: expected 13 fields, saw 14\\n'\n",
      "b'Skipping line 23: expected 5 fields, saw 7\\nSkipping line 25: expected 5 fields, saw 6\\nSkipping line 26: expected 5 fields, saw 7\\n'\n",
      "b'Skipping line 5: expected 4 fields, saw 5\\nSkipping line 6: expected 4 fields, saw 5\\n'\n",
      "b'Skipping line 15: expected 8 fields, saw 9\\n'\n",
      "b'Skipping line 53: expected 9 fields, saw 10\\nSkipping line 55: expected 9 fields, saw 10\\nSkipping line 60: expected 9 fields, saw 10\\n'\n",
      "b'Skipping line 42: expected 3 fields, saw 4\\n'\n",
      "b'Skipping line 23: expected 6 fields, saw 7\\n'\n",
      "b'Skipping line 4: expected 14 fields, saw 15\\nSkipping line 6: expected 14 fields, saw 15\\n'\n",
      "b'Skipping line 5: expected 6 fields, saw 8\\nSkipping line 12: expected 6 fields, saw 7\\nSkipping line 51: expected 6 fields, saw 9\\nSkipping line 54: expected 6 fields, saw 7\\nSkipping line 55: expected 6 fields, saw 8\\nSkipping line 66: expected 6 fields, saw 10\\n'\n",
      "b'Skipping line 53: expected 9 fields, saw 10\\nSkipping line 55: expected 9 fields, saw 10\\nSkipping line 60: expected 9 fields, saw 10\\n'\n",
      "b'Skipping line 8: expected 7 fields, saw 8\\nSkipping line 60: expected 7 fields, saw 11\\n'\n",
      "b'Skipping line 4: expected 15 fields, saw 16\\nSkipping line 6: expected 15 fields, saw 16\\nSkipping line 7: expected 15 fields, saw 16\\nSkipping line 10: expected 15 fields, saw 16\\nSkipping line 11: expected 15 fields, saw 16\\n'\n",
      "b'Skipping line 7: expected 8 fields, saw 10\\nSkipping line 8: expected 8 fields, saw 9\\nSkipping line 10: expected 8 fields, saw 11\\nSkipping line 11: expected 8 fields, saw 10\\nSkipping line 14: expected 8 fields, saw 13\\nSkipping line 31: expected 8 fields, saw 9\\nSkipping line 33: expected 8 fields, saw 9\\nSkipping line 35: expected 8 fields, saw 19\\nSkipping line 36: expected 8 fields, saw 10\\nSkipping line 41: expected 8 fields, saw 10\\nSkipping line 42: expected 8 fields, saw 9\\nSkipping line 45: expected 8 fields, saw 9\\nSkipping line 59: expected 8 fields, saw 9\\nSkipping line 63: expected 8 fields, saw 14\\nSkipping line 82: expected 8 fields, saw 9\\nSkipping line 88: expected 8 fields, saw 9\\nSkipping line 96: expected 8 fields, saw 11\\nSkipping line 109: expected 8 fields, saw 10\\nSkipping line 112: expected 8 fields, saw 14\\nSkipping line 117: expected 8 fields, saw 11\\nSkipping line 118: expected 8 fields, saw 10\\nSkipping line 119: expected 8 fields, saw 9\\n'\n",
      "b'Skipping line 3: expected 15 fields, saw 19\\nSkipping line 7: expected 15 fields, saw 19\\n'\n"
     ]
    },
    {
     "name": "stdout",
     "output_type": "stream",
     "text": [
      "../input/train/关于公布黄山市年度餐饮服务食品安全监察量化分级管理A级公司评审成果的通知.xls\n"
     ]
    },
    {
     "name": "stderr",
     "output_type": "stream",
     "text": [
      "b'Skipping line 68: expected 10 fields, saw 11\\n'\n",
      "b'Skipping line 4: expected 7 fields, saw 8\\nSkipping line 17: expected 7 fields, saw 8\\nSkipping line 21: expected 7 fields, saw 8\\nSkipping line 29: expected 7 fields, saw 8\\nSkipping line 45: expected 7 fields, saw 8\\nSkipping line 80: expected 7 fields, saw 8\\n'\n",
      "b'Skipping line 15: expected 8 fields, saw 9\\n'\n",
      "b'Skipping line 52: expected 8 fields, saw 9\\n'\n",
      "b'Skipping line 10: expected 9 fields, saw 10\\nSkipping line 11: expected 9 fields, saw 10\\nSkipping line 12: expected 9 fields, saw 10\\nSkipping line 13: expected 9 fields, saw 10\\n'\n",
      "b'Skipping line 5: expected 11 fields, saw 13\\nSkipping line 11: expected 11 fields, saw 13\\nSkipping line 74: expected 11 fields, saw 12\\nSkipping line 91: expected 11 fields, saw 13\\nSkipping line 92: expected 11 fields, saw 13\\n'\n",
      "b'Skipping line 4: expected 12 fields, saw 13\\nSkipping line 8: expected 12 fields, saw 13\\n'\n",
      "b'Skipping line 32: expected 14 fields, saw 15\\nSkipping line 35: expected 14 fields, saw 15\\nSkipping line 40: expected 14 fields, saw 16\\n'\n",
      "b'Skipping line 9: expected 9 fields, saw 10\\nSkipping line 38: expected 9 fields, saw 10\\nSkipping line 51: expected 9 fields, saw 10\\nSkipping line 83: expected 9 fields, saw 10\\nSkipping line 87: expected 9 fields, saw 10\\nSkipping line 91: expected 9 fields, saw 10\\nSkipping line 102: expected 9 fields, saw 10\\nSkipping line 103: expected 9 fields, saw 10\\nSkipping line 104: expected 9 fields, saw 10\\n'\n",
      "b'Skipping line 12: expected 8 fields, saw 11\\nSkipping line 14: expected 8 fields, saw 10\\nSkipping line 17: expected 8 fields, saw 11\\nSkipping line 25: expected 8 fields, saw 11\\nSkipping line 33: expected 8 fields, saw 10\\nSkipping line 36: expected 8 fields, saw 11\\nSkipping line 42: expected 8 fields, saw 10\\nSkipping line 44: expected 8 fields, saw 10\\nSkipping line 46: expected 8 fields, saw 12\\nSkipping line 54: expected 8 fields, saw 15\\nSkipping line 58: expected 8 fields, saw 9\\nSkipping line 60: expected 8 fields, saw 9\\nSkipping line 63: expected 8 fields, saw 11\\nSkipping line 66: expected 8 fields, saw 12\\nSkipping line 67: expected 8 fields, saw 9\\nSkipping line 75: expected 8 fields, saw 14\\nSkipping line 91: expected 8 fields, saw 10\\nSkipping line 95: expected 8 fields, saw 14\\n'\n",
      "b'Skipping line 3: expected 5 fields, saw 6\\nSkipping line 4: expected 5 fields, saw 6\\nSkipping line 5: expected 5 fields, saw 6\\nSkipping line 6: expected 5 fields, saw 6\\nSkipping line 7: expected 5 fields, saw 6\\nSkipping line 8: expected 5 fields, saw 6\\nSkipping line 9: expected 5 fields, saw 6\\nSkipping line 10: expected 5 fields, saw 6\\nSkipping line 11: expected 5 fields, saw 6\\nSkipping line 12: expected 5 fields, saw 6\\nSkipping line 13: expected 5 fields, saw 6\\nSkipping line 14: expected 5 fields, saw 6\\nSkipping line 15: expected 5 fields, saw 6\\nSkipping line 16: expected 5 fields, saw 6\\nSkipping line 17: expected 5 fields, saw 6\\nSkipping line 18: expected 5 fields, saw 6\\nSkipping line 19: expected 5 fields, saw 6\\nSkipping line 20: expected 5 fields, saw 6\\nSkipping line 21: expected 5 fields, saw 6\\nSkipping line 22: expected 5 fields, saw 6\\nSkipping line 23: expected 5 fields, saw 6\\nSkipping line 24: expected 5 fields, saw 6\\nSkipping line 25: expected 5 fields, saw 6\\nSkipping line 26: expected 5 fields, saw 6\\nSkipping line 27: expected 5 fields, saw 6\\nSkipping line 28: expected 5 fields, saw 6\\n'\n",
      "b'Skipping line 8: expected 8 fields, saw 25\\nSkipping line 50: expected 8 fields, saw 9\\nSkipping line 89: expected 8 fields, saw 10\\n'\n",
      "b'Skipping line 61: expected 11 fields, saw 12\\nSkipping line 62: expected 11 fields, saw 12\\n'\n",
      "b'Skipping line 13: expected 18 fields, saw 19\\nSkipping line 14: expected 18 fields, saw 19\\nSkipping line 15: expected 18 fields, saw 19\\nSkipping line 27: expected 18 fields, saw 19\\nSkipping line 28: expected 18 fields, saw 19\\nSkipping line 69: expected 18 fields, saw 19\\nSkipping line 71: expected 18 fields, saw 19\\n'\n",
      "b'Skipping line 34: expected 5 fields, saw 6\\n'\n",
      "b'Skipping line 4: expected 7 fields, saw 8\\nSkipping line 17: expected 7 fields, saw 8\\nSkipping line 21: expected 7 fields, saw 8\\nSkipping line 29: expected 7 fields, saw 8\\nSkipping line 45: expected 7 fields, saw 8\\nSkipping line 80: expected 7 fields, saw 8\\n'\n",
      "b'Skipping line 26: expected 6 fields, saw 9\\nSkipping line 30: expected 6 fields, saw 8\\nSkipping line 32: expected 6 fields, saw 9\\n'\n"
     ]
    },
    {
     "name": "stdout",
     "output_type": "stream",
     "text": [
      "../input/train/关于公布黄山市年度餐饮服务食品安全监管量化分级管理A级公司评审效果的通知.xls\n"
     ]
    },
    {
     "name": "stderr",
     "output_type": "stream",
     "text": [
      "b'Skipping line 15: expected 8 fields, saw 9\\nSkipping line 36: expected 8 fields, saw 9\\nSkipping line 46: expected 8 fields, saw 9\\nSkipping line 57: expected 8 fields, saw 9\\n'\n",
      "b'Skipping line 26: expected 8 fields, saw 9\\n'\n",
      "b'Skipping line 4: expected 6 fields, saw 8\\nSkipping line 18: expected 6 fields, saw 8\\nSkipping line 22: expected 6 fields, saw 7\\nSkipping line 36: expected 6 fields, saw 7\\nSkipping line 41: expected 6 fields, saw 7\\nSkipping line 42: expected 6 fields, saw 7\\nSkipping line 53: expected 6 fields, saw 8\\nSkipping line 73: expected 6 fields, saw 8\\nSkipping line 80: expected 6 fields, saw 7\\nSkipping line 88: expected 6 fields, saw 8\\nSkipping line 92: expected 6 fields, saw 8\\nSkipping line 105: expected 6 fields, saw 7\\n'\n",
      "b'Skipping line 41: expected 17 fields, saw 18\\n'\n",
      "b'Skipping line 10: expected 4 fields, saw 5\\n'\n",
      "b'Skipping line 58: expected 2 fields, saw 3\\nSkipping line 82: expected 2 fields, saw 3\\n'\n",
      "b'Skipping line 5: expected 11 fields, saw 13\\nSkipping line 11: expected 11 fields, saw 13\\nSkipping line 74: expected 11 fields, saw 12\\nSkipping line 91: expected 11 fields, saw 13\\nSkipping line 92: expected 11 fields, saw 13\\n'\n",
      "b'Skipping line 64: expected 6 fields, saw 7\\nSkipping line 78: expected 6 fields, saw 7\\n'\n",
      "b'Skipping line 4: expected 7 fields, saw 8\\nSkipping line 7: expected 7 fields, saw 8\\nSkipping line 9: expected 7 fields, saw 8\\nSkipping line 13: expected 7 fields, saw 8\\nSkipping line 44: expected 7 fields, saw 8\\nSkipping line 61: expected 7 fields, saw 8\\nSkipping line 63: expected 7 fields, saw 8\\nSkipping line 71: expected 7 fields, saw 8\\nSkipping line 72: expected 7 fields, saw 8\\nSkipping line 104: expected 7 fields, saw 8\\nSkipping line 105: expected 7 fields, saw 8\\n'\n",
      "b'Skipping line 5: expected 6 fields, saw 7\\nSkipping line 6: expected 6 fields, saw 7\\nSkipping line 7: expected 6 fields, saw 7\\nSkipping line 12: expected 6 fields, saw 7\\nSkipping line 15: expected 6 fields, saw 7\\nSkipping line 18: expected 6 fields, saw 7\\nSkipping line 19: expected 6 fields, saw 7\\nSkipping line 21: expected 6 fields, saw 7\\nSkipping line 23: expected 6 fields, saw 7\\nSkipping line 26: expected 6 fields, saw 7\\nSkipping line 27: expected 6 fields, saw 7\\nSkipping line 28: expected 6 fields, saw 7\\nSkipping line 29: expected 6 fields, saw 7\\nSkipping line 30: expected 6 fields, saw 7\\nSkipping line 31: expected 6 fields, saw 7\\nSkipping line 32: expected 6 fields, saw 7\\nSkipping line 33: expected 6 fields, saw 7\\nSkipping line 37: expected 6 fields, saw 7\\nSkipping line 42: expected 6 fields, saw 7\\nSkipping line 43: expected 6 fields, saw 7\\nSkipping line 44: expected 6 fields, saw 7\\nSkipping line 47: expected 6 fields, saw 7\\nSkipping line 52: expected 6 fields, saw 7\\nSkipping line 54: expected 6 fields, saw 7\\nSkipping line 58: expected 6 fields, saw 7\\nSkipping line 61: expected 6 fields, saw 7\\nSkipping line 62: expected 6 fields, saw 7\\nSkipping line 63: expected 6 fields, saw 7\\nSkipping line 65: expected 6 fields, saw 7\\nSkipping line 68: expected 6 fields, saw 7\\nSkipping line 71: expected 6 fields, saw 7\\nSkipping line 73: expected 6 fields, saw 7\\nSkipping line 74: expected 6 fields, saw 7\\nSkipping line 76: expected 6 fields, saw 7\\nSkipping line 82: expected 6 fields, saw 7\\nSkipping line 84: expected 6 fields, saw 7\\nSkipping line 85: expected 6 fields, saw 7\\nSkipping line 87: expected 6 fields, saw 7\\nSkipping line 89: expected 6 fields, saw 7\\nSkipping line 90: expected 6 fields, saw 7\\nSkipping line 93: expected 6 fields, saw 7\\nSkipping line 94: expected 6 fields, saw 7\\nSkipping line 95: expected 6 fields, saw 7\\nSkipping line 97: expected 6 fields, saw 7\\nSkipping line 98: expected 6 fields, saw 7\\nSkipping line 99: expected 6 fields, saw 7\\nSkipping line 102: expected 6 fields, saw 7\\nSkipping line 103: expected 6 fields, saw 7\\nSkipping line 105: expected 6 fields, saw 7\\nSkipping line 106: expected 6 fields, saw 7\\nSkipping line 110: expected 6 fields, saw 7\\nSkipping line 111: expected 6 fields, saw 7\\nSkipping line 115: expected 6 fields, saw 7\\nSkipping line 119: expected 6 fields, saw 7\\nSkipping line 120: expected 6 fields, saw 7\\nSkipping line 122: expected 6 fields, saw 7\\n'\n",
      "b'Skipping line 44: expected 12 fields, saw 13\\nSkipping line 53: expected 12 fields, saw 13\\n'\n",
      "b'Skipping line 3: expected 5 fields, saw 6\\nSkipping line 5: expected 5 fields, saw 6\\nSkipping line 8: expected 5 fields, saw 7\\n'\n",
      "b'Skipping line 13: expected 18 fields, saw 19\\nSkipping line 14: expected 18 fields, saw 19\\nSkipping line 15: expected 18 fields, saw 19\\nSkipping line 27: expected 18 fields, saw 19\\nSkipping line 28: expected 18 fields, saw 19\\nSkipping line 69: expected 18 fields, saw 19\\nSkipping line 71: expected 18 fields, saw 19\\n'\n",
      "b'Skipping line 7: expected 12 fields, saw 16\\nSkipping line 13: expected 12 fields, saw 13\\n'\n"
     ]
    },
    {
     "name": "stdout",
     "output_type": "stream",
     "text": [
      "../input/train/关于公布黄山市年度餐饮服务食品安全监管量化分级管理A级企业评审成果的通知.xls\n"
     ]
    },
    {
     "name": "stderr",
     "output_type": "stream",
     "text": [
      "b'Skipping line 5: expected 7 fields, saw 8\\nSkipping line 13: expected 7 fields, saw 8\\nSkipping line 20: expected 7 fields, saw 9\\nSkipping line 31: expected 7 fields, saw 8\\nSkipping line 32: expected 7 fields, saw 8\\nSkipping line 34: expected 7 fields, saw 8\\nSkipping line 46: expected 7 fields, saw 8\\nSkipping line 72: expected 7 fields, saw 8\\n'\n",
      "b'Skipping line 6: expected 23 fields, saw 24\\nSkipping line 7: expected 23 fields, saw 25\\nSkipping line 8: expected 23 fields, saw 24\\n'\n",
      "b'Skipping line 27: expected 8 fields, saw 10\\n'\n",
      "b'Skipping line 26: expected 8 fields, saw 9\\n'\n",
      "b'Skipping line 61: expected 9 fields, saw 10\\nSkipping line 62: expected 9 fields, saw 10\\nSkipping line 63: expected 9 fields, saw 10\\nSkipping line 81: expected 9 fields, saw 10\\n'\n",
      "b'Skipping line 5: expected 4 fields, saw 5\\nSkipping line 6: expected 4 fields, saw 5\\n'\n",
      "b'Skipping line 3: expected 5 fields, saw 6\\n'\n",
      "b'Skipping line 10: expected 9 fields, saw 10\\nSkipping line 11: expected 9 fields, saw 10\\nSkipping line 12: expected 9 fields, saw 10\\nSkipping line 13: expected 9 fields, saw 10\\n'\n",
      "b'Skipping line 4: expected 11 fields, saw 28\\nSkipping line 5: expected 11 fields, saw 12\\nSkipping line 6: expected 11 fields, saw 17\\nSkipping line 8: expected 11 fields, saw 28\\nSkipping line 9: expected 11 fields, saw 28\\nSkipping line 21: expected 11 fields, saw 28\\nSkipping line 22: expected 11 fields, saw 12\\nSkipping line 23: expected 11 fields, saw 17\\nSkipping line 25: expected 11 fields, saw 28\\nSkipping line 26: expected 11 fields, saw 28\\nSkipping line 38: expected 11 fields, saw 28\\nSkipping line 39: expected 11 fields, saw 12\\nSkipping line 40: expected 11 fields, saw 17\\nSkipping line 42: expected 11 fields, saw 28\\nSkipping line 43: expected 11 fields, saw 28\\nSkipping line 55: expected 11 fields, saw 28\\nSkipping line 56: expected 11 fields, saw 12\\nSkipping line 57: expected 11 fields, saw 17\\nSkipping line 59: expected 11 fields, saw 28\\nSkipping line 60: expected 11 fields, saw 28\\nSkipping line 72: expected 11 fields, saw 28\\nSkipping line 73: expected 11 fields, saw 12\\nSkipping line 74: expected 11 fields, saw 17\\nSkipping line 76: expected 11 fields, saw 28\\nSkipping line 77: expected 11 fields, saw 28\\nSkipping line 90: expected 11 fields, saw 28\\nSkipping line 91: expected 11 fields, saw 12\\nSkipping line 92: expected 11 fields, saw 17\\nSkipping line 94: expected 11 fields, saw 28\\nSkipping line 95: expected 11 fields, saw 28\\nSkipping line 106: expected 11 fields, saw 28\\nSkipping line 107: expected 11 fields, saw 12\\nSkipping line 108: expected 11 fields, saw 17\\nSkipping line 110: expected 11 fields, saw 28\\nSkipping line 111: expected 11 fields, saw 28\\nSkipping line 123: expected 11 fields, saw 28\\nSkipping line 124: expected 11 fields, saw 12\\nSkipping line 125: expected 11 fields, saw 17\\nSkipping line 127: expected 11 fields, saw 28\\nSkipping line 128: expected 11 fields, saw 28\\nSkipping line 140: expected 11 fields, saw 28\\nSkipping line 141: expected 11 fields, saw 12\\nSkipping line 142: expected 11 fields, saw 17\\nSkipping line 144: expected 11 fields, saw 28\\nSkipping line 145: expected 11 fields, saw 28\\n'\n",
      "b'Skipping line 5: expected 5 fields, saw 6\\n'\n",
      "b'Skipping line 23: expected 5 fields, saw 7\\nSkipping line 25: expected 5 fields, saw 6\\nSkipping line 26: expected 5 fields, saw 7\\n'\n",
      "b'Skipping line 26: expected 8 fields, saw 9\\n'\n",
      "b'Skipping line 84: expected 43 fields, saw 44\\nSkipping line 87: expected 43 fields, saw 44\\n'\n",
      "b'Skipping line 3: expected 15 fields, saw 19\\nSkipping line 7: expected 15 fields, saw 19\\n'\n",
      "b'Skipping line 35: expected 3 fields, saw 5\\nSkipping line 39: expected 3 fields, saw 4\\nSkipping line 42: expected 3 fields, saw 6\\nSkipping line 43: expected 3 fields, saw 6\\nSkipping line 49: expected 3 fields, saw 5\\nSkipping line 54: expected 3 fields, saw 4\\nSkipping line 56: expected 3 fields, saw 5\\nSkipping line 57: expected 3 fields, saw 4\\nSkipping line 59: expected 3 fields, saw 7\\nSkipping line 62: expected 3 fields, saw 7\\nSkipping line 64: expected 3 fields, saw 6\\nSkipping line 68: expected 3 fields, saw 5\\nSkipping line 69: expected 3 fields, saw 4\\nSkipping line 73: expected 3 fields, saw 5\\nSkipping line 75: expected 3 fields, saw 4\\nSkipping line 78: expected 3 fields, saw 7\\nSkipping line 83: expected 3 fields, saw 5\\nSkipping line 86: expected 3 fields, saw 5\\nSkipping line 90: expected 3 fields, saw 4\\nSkipping line 92: expected 3 fields, saw 5\\nSkipping line 97: expected 3 fields, saw 6\\nSkipping line 101: expected 3 fields, saw 8\\nSkipping line 102: expected 3 fields, saw 8\\nSkipping line 106: expected 3 fields, saw 13\\nSkipping line 108: expected 3 fields, saw 4\\nSkipping line 109: expected 3 fields, saw 5\\nSkipping line 111: expected 3 fields, saw 7\\nSkipping line 113: expected 3 fields, saw 6\\n'\n",
      "b'Skipping line 6: expected 11 fields, saw 12\\nSkipping line 54: expected 11 fields, saw 12\\nSkipping line 57: expected 11 fields, saw 12\\nSkipping line 106: expected 11 fields, saw 12\\n'\n",
      "b'Skipping line 9: expected 9 fields, saw 10\\nSkipping line 38: expected 9 fields, saw 10\\nSkipping line 51: expected 9 fields, saw 10\\nSkipping line 83: expected 9 fields, saw 10\\nSkipping line 87: expected 9 fields, saw 10\\nSkipping line 91: expected 9 fields, saw 10\\nSkipping line 102: expected 9 fields, saw 10\\nSkipping line 103: expected 9 fields, saw 10\\nSkipping line 104: expected 9 fields, saw 10\\n'\n",
      "b'Skipping line 15: expected 9 fields, saw 10\\nSkipping line 43: expected 9 fields, saw 12\\nSkipping line 48: expected 9 fields, saw 10\\n'\n",
      "b'Skipping line 3: expected 11 fields, saw 20\\nSkipping line 4: expected 11 fields, saw 20\\nSkipping line 5: expected 11 fields, saw 20\\nSkipping line 6: expected 11 fields, saw 20\\nSkipping line 7: expected 11 fields, saw 20\\nSkipping line 8: expected 11 fields, saw 20\\nSkipping line 9: expected 11 fields, saw 20\\nSkipping line 10: expected 11 fields, saw 20\\nSkipping line 11: expected 11 fields, saw 20\\n'\n",
      "b'Skipping line 58: expected 2 fields, saw 3\\nSkipping line 82: expected 2 fields, saw 3\\n'\n",
      "b'Skipping line 5: expected 7 fields, saw 8\\nSkipping line 13: expected 7 fields, saw 8\\nSkipping line 20: expected 7 fields, saw 9\\nSkipping line 31: expected 7 fields, saw 8\\nSkipping line 32: expected 7 fields, saw 8\\nSkipping line 34: expected 7 fields, saw 8\\nSkipping line 46: expected 7 fields, saw 8\\nSkipping line 72: expected 7 fields, saw 8\\n'\n",
      "b'Skipping line 53: expected 13 fields, saw 16\\n'\n",
      "b'Skipping line 67: expected 6 fields, saw 7\\n'\n",
      "b'Skipping line 79: expected 8 fields, saw 9\\n'\n",
      "b'Skipping line 37: expected 6 fields, saw 7\\nSkipping line 38: expected 6 fields, saw 7\\n'\n",
      "b'Skipping line 92: expected 4 fields, saw 5\\n'\n",
      "b'Skipping line 5: expected 7 fields, saw 8\\nSkipping line 13: expected 7 fields, saw 8\\nSkipping line 14: expected 7 fields, saw 9\\nSkipping line 16: expected 7 fields, saw 9\\nSkipping line 25: expected 7 fields, saw 8\\nSkipping line 28: expected 7 fields, saw 8\\nSkipping line 33: expected 7 fields, saw 8\\nSkipping line 39: expected 7 fields, saw 8\\nSkipping line 44: expected 7 fields, saw 8\\nSkipping line 48: expected 7 fields, saw 8\\nSkipping line 54: expected 7 fields, saw 8\\nSkipping line 58: expected 7 fields, saw 8\\nSkipping line 61: expected 7 fields, saw 8\\nSkipping line 69: expected 7 fields, saw 8\\nSkipping line 74: expected 7 fields, saw 8\\nSkipping line 81: expected 7 fields, saw 8\\nSkipping line 83: expected 7 fields, saw 8\\nSkipping line 86: expected 7 fields, saw 8\\nSkipping line 89: expected 7 fields, saw 8\\nSkipping line 101: expected 7 fields, saw 9\\nSkipping line 110: expected 7 fields, saw 9\\nSkipping line 111: expected 7 fields, saw 8\\nSkipping line 112: expected 7 fields, saw 8\\nSkipping line 114: expected 7 fields, saw 8\\nSkipping line 115: expected 7 fields, saw 8\\n'\n",
      "b'Skipping line 67: expected 6 fields, saw 7\\n'\n",
      "b'Skipping line 6: expected 9 fields, saw 22\\nSkipping line 7: expected 9 fields, saw 22\\nSkipping line 8: expected 9 fields, saw 22\\nSkipping line 9: expected 9 fields, saw 22\\nSkipping line 10: expected 9 fields, saw 22\\nSkipping line 11: expected 9 fields, saw 22\\nSkipping line 14: expected 9 fields, saw 16\\nSkipping line 21: expected 9 fields, saw 16\\nSkipping line 22: expected 9 fields, saw 22\\nSkipping line 23: expected 9 fields, saw 22\\nSkipping line 26: expected 9 fields, saw 16\\nSkipping line 27: expected 9 fields, saw 22\\nSkipping line 28: expected 9 fields, saw 22\\nSkipping line 29: expected 9 fields, saw 22\\nSkipping line 30: expected 9 fields, saw 22\\nSkipping line 31: expected 9 fields, saw 22\\nSkipping line 32: expected 9 fields, saw 22\\nSkipping line 33: expected 9 fields, saw 22\\nSkipping line 34: expected 9 fields, saw 22\\nSkipping line 37: expected 9 fields, saw 16\\n'\n"
     ]
    },
    {
     "name": "stderr",
     "output_type": "stream",
     "text": [
      "b'Skipping line 15: expected 8 fields, saw 9\\n'\n",
      "b'Skipping line 5: expected 2 fields, saw 4\\n'\n",
      "b'Skipping line 3: expected 10 fields, saw 11\\nSkipping line 7: expected 10 fields, saw 11\\nSkipping line 11: expected 10 fields, saw 11\\nSkipping line 25: expected 10 fields, saw 12\\nSkipping line 26: expected 10 fields, saw 11\\nSkipping line 36: expected 10 fields, saw 11\\nSkipping line 41: expected 10 fields, saw 11\\nSkipping line 42: expected 10 fields, saw 11\\nSkipping line 43: expected 10 fields, saw 11\\nSkipping line 44: expected 10 fields, saw 11\\nSkipping line 45: expected 10 fields, saw 11\\nSkipping line 47: expected 10 fields, saw 11\\n'\n"
     ]
    },
    {
     "name": "stdout",
     "output_type": "stream",
     "text": [
      "WARNING *** File is truncated, or OLE2 MSAT is corrupt!!\n",
      "INFO: Trying to access sector 256 but only 188 available\n",
      "../input/train/兰山区文化市场管理执法局年月月行政处置信息_.xls\n"
     ]
    },
    {
     "name": "stderr",
     "output_type": "stream",
     "text": [
      "b'Skipping line 26: expected 6 fields, saw 9\\nSkipping line 30: expected 6 fields, saw 8\\nSkipping line 32: expected 6 fields, saw 9\\n'\n",
      "b'Skipping line 29: expected 7 fields, saw 8\\n'\n"
     ]
    },
    {
     "name": "stdout",
     "output_type": "stream",
     "text": [
      "../input/train/关于公布黄山市年度餐饮服务食品安全监管量化分级管理A级公司评审成果的通知.xls\n"
     ]
    },
    {
     "name": "stderr",
     "output_type": "stream",
     "text": [
      "b'Skipping line 35: expected 3 fields, saw 5\\nSkipping line 39: expected 3 fields, saw 4\\nSkipping line 42: expected 3 fields, saw 6\\nSkipping line 43: expected 3 fields, saw 6\\nSkipping line 49: expected 3 fields, saw 5\\nSkipping line 54: expected 3 fields, saw 4\\nSkipping line 56: expected 3 fields, saw 5\\nSkipping line 57: expected 3 fields, saw 4\\nSkipping line 59: expected 3 fields, saw 7\\nSkipping line 62: expected 3 fields, saw 7\\nSkipping line 64: expected 3 fields, saw 6\\nSkipping line 68: expected 3 fields, saw 5\\nSkipping line 69: expected 3 fields, saw 4\\nSkipping line 73: expected 3 fields, saw 5\\nSkipping line 75: expected 3 fields, saw 4\\nSkipping line 78: expected 3 fields, saw 7\\nSkipping line 83: expected 3 fields, saw 5\\nSkipping line 86: expected 3 fields, saw 5\\nSkipping line 90: expected 3 fields, saw 4\\nSkipping line 92: expected 3 fields, saw 5\\nSkipping line 97: expected 3 fields, saw 6\\nSkipping line 101: expected 3 fields, saw 8\\nSkipping line 102: expected 3 fields, saw 8\\nSkipping line 106: expected 3 fields, saw 13\\nSkipping line 108: expected 3 fields, saw 4\\nSkipping line 109: expected 3 fields, saw 5\\nSkipping line 111: expected 3 fields, saw 7\\nSkipping line 113: expected 3 fields, saw 6\\n'\n",
      "b'Skipping line 28: expected 9 fields, saw 10\\nSkipping line 98: expected 9 fields, saw 10\\nSkipping line 99: expected 9 fields, saw 10\\nSkipping line 100: expected 9 fields, saw 10\\nSkipping line 101: expected 9 fields, saw 10\\nSkipping line 102: expected 9 fields, saw 10\\nSkipping line 103: expected 9 fields, saw 10\\nSkipping line 104: expected 9 fields, saw 10\\nSkipping line 105: expected 9 fields, saw 10\\nSkipping line 108: expected 9 fields, saw 10\\nSkipping line 109: expected 9 fields, saw 10\\nSkipping line 110: expected 9 fields, saw 10\\nSkipping line 111: expected 9 fields, saw 10\\nSkipping line 112: expected 9 fields, saw 10\\nSkipping line 113: expected 9 fields, saw 10\\nSkipping line 116: expected 9 fields, saw 10\\nSkipping line 117: expected 9 fields, saw 10\\nSkipping line 118: expected 9 fields, saw 10\\nSkipping line 119: expected 9 fields, saw 10\\nSkipping line 120: expected 9 fields, saw 10\\nSkipping line 121: expected 9 fields, saw 10\\nSkipping line 122: expected 9 fields, saw 10\\nSkipping line 123: expected 9 fields, saw 10\\n'\n",
      "b'Skipping line 26: expected 8 fields, saw 9\\n'\n",
      "b'Skipping line 38: expected 6 fields, saw 7\\n'\n",
      "b'Skipping line 79: expected 8 fields, saw 9\\n'\n",
      "b'Skipping line 29: expected 7 fields, saw 8\\n'\n",
      "b'Skipping line 3: expected 17 fields, saw 18\\nSkipping line 25: expected 17 fields, saw 18\\nSkipping line 33: expected 17 fields, saw 18\\n'\n",
      "b'Skipping line 14: expected 3 fields, saw 4\\n'\n",
      "b'Skipping line 18: expected 19 fields, saw 21\\nSkipping line 81: expected 19 fields, saw 21\\n'\n",
      "b'Skipping line 17: expected 10 fields, saw 11\\nSkipping line 48: expected 10 fields, saw 12\\nSkipping line 56: expected 10 fields, saw 11\\nSkipping line 57: expected 10 fields, saw 14\\nSkipping line 74: expected 10 fields, saw 13\\n'\n",
      "b'Skipping line 44: expected 12 fields, saw 13\\nSkipping line 53: expected 12 fields, saw 13\\n'\n",
      "b'Skipping line 18: expected 19 fields, saw 21\\nSkipping line 81: expected 19 fields, saw 21\\n'\n"
     ]
    },
    {
     "name": "stdout",
     "output_type": "stream",
     "text": [
      "../input/train/长岛县年度估算执行和专项审计工程策划归纳表_.xls\n"
     ]
    },
    {
     "name": "stderr",
     "output_type": "stream",
     "text": [
      "b'Skipping line 9: expected 11 fields, saw 14\\nSkipping line 20: expected 11 fields, saw 14\\nSkipping line 25: expected 11 fields, saw 12\\nSkipping line 45: expected 11 fields, saw 15\\nSkipping line 73: expected 11 fields, saw 12\\n'\n",
      "b'Skipping line 42: expected 3 fields, saw 4\\n'\n",
      "b'Skipping line 49: expected 4 fields, saw 5\\n'\n"
     ]
    },
    {
     "name": "stdout",
     "output_type": "stream",
     "text": [
      "../input/train/长岛县年度估算执行和专项审计工程筹划总结表_.xls\n",
      "../input/train/关于公布黄山市年度餐饮服务食品安全监察量化分级管理A级企业评审效果的通知.xls\n"
     ]
    },
    {
     "name": "stderr",
     "output_type": "stream",
     "text": [
      "b'Skipping line 37: expected 9 fields, saw 12\\nSkipping line 60: expected 9 fields, saw 12\\nSkipping line 67: expected 9 fields, saw 12\\n'\n"
     ]
    },
    {
     "name": "stdout",
     "output_type": "stream",
     "text": [
      "../input/train/武汉市安全生产监管管理局各区组织 .csv\n"
     ]
    },
    {
     "name": "stderr",
     "output_type": "stream",
     "text": [
      "b'Skipping line 4: expected 7 fields, saw 8\\nSkipping line 17: expected 7 fields, saw 8\\nSkipping line 21: expected 7 fields, saw 8\\nSkipping line 29: expected 7 fields, saw 8\\nSkipping line 45: expected 7 fields, saw 8\\nSkipping line 80: expected 7 fields, saw 8\\n'\n",
      "b'Skipping line 5: expected 6 fields, saw 8\\nSkipping line 12: expected 6 fields, saw 7\\nSkipping line 51: expected 6 fields, saw 9\\nSkipping line 54: expected 6 fields, saw 7\\nSkipping line 55: expected 6 fields, saw 8\\nSkipping line 66: expected 6 fields, saw 10\\n'\n",
      "b'Skipping line 3: expected 10 fields, saw 11\\nSkipping line 7: expected 10 fields, saw 11\\nSkipping line 11: expected 10 fields, saw 11\\nSkipping line 25: expected 10 fields, saw 12\\nSkipping line 26: expected 10 fields, saw 11\\nSkipping line 36: expected 10 fields, saw 11\\nSkipping line 41: expected 10 fields, saw 11\\nSkipping line 42: expected 10 fields, saw 11\\nSkipping line 43: expected 10 fields, saw 11\\nSkipping line 44: expected 10 fields, saw 11\\nSkipping line 45: expected 10 fields, saw 11\\nSkipping line 47: expected 10 fields, saw 11\\n'\n",
      "b'Skipping line 65: expected 11 fields, saw 12\\n'\n",
      "b'Skipping line 11: expected 5 fields, saw 6\\nSkipping line 36: expected 5 fields, saw 6\\nSkipping line 49: expected 5 fields, saw 6\\nSkipping line 58: expected 5 fields, saw 6\\nSkipping line 60: expected 5 fields, saw 6\\nSkipping line 61: expected 5 fields, saw 6\\nSkipping line 63: expected 5 fields, saw 6\\nSkipping line 75: expected 5 fields, saw 6\\nSkipping line 79: expected 5 fields, saw 6\\nSkipping line 90: expected 5 fields, saw 6\\nSkipping line 99: expected 5 fields, saw 6\\nSkipping line 103: expected 5 fields, saw 6\\nSkipping line 105: expected 5 fields, saw 6\\n'\n",
      "b'Skipping line 38: expected 6 fields, saw 7\\n'\n",
      "b'Skipping line 33: expected 11 fields, saw 13\\n'\n",
      "b'Skipping line 6: expected 3 fields, saw 4\\nSkipping line 22: expected 3 fields, saw 4\\nSkipping line 39: expected 3 fields, saw 4\\n'\n",
      "b'Skipping line 23: expected 4 fields, saw 7\\n'\n",
      "b'Skipping line 5: expected 7 fields, saw 8\\nSkipping line 13: expected 7 fields, saw 8\\nSkipping line 20: expected 7 fields, saw 9\\nSkipping line 31: expected 7 fields, saw 8\\nSkipping line 32: expected 7 fields, saw 8\\nSkipping line 34: expected 7 fields, saw 8\\nSkipping line 46: expected 7 fields, saw 8\\nSkipping line 72: expected 7 fields, saw 8\\n'\n"
     ]
    },
    {
     "name": "stdout",
     "output_type": "stream",
     "text": [
      "\n",
      "Wall time: 23min 23s\n"
     ]
    }
   ],
   "source": [
    "%%time\n",
    "train_texts_augment = preprocess(answer_df)"
   ]
  },
  {
   "cell_type": "code",
   "execution_count": 86,
   "metadata": {},
   "outputs": [],
   "source": [
    "answer_df['text'] = answer_df.filename.map(train_texts_augment)"
   ]
  },
  {
   "cell_type": "code",
   "execution_count": 87,
   "metadata": {},
   "outputs": [],
   "source": [
    "answer_df.to_csv(\"../tmp_input/train_df_processed_1207_aug_5_chinese.csv\", index=False)"
   ]
  },
  {
   "cell_type": "code",
   "execution_count": 133,
   "metadata": {},
   "outputs": [],
   "source": [
    "df1206 = pd.read_csv(\"../output/content_only_prediction_1206.csv\")"
   ]
  },
  {
   "cell_type": "code",
   "execution_count": 136,
   "metadata": {
    "scrolled": true
   },
   "outputs": [
    {
     "name": "stderr",
     "output_type": "stream",
     "text": [
      "D:\\Anaconda3\\envs\\ieee\\lib\\site-packages\\ipykernel_launcher.py:4: TqdmDeprecationWarning: This function will be removed in tqdm==5.0.0\n",
      "Please use `tqdm.notebook.tqdm` instead of `tqdm.tqdm_notebook`\n",
      "  after removing the cwd from sys.path.\n"
     ]
    },
    {
     "data": {
      "application/vnd.jupyter.widget-view+json": {
       "model_id": "606d704656f34fde99a4810403cff29f",
       "version_major": 2,
       "version_minor": 0
      },
      "text/plain": [
       "HBox(children=(FloatProgress(value=0.0, max=7399.0), HTML(value='')))"
      ]
     },
     "metadata": {},
     "output_type": "display_data"
    },
    {
     "name": "stderr",
     "output_type": "stream",
     "text": [
      "b'Skipping line 96: expected 11 fields, saw 12\\n'\n",
      "D:\\Anaconda3\\envs\\ieee\\lib\\site-packages\\IPython\\core\\magics\\execution.py:1312: DtypeWarning: Columns (0) have mixed types.Specify dtype option on import or set low_memory=False.\n",
      "  exec(code, glob, local_ns)\n",
      "b'Skipping line 19: expected 7 fields, saw 8\\nSkipping line 25: expected 7 fields, saw 9\\nSkipping line 43: expected 7 fields, saw 8\\nSkipping line 47: expected 7 fields, saw 10\\nSkipping line 61: expected 7 fields, saw 8\\nSkipping line 80: expected 7 fields, saw 9\\nSkipping line 81: expected 7 fields, saw 10\\nSkipping line 90: expected 7 fields, saw 8\\nSkipping line 91: expected 7 fields, saw 9\\n'\n",
      "b'Skipping line 81: expected 6 fields, saw 7\\n'\n",
      "b'Skipping line 58: expected 7 fields, saw 8\\nSkipping line 61: expected 7 fields, saw 9\\nSkipping line 64: expected 7 fields, saw 9\\nSkipping line 83: expected 7 fields, saw 8\\nSkipping line 87: expected 7 fields, saw 8\\nSkipping line 88: expected 7 fields, saw 8\\nSkipping line 89: expected 7 fields, saw 8\\nSkipping line 90: expected 7 fields, saw 8\\n'\n",
      "b'Skipping line 41: expected 11 fields, saw 12\\n'\n",
      "b'Skipping line 12: expected 10 fields, saw 13\\nSkipping line 17: expected 10 fields, saw 13\\nSkipping line 40: expected 10 fields, saw 13\\nSkipping line 41: expected 10 fields, saw 12\\nSkipping line 42: expected 10 fields, saw 12\\nSkipping line 43: expected 10 fields, saw 12\\nSkipping line 48: expected 10 fields, saw 13\\n'\n",
      "b'Skipping line 20: expected 2 fields, saw 3\\nSkipping line 54: expected 2 fields, saw 3\\n'\n",
      "b'Skipping line 96: expected 28 fields, saw 30\\n'\n",
      "b'Skipping line 80: expected 9 fields, saw 10\\n'\n",
      "b'Skipping line 8: expected 4 fields, saw 5\\n'\n",
      "b'Skipping line 27: expected 5 fields, saw 6\\nSkipping line 147: expected 5 fields, saw 6\\n'\n",
      "b'Skipping line 22: expected 3 fields, saw 4\\nSkipping line 24: expected 3 fields, saw 4\\nSkipping line 25: expected 3 fields, saw 4\\nSkipping line 47: expected 3 fields, saw 4\\n'\n",
      "b'Skipping line 23: expected 4 fields, saw 5\\n'\n",
      "b'Skipping line 92: expected 8 fields, saw 9\\n'\n",
      "b'Skipping line 3: expected 10 fields, saw 11\\n'\n",
      "b'Skipping line 18: expected 20 fields, saw 21\\nSkipping line 19: expected 20 fields, saw 21\\nSkipping line 23: expected 20 fields, saw 21\\nSkipping line 65: expected 20 fields, saw 21\\nSkipping line 70: expected 20 fields, saw 21\\nSkipping line 71: expected 20 fields, saw 21\\nSkipping line 72: expected 20 fields, saw 21\\nSkipping line 73: expected 20 fields, saw 21\\nSkipping line 74: expected 20 fields, saw 21\\nSkipping line 75: expected 20 fields, saw 21\\nSkipping line 76: expected 20 fields, saw 21\\nSkipping line 77: expected 20 fields, saw 21\\nSkipping line 79: expected 20 fields, saw 21\\nSkipping line 88: expected 20 fields, saw 21\\nSkipping line 98: expected 20 fields, saw 21\\nSkipping line 99: expected 20 fields, saw 21\\n'\n",
      "b'Skipping line 11: expected 10 fields, saw 11\\nSkipping line 12: expected 10 fields, saw 11\\nSkipping line 16: expected 10 fields, saw 11\\nSkipping line 17: expected 10 fields, saw 11\\nSkipping line 18: expected 10 fields, saw 11\\nSkipping line 19: expected 10 fields, saw 11\\nSkipping line 20: expected 10 fields, saw 11\\nSkipping line 21: expected 10 fields, saw 11\\nSkipping line 22: expected 10 fields, saw 11\\n'\n",
      "b'Skipping line 54: expected 17 fields, saw 18\\n'\n",
      "b'Skipping line 85: expected 12 fields, saw 13\\n'\n",
      "b'Skipping line 8: expected 4 fields, saw 5\\n'\n",
      "b'Skipping line 33: expected 10 fields, saw 15\\nSkipping line 36: expected 10 fields, saw 23\\nSkipping line 80: expected 10 fields, saw 11\\n'\n",
      "b'Skipping line 6: expected 9 fields, saw 10\\n'\n",
      "b'Skipping line 92: expected 8 fields, saw 9\\n'\n",
      "b'Skipping line 16: expected 8 fields, saw 10\\nSkipping line 69: expected 8 fields, saw 9\\nSkipping line 87: expected 8 fields, saw 10\\n'\n",
      "b'Skipping line 4: expected 8 fields, saw 9\\nSkipping line 65: expected 8 fields, saw 9\\nSkipping line 92: expected 8 fields, saw 9\\n'\n",
      "b'Skipping line 58: expected 7 fields, saw 8\\nSkipping line 61: expected 7 fields, saw 9\\nSkipping line 64: expected 7 fields, saw 9\\nSkipping line 83: expected 7 fields, saw 8\\nSkipping line 87: expected 7 fields, saw 8\\nSkipping line 88: expected 7 fields, saw 8\\nSkipping line 89: expected 7 fields, saw 8\\nSkipping line 90: expected 7 fields, saw 8\\n'\n",
      "b'Skipping line 20: expected 2 fields, saw 3\\nSkipping line 54: expected 2 fields, saw 3\\n'\n",
      "b'Skipping line 5: expected 10 fields, saw 11\\nSkipping line 6: expected 10 fields, saw 11\\nSkipping line 7: expected 10 fields, saw 11\\nSkipping line 8: expected 10 fields, saw 11\\nSkipping line 9: expected 10 fields, saw 11\\nSkipping line 10: expected 10 fields, saw 11\\nSkipping line 14: expected 10 fields, saw 11\\nSkipping line 15: expected 10 fields, saw 11\\nSkipping line 16: expected 10 fields, saw 12\\nSkipping line 17: expected 10 fields, saw 11\\nSkipping line 18: expected 10 fields, saw 11\\nSkipping line 19: expected 10 fields, saw 11\\nSkipping line 20: expected 10 fields, saw 11\\nSkipping line 21: expected 10 fields, saw 13\\nSkipping line 22: expected 10 fields, saw 11\\nSkipping line 23: expected 10 fields, saw 11\\nSkipping line 24: expected 10 fields, saw 11\\nSkipping line 25: expected 10 fields, saw 11\\nSkipping line 28: expected 10 fields, saw 11\\nSkipping line 29: expected 10 fields, saw 11\\nSkipping line 30: expected 10 fields, saw 11\\nSkipping line 31: expected 10 fields, saw 11\\nSkipping line 32: expected 10 fields, saw 11\\nSkipping line 33: expected 10 fields, saw 11\\nSkipping line 34: expected 10 fields, saw 11\\nSkipping line 46: expected 10 fields, saw 11\\nSkipping line 47: expected 10 fields, saw 11\\nSkipping line 48: expected 10 fields, saw 11\\nSkipping line 49: expected 10 fields, saw 11\\nSkipping line 50: expected 10 fields, saw 11\\nSkipping line 51: expected 10 fields, saw 11\\nSkipping line 52: expected 10 fields, saw 11\\nSkipping line 53: expected 10 fields, saw 11\\nSkipping line 54: expected 10 fields, saw 11\\nSkipping line 55: expected 10 fields, saw 11\\nSkipping line 61: expected 10 fields, saw 11\\nSkipping line 62: expected 10 fields, saw 11\\nSkipping line 65: expected 10 fields, saw 11\\nSkipping line 66: expected 10 fields, saw 12\\nSkipping line 67: expected 10 fields, saw 11\\nSkipping line 68: expected 10 fields, saw 11\\nSkipping line 73: expected 10 fields, saw 11\\nSkipping line 74: expected 10 fields, saw 11\\nSkipping line 75: expected 10 fields, saw 11\\nSkipping line 76: expected 10 fields, saw 11\\nSkipping line 77: expected 10 fields, saw 11\\nSkipping line 80: expected 10 fields, saw 11\\nSkipping line 82: expected 10 fields, saw 11\\nSkipping line 83: expected 10 fields, saw 11\\nSkipping line 84: expected 10 fields, saw 11\\nSkipping line 85: expected 10 fields, saw 14\\nSkipping line 86: expected 10 fields, saw 11\\nSkipping line 87: expected 10 fields, saw 11\\nSkipping line 89: expected 10 fields, saw 11\\nSkipping line 90: expected 10 fields, saw 11\\nSkipping line 91: expected 10 fields, saw 11\\nSkipping line 92: expected 10 fields, saw 11\\nSkipping line 96: expected 10 fields, saw 11\\nSkipping line 97: expected 10 fields, saw 11\\nSkipping line 98: expected 10 fields, saw 11\\nSkipping line 99: expected 10 fields, saw 11\\nSkipping line 100: expected 10 fields, saw 11\\nSkipping line 101: expected 10 fields, saw 11\\nSkipping line 102: expected 10 fields, saw 12\\nSkipping line 103: expected 10 fields, saw 11\\nSkipping line 104: expected 10 fields, saw 11\\nSkipping line 105: expected 10 fields, saw 11\\nSkipping line 110: expected 10 fields, saw 11\\nSkipping line 113: expected 10 fields, saw 11\\nSkipping line 114: expected 10 fields, saw 12\\nSkipping line 116: expected 10 fields, saw 12\\nSkipping line 119: expected 10 fields, saw 11\\nSkipping line 120: expected 10 fields, saw 11\\nSkipping line 124: expected 10 fields, saw 11\\nSkipping line 125: expected 10 fields, saw 11\\nSkipping line 126: expected 10 fields, saw 11\\nSkipping line 127: expected 10 fields, saw 11\\nSkipping line 128: expected 10 fields, saw 11\\nSkipping line 129: expected 10 fields, saw 11\\nSkipping line 134: expected 10 fields, saw 11\\nSkipping line 135: expected 10 fields, saw 11\\nSkipping line 136: expected 10 fields, saw 11\\nSkipping line 137: expected 10 fields, saw 11\\nSkipping line 138: expected 10 fields, saw 11\\nSkipping line 139: expected 10 fields, saw 11\\nSkipping line 140: expected 10 fields, saw 11\\nSkipping line 141: expected 10 fields, saw 11\\nSkipping line 142: expected 10 fields, saw 11\\nSkipping line 143: expected 10 fields, saw 11\\nSkipping line 144: expected 10 fields, saw 11\\nSkipping line 145: expected 10 fields, saw 12\\nSkipping line 146: expected 10 fields, saw 11\\nSkipping line 148: expected 10 fields, saw 12\\nSkipping line 149: expected 10 fields, saw 12\\nSkipping line 150: expected 10 fields, saw 12\\nSkipping line 152: expected 10 fields, saw 12\\nSkipping line 153: expected 10 fields, saw 12\\nSkipping line 154: expected 10 fields, saw 12\\nSkipping line 155: expected 10 fields, saw 11\\nSkipping line 157: expected 10 fields, saw 12\\nSkipping line 158: expected 10 fields, saw 11\\nSkipping line 159: expected 10 fields, saw 11\\nSkipping line 162: expected 10 fields, saw 11\\nSkipping line 170: expected 10 fields, saw 11\\nSkipping line 175: expected 10 fields, saw 11\\nSkipping line 176: expected 10 fields, saw 11\\nSkipping line 182: expected 10 fields, saw 11\\nSkipping line 189: expected 10 fields, saw 11\\nSkipping line 192: expected 10 fields, saw 11\\nSkipping line 193: expected 10 fields, saw 11\\nSkipping line 194: expected 10 fields, saw 11\\nSkipping line 195: expected 10 fields, saw 11\\nSkipping line 196: expected 10 fields, saw 11\\nSkipping line 197: expected 10 fields, saw 12\\nSkipping line 198: expected 10 fields, saw 11\\nSkipping line 199: expected 10 fields, saw 11\\nSkipping line 200: expected 10 fields, saw 11\\nSkipping line 204: expected 10 fields, saw 12\\nSkipping line 205: expected 10 fields, saw 12\\nSkipping line 206: expected 10 fields, saw 12\\nSkipping line 207: expected 10 fields, saw 12\\nSkipping line 208: expected 10 fields, saw 12\\nSkipping line 211: expected 10 fields, saw 12\\nSkipping line 213: expected 10 fields, saw 11\\nSkipping line 215: expected 10 fields, saw 12\\nSkipping line 216: expected 10 fields, saw 12\\nSkipping line 217: expected 10 fields, saw 11\\nSkipping line 218: expected 10 fields, saw 11\\nSkipping line 224: expected 10 fields, saw 11\\n'\n"
     ]
    },
    {
     "name": "stderr",
     "output_type": "stream",
     "text": [
      "b'Skipping line 16: expected 14 fields, saw 15\\nSkipping line 50: expected 14 fields, saw 15\\n'\n"
     ]
    },
    {
     "name": "stdout",
     "output_type": "stream",
     "text": [
      "\n",
      "Wall time: 6min 27s\n"
     ]
    }
   ],
   "source": [
    "%%time\n",
    "test_texts_augment = preprocess(df1206)"
   ]
  },
  {
   "cell_type": "code",
   "execution_count": 137,
   "metadata": {},
   "outputs": [],
   "source": [
    "test2_df['text'] = test2_df.filename.map(test_texts_augment)\n",
    "test2_df.to_csv(\"../tmp_input/test_df_processed_1207_chinese.csv\", index=False)"
   ]
  }
 ],
 "metadata": {
  "kernelspec": {
   "display_name": "Python3 (ieee)",
   "language": "python",
   "name": "ieee"
  },
  "language_info": {
   "codemirror_mode": {
    "name": "ipython",
    "version": 3
   },
   "file_extension": ".py",
   "mimetype": "text/x-python",
   "name": "python",
   "nbconvert_exporter": "python",
   "pygments_lexer": "ipython3",
   "version": "3.7.6"
  }
 },
 "nbformat": 4,
 "nbformat_minor": 2
}
