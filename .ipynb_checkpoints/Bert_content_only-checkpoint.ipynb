{
 "cells": [
  {
   "cell_type": "code",
   "execution_count": 2,
   "metadata": {
    "execution": {
     "iopub.execute_input": "2020-12-07T00:46:21.354640Z",
     "iopub.status.busy": "2020-12-07T00:46:21.353744Z",
     "iopub.status.idle": "2020-12-07T00:46:21.357280Z",
     "shell.execute_reply": "2020-12-07T00:46:21.356539Z"
    },
    "papermill": {
     "duration": 0.038668,
     "end_time": "2020-12-07T00:46:21.357405",
     "exception": false,
     "start_time": "2020-12-07T00:46:21.318737",
     "status": "completed"
    },
    "tags": []
   },
   "outputs": [],
   "source": [
    "RUN_TEST = True"
   ]
  },
  {
   "cell_type": "code",
   "execution_count": 3,
   "metadata": {
    "execution": {
     "iopub.execute_input": "2020-12-07T00:46:21.422294Z",
     "iopub.status.busy": "2020-12-07T00:46:21.421217Z",
     "iopub.status.idle": "2020-12-07T00:46:21.424730Z",
     "shell.execute_reply": "2020-12-07T00:46:21.423943Z"
    },
    "papermill": {
     "duration": 0.038004,
     "end_time": "2020-12-07T00:46:21.424863",
     "exception": false,
     "start_time": "2020-12-07T00:46:21.386859",
     "status": "completed"
    },
    "tags": []
   },
   "outputs": [],
   "source": [
    "from time import time\n",
    "start_time = time()"
   ]
  },
  {
   "cell_type": "code",
   "execution_count": 4,
   "metadata": {
    "_cell_guid": "b1076dfc-b9ad-4769-8c92-a6c4dae69d19",
    "_uuid": "8f2839f25d086af736a60e9eeb907d3b93b6e0e5",
    "execution": {
     "iopub.execute_input": "2020-12-07T00:46:21.492505Z",
     "iopub.status.busy": "2020-12-07T00:46:21.491455Z",
     "iopub.status.idle": "2020-12-07T00:46:32.086734Z",
     "shell.execute_reply": "2020-12-07T00:46:32.085804Z"
    },
    "papermill": {
     "duration": 10.630543,
     "end_time": "2020-12-07T00:46:32.086911",
     "exception": false,
     "start_time": "2020-12-07T00:46:21.456368",
     "status": "completed"
    },
    "tags": []
   },
   "outputs": [
    {
     "name": "stderr",
     "output_type": "stream",
     "text": [
      "\u001b[34m\u001b[1mwandb\u001b[0m: \u001b[33mWARNING\u001b[0m W&B installed but not logged in.  Run `wandb login` or set the WANDB_API_KEY env variable.\n"
     ]
    },
    {
     "name": "stdout",
     "output_type": "stream",
     "text": [
      "2.2.0\n",
      "2.11.0\n"
     ]
    }
   ],
   "source": [
    "import tensorflow as tf\n",
    "import transformers\n",
    "\n",
    "print(tf.__version__)\n",
    "print(transformers.__version__)"
   ]
  },
  {
   "cell_type": "code",
   "execution_count": 5,
   "metadata": {
    "_cell_guid": "79c7e3d0-c299-4dcb-8224-4455121ee9b0",
    "_uuid": "d629ff2d2480ee46fbb7e2d37f6b5fab8052498a",
    "execution": {
     "iopub.execute_input": "2020-12-07T00:46:32.274960Z",
     "iopub.status.busy": "2020-12-07T00:46:32.172255Z",
     "iopub.status.idle": "2020-12-07T00:46:36.475050Z",
     "shell.execute_reply": "2020-12-07T00:46:36.474004Z"
    },
    "papermill": {
     "duration": 4.35631,
     "end_time": "2020-12-07T00:46:36.475209",
     "exception": false,
     "start_time": "2020-12-07T00:46:32.118899",
     "status": "completed"
    },
    "tags": []
   },
   "outputs": [
    {
     "name": "stdout",
     "output_type": "stream",
     "text": [
      "Running on TPU  ['10.0.0.2:8470']\n",
      "REPLICAS:  8\n"
     ]
    }
   ],
   "source": [
    "# Detect hardware, return appropriate distribution strategy\n",
    "try:\n",
    "    tpu = tf.distribute.cluster_resolver.TPUClusterResolver()  # TPU detection\n",
    "    print('Running on TPU ', tpu.cluster_spec().as_dict()['worker'])\n",
    "except ValueError:\n",
    "    tpu = None\n",
    "    gpus = tf.config.experimental.list_logical_devices(\"GPU\")\n",
    "\n",
    "if tpu:\n",
    "    tf.config.experimental_connect_to_cluster(tpu)\n",
    "    tf.tpu.experimental.initialize_tpu_system(tpu)\n",
    "    strategy = tf.distribute.experimental.TPUStrategy(tpu)\n",
    "elif len(gpus) > 1: # multiple GPUs in one VM\n",
    "    strategy = tf.distribute.MirroredStrategy(gpus)\n",
    "else: # default strategy that works on CPU and single GPU\n",
    "    strategy = tf.distribute.get_strategy()\n",
    "\n",
    "print(\"REPLICAS: \", strategy.num_replicas_in_sync)"
   ]
  },
  {
   "cell_type": "code",
   "execution_count": 6,
   "metadata": {
    "execution": {
     "iopub.execute_input": "2020-12-07T00:46:36.551110Z",
     "iopub.status.busy": "2020-12-07T00:46:36.549846Z",
     "iopub.status.idle": "2020-12-07T00:46:36.555665Z",
     "shell.execute_reply": "2020-12-07T00:46:36.554616Z"
    },
    "papermill": {
     "duration": 0.047044,
     "end_time": "2020-12-07T00:46:36.555856",
     "exception": false,
     "start_time": "2020-12-07T00:46:36.508812",
     "status": "completed"
    },
    "tags": []
   },
   "outputs": [],
   "source": [
    "PUNCT_SET = set(\"#《》【】[]\") # 保留这些预定义的标点\n",
    "def is_chinese(uchar: str) -> bool:\n",
    "    # 暂时保留以下字符，看看CV是否提高\n",
    "    if uchar in PUNCT_SET:\n",
    "        return True\n",
    "    if uchar >= '\\u4e00' and uchar <= '\\u9fa5':\n",
    "        return True\n",
    "    else:\n",
    "        return False\n",
    "\n",
    "def reserve_chinese(content: str, threshold: int = 512) -> str:\n",
    "    content_str = ''\n",
    "    c = 0\n",
    "    for i in content:\n",
    "        if c == threshold:\n",
    "            break\n",
    "        if is_chinese(i):\n",
    "            content_str += i\n",
    "            c += 1\n",
    "    return content_str"
   ]
  },
  {
   "cell_type": "code",
   "execution_count": 7,
   "metadata": {
    "execution": {
     "iopub.execute_input": "2020-12-07T00:46:36.655709Z",
     "iopub.status.busy": "2020-12-07T00:46:36.654041Z",
     "iopub.status.idle": "2020-12-07T00:46:37.926473Z",
     "shell.execute_reply": "2020-12-07T00:46:37.925646Z"
    },
    "papermill": {
     "duration": 1.326057,
     "end_time": "2020-12-07T00:46:37.926628",
     "exception": false,
     "start_time": "2020-12-07T00:46:36.600571",
     "status": "completed"
    },
    "tags": []
   },
   "outputs": [],
   "source": [
    "import numpy as np # linear algebra\n",
    "import pandas as pd # data processing, CSV file I/O (e.g. pd.read_csv)\n",
    "\n",
    "import re\n",
    "import os\n",
    "import pickle\n",
    "from tqdm.notebook import tqdm\n",
    "\n",
    "import seaborn as sns\n",
    "import plotly.express as px\n",
    "import matplotlib.pyplot as plt\n",
    "%matplotlib inline\n",
    "\n",
    "from sklearn.metrics import *\n",
    "from sklearn.model_selection import StratifiedKFold\n",
    "from sklearn.model_selection import train_test_split\n",
    "from sklearn.utils import shuffle\n",
    "\n",
    "# TENSORFLOW\n",
    "from tensorflow.keras.layers import Dense, Input, Dropout\n",
    "from tensorflow.keras.optimizers import Adam\n",
    "from tensorflow.keras.models import Model\n",
    "from tensorflow.keras.callbacks import ModelCheckpoint\n",
    "from tensorflow.keras.utils import to_categorical\n",
    "from tensorflow.keras.layers import Dense, Input, GlobalAveragePooling1D, GlobalMaxPooling1D\n",
    "\n",
    "# HUGGINGFACE\n",
    "from tokenizers import BertWordPieceTokenizer\n",
    "from transformers import TFAutoModel, AutoTokenizer, TFBertModel\n",
    "from transformers import TFBertForSequenceClassification, TFTrainer, TFTrainingArguments\n",
    "from transformers import AdamWeightDecay"
   ]
  },
  {
   "cell_type": "code",
   "execution_count": 8,
   "metadata": {
    "execution": {
     "iopub.execute_input": "2020-12-07T00:46:38.007062Z",
     "iopub.status.busy": "2020-12-07T00:46:38.005883Z",
     "iopub.status.idle": "2020-12-07T00:46:38.008903Z",
     "shell.execute_reply": "2020-12-07T00:46:38.008216Z"
    },
    "papermill": {
     "duration": 0.049373,
     "end_time": "2020-12-07T00:46:38.009038",
     "exception": false,
     "start_time": "2020-12-07T00:46:37.959665",
     "status": "completed"
    },
    "tags": []
   },
   "outputs": [],
   "source": [
    "AUTO = tf.data.experimental.AUTOTUNE\n",
    "\n",
    "# Configuration\n",
    "EPOCHS = 2\n",
    "N_FOLDS = 10\n",
    "BATCH_SIZE = 32 * strategy.num_replicas_in_sync\n",
    "MAX_LEN = 192\n",
    "NUM_AUG = 8\n",
    "\n",
    "MODEL_NAME = 'bert-base-chinese'"
   ]
  },
  {
   "cell_type": "code",
   "execution_count": 11,
   "metadata": {
    "execution": {
     "iopub.execute_input": "2020-12-07T00:46:38.229515Z",
     "iopub.status.busy": "2020-12-07T00:46:38.228395Z",
     "iopub.status.idle": "2020-12-07T00:46:40.472202Z",
     "shell.execute_reply": "2020-12-07T00:46:40.471505Z"
    },
    "papermill": {
     "duration": 2.28214,
     "end_time": "2020-12-07T00:46:40.472328",
     "exception": false,
     "start_time": "2020-12-07T00:46:38.190188",
     "status": "completed"
    },
    "tags": []
   },
   "outputs": [
    {
     "data": {
      "application/vnd.jupyter.widget-view+json": {
       "model_id": "4957ed1f68444563b694286d3a4a7e0e",
       "version_major": 2,
       "version_minor": 0
      },
      "text/plain": [
       "HBox(children=(FloatProgress(value=0.0, description='Downloading', max=624.0, style=ProgressStyle(description_…"
      ]
     },
     "metadata": {},
     "output_type": "display_data"
    },
    {
     "name": "stdout",
     "output_type": "stream",
     "text": [
      "\n"
     ]
    },
    {
     "data": {
      "application/vnd.jupyter.widget-view+json": {
       "model_id": "d06f0671631a4e10a94a68c90eafaad9",
       "version_major": 2,
       "version_minor": 0
      },
      "text/plain": [
       "HBox(children=(FloatProgress(value=0.0, description='Downloading', max=109540.0, style=ProgressStyle(descripti…"
      ]
     },
     "metadata": {},
     "output_type": "display_data"
    },
    {
     "name": "stdout",
     "output_type": "stream",
     "text": [
      "\n"
     ]
    }
   ],
   "source": [
    "tokenizer = AutoTokenizer.from_pretrained(MODEL_NAME)"
   ]
  },
  {
   "cell_type": "code",
   "execution_count": 12,
   "metadata": {
    "execution": {
     "iopub.execute_input": "2020-12-07T00:46:40.552581Z",
     "iopub.status.busy": "2020-12-07T00:46:40.551465Z",
     "iopub.status.idle": "2020-12-07T00:46:40.555403Z",
     "shell.execute_reply": "2020-12-07T00:46:40.554564Z"
    },
    "papermill": {
     "duration": 0.04794,
     "end_time": "2020-12-07T00:46:40.555561",
     "exception": false,
     "start_time": "2020-12-07T00:46:40.507621",
     "status": "completed"
    },
    "tags": []
   },
   "outputs": [],
   "source": [
    "labels = ['文化休闲', '医疗卫生', '教育科技', '城乡建设', '工业', '交通运输', '生态环境', '经济管理',\n",
    "       '政法监察', '农业畜牧业', '文秘行政', '劳动人事', '信息产业', '民政社区', '旅游服务', '商业贸易',\n",
    "       '气象水文测绘地震地理', '资源能源', '财税金融', '外交外事']\n",
    "\n",
    "label_map, inv_label_map = {}, {}\n",
    "for idx, label in enumerate(labels):\n",
    "    label_map[label] = idx\n",
    "    inv_label_map[idx] = label"
   ]
  },
  {
   "cell_type": "code",
   "execution_count": 13,
   "metadata": {
    "execution": {
     "iopub.execute_input": "2020-12-07T00:46:40.648672Z",
     "iopub.status.busy": "2020-12-07T00:46:40.647741Z",
     "iopub.status.idle": "2020-12-07T00:47:45.847205Z",
     "shell.execute_reply": "2020-12-07T00:47:45.847804Z"
    },
    "papermill": {
     "duration": 65.255362,
     "end_time": "2020-12-07T00:47:45.847979",
     "exception": false,
     "start_time": "2020-12-07T00:46:40.592617",
     "status": "completed"
    },
    "tags": []
   },
   "outputs": [],
   "source": [
    "train_df_aug = pd.read_csv(\"/kaggle/input/onecity/train_df_processed_1206_aug_5_chinese.csv\")\n",
    "\n",
    "text_df = pd.DataFrame(train_df_aug['text'].apply(eval).to_list(), columns=[f'text{i}' for i in range(1, NUM_AUG+1)])\n",
    "text_df = text_df.fillna(\"\").astype(str)\n",
    "\n",
    "for col in [f'text{i}' for i in range(1, NUM_AUG+1)]:\n",
    "    text_df[col] = text_df[col].apply(lambda x: \"\" if x == 'ERROR' else x.lower())\n",
    "    text_df[col] = text_df[col].apply(reserve_chinese)\n",
    "    text_df[col] = text_df[col].apply(lambda x: x[:MAX_LEN-2])\n",
    "\n",
    "text_df['filename'] = train_df_aug['filename']\n",
    "text_df['label'] = train_df_aug['label']\n",
    "\n",
    "text_df = text_df[text_df.text1 != '无访问权限']"
   ]
  },
  {
   "cell_type": "code",
   "execution_count": 16,
   "metadata": {
    "execution": {
     "iopub.execute_input": "2020-12-07T00:47:46.121571Z",
     "iopub.status.busy": "2020-12-07T00:47:46.088956Z",
     "iopub.status.idle": "2020-12-07T00:47:46.915100Z",
     "shell.execute_reply": "2020-12-07T00:47:46.914298Z"
    },
    "papermill": {
     "duration": 0.870752,
     "end_time": "2020-12-07T00:47:46.915228",
     "exception": false,
     "start_time": "2020-12-07T00:47:46.044476",
     "status": "completed"
    },
    "tags": []
   },
   "outputs": [
    {
     "name": "stdout",
     "output_type": "stream",
     "text": [
      "(23821, 10)\n",
      "(24481, 10)\n"
     ]
    }
   ],
   "source": [
    "df_text_counts = text_df['text1'].value_counts()\n",
    "\n",
    "top_freq_texts = set(df_text_counts[df_text_counts > 200].index)\n",
    "\n",
    "df_sub = text_df[text_df['text1'].apply(lambda x: x not in top_freq_texts)]\n",
    "print(df_sub.shape)\n",
    "\n",
    "for text in list(top_freq_texts):\n",
    "    df_sub2 = text_df[text_df['text1'] == text].head(20)\n",
    "    df_sub = pd.concat([df_sub, df_sub2])\n",
    "print(df_sub.shape)\n",
    "\n",
    "train_df = df_sub.reset_index(drop=True)\n",
    "train_df = train_df.sample(frac=1., random_state=2020)\n",
    "train_df = train_df.reset_index(drop=True)"
   ]
  },
  {
   "cell_type": "code",
   "execution_count": 17,
   "metadata": {
    "execution": {
     "iopub.execute_input": "2020-12-07T00:47:46.999354Z",
     "iopub.status.busy": "2020-12-07T00:47:46.998571Z",
     "iopub.status.idle": "2020-12-07T00:47:48.006452Z",
     "shell.execute_reply": "2020-12-07T00:47:48.005248Z"
    },
    "papermill": {
     "duration": 1.055043,
     "end_time": "2020-12-07T00:47:48.006641",
     "exception": false,
     "start_time": "2020-12-07T00:47:46.951598",
     "status": "completed"
    },
    "tags": []
   },
   "outputs": [],
   "source": [
    "if RUN_TEST:\n",
    "    test_df = pd.read_csv(\"/kaggle/input/onecity/rest_df_content_only_1206_chinese.csv\")"
   ]
  },
  {
   "cell_type": "code",
   "execution_count": 18,
   "metadata": {
    "execution": {
     "iopub.execute_input": "2020-12-07T00:47:48.105246Z",
     "iopub.status.busy": "2020-12-07T00:47:48.100193Z",
     "iopub.status.idle": "2020-12-07T00:55:32.783904Z",
     "shell.execute_reply": "2020-12-07T00:55:32.784871Z"
    },
    "papermill": {
     "duration": 464.739998,
     "end_time": "2020-12-07T00:55:32.785116",
     "exception": false,
     "start_time": "2020-12-07T00:47:48.045118",
     "status": "completed"
    },
    "tags": []
   },
   "outputs": [
    {
     "name": "stdout",
     "output_type": "stream",
     "text": [
      "Encode Train: Part 1...\n",
      "Encode Train: Part 2...\n",
      "Encode Train: Part 3...\n",
      "Encode Train: Part 4...\n",
      "Encode Train: Part 5...\n",
      "Encode Train: Part 6...\n",
      "Encode Train: Part 7...\n",
      "Encode Train: Part 8...\n",
      "CPU times: user 7min 42s, sys: 853 ms, total: 7min 43s\n",
      "Wall time: 7min 44s\n"
     ]
    }
   ],
   "source": [
    "%%time\n",
    "x_train = []\n",
    "for idx in range(1, NUM_AUG+1):\n",
    "    col = rf\"text{idx}\"\n",
    "    print(f\"Encode Train: Part {idx}...\")\n",
    "    train_aug_encoded = tokenizer.batch_encode_plus(\n",
    "        train_df[col].values,\n",
    "        pad_to_max_length=True,\n",
    "        max_length=MAX_LEN\n",
    "    )\n",
    "    x_train.append(np.array(train_aug_encoded['input_ids']))\n",
    "y = train_df['label'].map(label_map).values"
   ]
  },
  {
   "cell_type": "code",
   "execution_count": 20,
   "metadata": {
    "execution": {
     "iopub.execute_input": "2020-12-07T00:55:32.988591Z",
     "iopub.status.busy": "2020-12-07T00:55:32.983806Z",
     "iopub.status.idle": "2020-12-07T00:55:33.345830Z",
     "shell.execute_reply": "2020-12-07T00:55:33.346670Z"
    },
    "papermill": {
     "duration": 0.426332,
     "end_time": "2020-12-07T00:55:33.346847",
     "exception": false,
     "start_time": "2020-12-07T00:55:32.920515",
     "status": "completed"
    },
    "tags": []
   },
   "outputs": [],
   "source": [
    "test_df = test_df.fillna(\"\").astype(str)\n",
    "\n",
    "for col in [f'text{i}' for i in range(1, NUM_AUG+1)]:\n",
    "    test_df[col] = test_df[col].apply(lambda x: \"\" if x == 'ERROR' else x.lower())\n",
    "    test_df[col] = test_df[col].apply(lambda x: x[:MAX_LEN-2])"
   ]
  },
  {
   "cell_type": "code",
   "execution_count": 21,
   "metadata": {
    "execution": {
     "iopub.execute_input": "2020-12-07T00:55:33.456535Z",
     "iopub.status.busy": "2020-12-07T00:55:33.451331Z",
     "iopub.status.idle": "2020-12-07T00:57:58.490141Z",
     "shell.execute_reply": "2020-12-07T00:57:58.490798Z"
    },
    "papermill": {
     "duration": 145.102106,
     "end_time": "2020-12-07T00:57:58.490993",
     "exception": false,
     "start_time": "2020-12-07T00:55:33.388887",
     "status": "completed"
    },
    "tags": []
   },
   "outputs": [
    {
     "name": "stdout",
     "output_type": "stream",
     "text": [
      "Encode Test: Part 1...\n",
      "Encode Test: Part 2...\n",
      "Encode Test: Part 3...\n",
      "Encode Test: Part 4...\n",
      "Encode Test: Part 5...\n",
      "Encode Test: Part 6...\n",
      "Encode Test: Part 7...\n",
      "Encode Test: Part 8...\n",
      "CPU times: user 2min 24s, sys: 242 ms, total: 2min 24s\n",
      "Wall time: 2min 25s\n"
     ]
    }
   ],
   "source": [
    "%%time\n",
    "if RUN_TEST:\n",
    "    test_datasets = []\n",
    "    for idx in range(1, NUM_AUG+1):\n",
    "        col = rf\"text{idx}\"\n",
    "        print(f\"Encode Test: Part {idx}...\")\n",
    "        test_aug_encoded = tokenizer.batch_encode_plus(\n",
    "            test_df[col].values,\n",
    "            pad_to_max_length=True,\n",
    "            max_length=MAX_LEN\n",
    "        )\n",
    "        x_test = np.array(test_aug_encoded['input_ids'])\n",
    "        test_dataset = (\n",
    "            tf.data.Dataset\n",
    "            .from_tensor_slices(x_test)\n",
    "            .batch(BATCH_SIZE)\n",
    "        )\n",
    "        test_datasets.append(test_dataset)"
   ]
  },
  {
   "cell_type": "code",
   "execution_count": 22,
   "metadata": {
    "execution": {
     "iopub.execute_input": "2020-12-07T00:57:58.587342Z",
     "iopub.status.busy": "2020-12-07T00:57:58.586249Z",
     "iopub.status.idle": "2020-12-07T00:57:58.590835Z",
     "shell.execute_reply": "2020-12-07T00:57:58.590063Z"
    },
    "papermill": {
     "duration": 0.055667,
     "end_time": "2020-12-07T00:57:58.590964",
     "exception": false,
     "start_time": "2020-12-07T00:57:58.535297",
     "status": "completed"
    },
    "tags": []
   },
   "outputs": [
    {
     "data": {
      "text/plain": [
       "(24481, 24481)"
      ]
     },
     "execution_count": 22,
     "metadata": {},
     "output_type": "execute_result"
    }
   ],
   "source": [
    "len(x_train[0]), len(y)"
   ]
  },
  {
   "cell_type": "code",
   "execution_count": 23,
   "metadata": {
    "execution": {
     "iopub.execute_input": "2020-12-07T00:57:58.693669Z",
     "iopub.status.busy": "2020-12-07T00:57:58.692553Z",
     "iopub.status.idle": "2020-12-07T00:57:58.696065Z",
     "shell.execute_reply": "2020-12-07T00:57:58.695460Z"
    },
    "papermill": {
     "duration": 0.059288,
     "end_time": "2020-12-07T00:57:58.696195",
     "exception": false,
     "start_time": "2020-12-07T00:57:58.636907",
     "status": "completed"
    },
    "tags": []
   },
   "outputs": [],
   "source": [
    "def build_model(model_name, max_len):\n",
    "    # First load the transformer layer\n",
    "    if MODEL_NAME == 'bert-base-chinese':\n",
    "        transformer_encoder = TFAutoModel.from_pretrained(model_name)\n",
    "    else:\n",
    "        transformer_encoder = TFBertModel.from_pretrained(model_name, from_pt=True)\n",
    "\n",
    "    # This will be the input tokens \n",
    "    input_ids = Input(shape=(max_len,), dtype=tf.int32, name=\"input_ids\")\n",
    "\n",
    "    # Now, we encode the text using the transformers we just loaded\n",
    "    sequence_output = transformer_encoder(input_ids)[0]\n",
    "\n",
    "    # Only extract the token used for classification, which is <s>\n",
    "    cls_token = sequence_output[:, 0, :]\n",
    "\n",
    "    # Finally, pass it through a 3-way softmax, since there's 3 possible laels\n",
    "    out = Dense(20, activation='softmax')(cls_token)\n",
    "\n",
    "    # It's time to build and compile the model\n",
    "    model = Model(inputs=input_ids, outputs=out)\n",
    "    model.compile(\n",
    "        Adam(lr=3e-5),\n",
    "        loss='sparse_categorical_crossentropy', \n",
    "        metrics=['accuracy']\n",
    "    )\n",
    "    return model"
   ]
  },
  {
   "cell_type": "code",
   "execution_count": 24,
   "metadata": {
    "execution": {
     "iopub.execute_input": "2020-12-07T00:57:58.792521Z",
     "iopub.status.busy": "2020-12-07T00:57:58.791334Z",
     "iopub.status.idle": "2020-12-07T00:57:58.794858Z",
     "shell.execute_reply": "2020-12-07T00:57:58.794057Z"
    },
    "papermill": {
     "duration": 0.053924,
     "end_time": "2020-12-07T00:57:58.794992",
     "exception": false,
     "start_time": "2020-12-07T00:57:58.741068",
     "status": "completed"
    },
    "tags": []
   },
   "outputs": [],
   "source": [
    "kfold = StratifiedKFold(n_splits=N_FOLDS)"
   ]
  },
  {
   "cell_type": "code",
   "execution_count": 25,
   "metadata": {
    "execution": {
     "iopub.execute_input": "2020-12-07T00:57:58.896027Z",
     "iopub.status.busy": "2020-12-07T00:57:58.894962Z",
     "iopub.status.idle": "2020-12-07T00:57:58.897961Z",
     "shell.execute_reply": "2020-12-07T00:57:58.898596Z"
    },
    "papermill": {
     "duration": 0.056946,
     "end_time": "2020-12-07T00:57:58.898765",
     "exception": false,
     "start_time": "2020-12-07T00:57:58.841819",
     "status": "completed"
    },
    "tags": []
   },
   "outputs": [],
   "source": [
    "train_df['y_pred'] = \"\"\n",
    "train_df['proba'] = 0.0"
   ]
  },
  {
   "cell_type": "code",
   "execution_count": 26,
   "metadata": {
    "execution": {
     "iopub.execute_input": "2020-12-07T00:57:59.005654Z",
     "iopub.status.busy": "2020-12-07T00:57:59.004801Z",
     "iopub.status.idle": "2020-12-07T02:29:33.744871Z",
     "shell.execute_reply": "2020-12-07T02:29:33.744239Z"
    },
    "papermill": {
     "duration": 5494.800551,
     "end_time": "2020-12-07T02:29:33.745002",
     "exception": false,
     "start_time": "2020-12-07T00:57:58.944451",
     "status": "completed"
    },
    "tags": []
   },
   "outputs": [
    {
     "data": {
      "application/vnd.jupyter.widget-view+json": {
       "model_id": "ea4f2780e29f433193781977903f46ed",
       "version_major": 2,
       "version_minor": 0
      },
      "text/plain": [
       "HBox(children=(FloatProgress(value=0.0, description='Downloading', max=478309336.0, style=ProgressStyle(descri…"
      ]
     },
     "metadata": {},
     "output_type": "display_data"
    },
    {
     "name": "stdout",
     "output_type": "stream",
     "text": [
      "\n",
      "Epoch 1/2\n",
      "688/688 [==============================] - 202s 294ms/step - accuracy: 0.8118 - loss: 0.6444 - val_accuracy: 0.8416 - val_loss: 0.6765\n",
      "Epoch 2/2\n",
      "688/688 [==============================] - 164s 239ms/step - accuracy: 0.9549 - loss: 0.1458 - val_accuracy: 0.8530 - val_loss: 0.7446\n",
      "10/10 [==============================] - 14s 1s/step\n",
      "10/10 [==============================] - 1s 74ms/step\n",
      "10/10 [==============================] - 1s 80ms/step\n",
      "10/10 [==============================] - 1s 72ms/step\n",
      "10/10 [==============================] - 1s 73ms/step\n",
      "10/10 [==============================] - 1s 73ms/step\n",
      "10/10 [==============================] - 1s 73ms/step\n",
      "10/10 [==============================] - 1s 73ms/step\n",
      "Accuracy for KFold 0: 0.8603511637403022\n",
      "29/29 [==============================] - 23s 792ms/step\n",
      "29/29 [==============================] - 2s 80ms/step\n",
      "29/29 [==============================] - 2s 80ms/step\n",
      "29/29 [==============================] - 2s 80ms/step\n",
      "29/29 [==============================] - 2s 85ms/step\n",
      "29/29 [==============================] - 2s 83ms/step\n",
      "29/29 [==============================] - 2s 81ms/step\n",
      "29/29 [==============================] - 2s 86ms/step\n",
      "Epoch 1/2\n",
      "688/688 [==============================] - 194s 282ms/step - accuracy: 0.8115 - loss: 0.6436 - val_accuracy: 0.8358 - val_loss: 0.6826\n",
      "Epoch 2/2\n",
      "688/688 [==============================] - 164s 239ms/step - accuracy: 0.9544 - loss: 0.1474 - val_accuracy: 0.8533 - val_loss: 0.7843\n",
      "10/10 [==============================] - 15s 2s/step\n",
      "10/10 [==============================] - 1s 73ms/step\n",
      "10/10 [==============================] - 1s 73ms/step\n",
      "10/10 [==============================] - 1s 72ms/step\n",
      "10/10 [==============================] - 1s 72ms/step\n",
      "10/10 [==============================] - 1s 72ms/step\n",
      "10/10 [==============================] - 1s 73ms/step\n",
      "10/10 [==============================] - 1s 76ms/step\n",
      "Accuracy for KFold 1: 0.8660130718954249\n",
      "29/29 [==============================] - 15s 502ms/step\n",
      "29/29 [==============================] - 2s 84ms/step\n",
      "29/29 [==============================] - 2s 79ms/step\n",
      "29/29 [==============================] - 2s 79ms/step\n",
      "29/29 [==============================] - 2s 80ms/step\n",
      "29/29 [==============================] - 2s 80ms/step\n",
      "29/29 [==============================] - 2s 80ms/step\n",
      "29/29 [==============================] - 2s 85ms/step\n",
      "Epoch 1/2\n",
      "688/688 [==============================] - 188s 273ms/step - accuracy: 0.8160 - loss: 0.6301 - val_accuracy: 0.8231 - val_loss: 0.7519\n",
      "Epoch 2/2\n",
      "688/688 [==============================] - 163s 237ms/step - accuracy: 0.9555 - loss: 0.1452 - val_accuracy: 0.8374 - val_loss: 0.9140\n",
      "10/10 [==============================] - 8s 771ms/step\n",
      "10/10 [==============================] - 1s 73ms/step\n",
      "10/10 [==============================] - 1s 73ms/step\n",
      "10/10 [==============================] - 1s 73ms/step\n",
      "10/10 [==============================] - 1s 73ms/step\n",
      "10/10 [==============================] - 1s 73ms/step\n",
      "10/10 [==============================] - 1s 73ms/step\n",
      "10/10 [==============================] - 1s 76ms/step\n",
      "Accuracy for KFold 2: 0.8496732026143791\n",
      "29/29 [==============================] - 15s 530ms/step\n",
      "29/29 [==============================] - 2s 80ms/step\n",
      "29/29 [==============================] - 2s 80ms/step\n",
      "29/29 [==============================] - 2s 85ms/step\n",
      "29/29 [==============================] - 2s 80ms/step\n",
      "29/29 [==============================] - 2s 80ms/step\n",
      "29/29 [==============================] - 2s 80ms/step\n",
      "29/29 [==============================] - 2s 85ms/step\n",
      "Epoch 1/2\n",
      "688/688 [==============================] - 203s 296ms/step - accuracy: 0.8124 - loss: 0.6436 - val_accuracy: 0.8362 - val_loss: 0.6904\n",
      "Epoch 2/2\n",
      "688/688 [==============================] - 164s 238ms/step - accuracy: 0.9546 - loss: 0.1485 - val_accuracy: 0.8476 - val_loss: 0.8091\n",
      "10/10 [==============================] - 8s 785ms/step\n",
      "10/10 [==============================] - 1s 72ms/step\n",
      "10/10 [==============================] - 1s 73ms/step\n",
      "10/10 [==============================] - 1s 72ms/step\n",
      "10/10 [==============================] - 1s 73ms/step\n",
      "10/10 [==============================] - 1s 72ms/step\n",
      "10/10 [==============================] - 1s 73ms/step\n",
      "10/10 [==============================] - 1s 73ms/step\n",
      "Accuracy for KFold 3: 0.8594771241830066\n",
      "29/29 [==============================] - 15s 533ms/step\n",
      "29/29 [==============================] - 2s 80ms/step\n",
      "29/29 [==============================] - 2s 79ms/step\n",
      "29/29 [==============================] - 2s 84ms/step\n",
      "29/29 [==============================] - 2s 80ms/step\n",
      "29/29 [==============================] - 2s 80ms/step\n",
      "29/29 [==============================] - 2s 83ms/step\n",
      "29/29 [==============================] - 2s 80ms/step\n",
      "Epoch 1/2\n",
      "688/688 [==============================] - 187s 272ms/step - accuracy: 0.8089 - loss: 0.6525 - val_accuracy: 0.8190 - val_loss: 0.7640\n",
      "Epoch 2/2\n",
      "688/688 [==============================] - 164s 238ms/step - accuracy: 0.9528 - loss: 0.1543 - val_accuracy: 0.8456 - val_loss: 0.8138\n",
      "10/10 [==============================] - 8s 775ms/step\n",
      "10/10 [==============================] - 1s 73ms/step\n",
      "10/10 [==============================] - 1s 73ms/step\n",
      "10/10 [==============================] - 1s 73ms/step\n",
      "10/10 [==============================] - 1s 73ms/step\n",
      "10/10 [==============================] - 1s 72ms/step\n",
      "10/10 [==============================] - 1s 73ms/step\n",
      "10/10 [==============================] - 1s 80ms/step\n",
      "Accuracy for KFold 4: 0.8517156862745098\n",
      "29/29 [==============================] - 16s 544ms/step\n",
      "29/29 [==============================] - 2s 83ms/step\n",
      "29/29 [==============================] - 2s 80ms/step\n",
      "29/29 [==============================] - 2s 80ms/step\n",
      "29/29 [==============================] - 2s 80ms/step\n",
      "29/29 [==============================] - 2s 80ms/step\n",
      "29/29 [==============================] - 2s 79ms/step\n",
      "29/29 [==============================] - 2s 83ms/step\n",
      "Epoch 1/2\n",
      "688/688 [==============================] - 187s 272ms/step - accuracy: 0.8133 - loss: 0.6404 - val_accuracy: 0.8207 - val_loss: 0.7313\n",
      "Epoch 2/2\n",
      "688/688 [==============================] - 164s 239ms/step - accuracy: 0.9530 - loss: 0.1519 - val_accuracy: 0.8415 - val_loss: 0.8169\n",
      "10/10 [==============================] - 8s 787ms/step\n",
      "10/10 [==============================] - 1s 73ms/step\n",
      "10/10 [==============================] - 1s 73ms/step\n",
      "10/10 [==============================] - 1s 81ms/step\n",
      "10/10 [==============================] - 1s 72ms/step\n",
      "10/10 [==============================] - 1s 72ms/step\n",
      "10/10 [==============================] - 1s 72ms/step\n",
      "10/10 [==============================] - 1s 86ms/step\n",
      "Accuracy for KFold 5: 0.8537581699346405\n",
      "29/29 [==============================] - 15s 519ms/step\n",
      "29/29 [==============================] - 2s 80ms/step\n",
      "29/29 [==============================] - 2s 80ms/step\n",
      "29/29 [==============================] - 2s 81ms/step\n",
      "29/29 [==============================] - 2s 81ms/step\n",
      "29/29 [==============================] - 2s 80ms/step\n",
      "29/29 [==============================] - 2s 81ms/step\n",
      "29/29 [==============================] - 2s 80ms/step\n",
      "Epoch 1/2\n",
      "688/688 [==============================] - 187s 272ms/step - accuracy: 0.8132 - loss: 0.6367 - val_accuracy: 0.8223 - val_loss: 0.7552\n",
      "Epoch 2/2\n",
      "688/688 [==============================] - 164s 239ms/step - accuracy: 0.9544 - loss: 0.1480 - val_accuracy: 0.8427 - val_loss: 0.8324\n",
      "10/10 [==============================] - 8s 796ms/step\n",
      "10/10 [==============================] - 1s 73ms/step\n",
      "10/10 [==============================] - 1s 73ms/step\n",
      "10/10 [==============================] - 1s 73ms/step\n",
      "10/10 [==============================] - 1s 73ms/step\n",
      "10/10 [==============================] - 1s 73ms/step\n",
      "10/10 [==============================] - 1s 73ms/step\n",
      "10/10 [==============================] - 1s 73ms/step\n",
      "Accuracy for KFold 6: 0.8627450980392157\n",
      "29/29 [==============================] - 15s 527ms/step\n",
      "29/29 [==============================] - 2s 80ms/step\n",
      "29/29 [==============================] - 2s 80ms/step\n",
      "29/29 [==============================] - 2s 80ms/step\n",
      "29/29 [==============================] - 2s 83ms/step\n",
      "29/29 [==============================] - 2s 80ms/step\n",
      "29/29 [==============================] - 2s 81ms/step\n",
      "29/29 [==============================] - 2s 82ms/step\n",
      "Epoch 1/2\n",
      "688/688 [==============================] - 188s 273ms/step - accuracy: 0.8079 - loss: 0.6571 - val_accuracy: 0.8337 - val_loss: 0.7306\n",
      "Epoch 2/2\n",
      "688/688 [==============================] - 164s 239ms/step - accuracy: 0.9559 - loss: 0.1435 - val_accuracy: 0.8476 - val_loss: 0.8587\n",
      "10/10 [==============================] - 8s 786ms/step\n",
      "10/10 [==============================] - 1s 73ms/step\n",
      "10/10 [==============================] - 1s 73ms/step\n",
      "10/10 [==============================] - 1s 72ms/step\n",
      "10/10 [==============================] - 1s 72ms/step\n",
      "10/10 [==============================] - 1s 73ms/step\n",
      "10/10 [==============================] - 1s 73ms/step\n",
      "10/10 [==============================] - 1s 72ms/step\n",
      "Accuracy for KFold 7: 0.8570261437908496\n",
      "29/29 [==============================] - 15s 522ms/step\n",
      "29/29 [==============================] - 2s 80ms/step\n",
      "29/29 [==============================] - 2s 80ms/step\n",
      "29/29 [==============================] - 2s 80ms/step\n",
      "29/29 [==============================] - 2s 85ms/step\n",
      "29/29 [==============================] - 2s 80ms/step\n",
      "29/29 [==============================] - 2s 81ms/step\n",
      "29/29 [==============================] - 2s 81ms/step\n",
      "Epoch 1/2\n",
      "688/688 [==============================] - 188s 273ms/step - accuracy: 0.8097 - loss: 0.6456 - val_accuracy: 0.8297 - val_loss: 0.6978\n",
      "Epoch 2/2\n",
      "688/688 [==============================] - 164s 239ms/step - accuracy: 0.9553 - loss: 0.1451 - val_accuracy: 0.8497 - val_loss: 0.8045\n",
      "10/10 [==============================] - 8s 787ms/step\n",
      "10/10 [==============================] - 1s 75ms/step\n",
      "10/10 [==============================] - 1s 84ms/step\n",
      "10/10 [==============================] - 1s 73ms/step\n",
      "10/10 [==============================] - 1s 73ms/step\n",
      "10/10 [==============================] - 1s 74ms/step\n",
      "10/10 [==============================] - 1s 74ms/step\n",
      "10/10 [==============================] - 1s 74ms/step\n",
      "Accuracy for KFold 8: 0.8643790849673203\n",
      "29/29 [==============================] - 16s 541ms/step\n",
      "29/29 [==============================] - 2s 80ms/step\n",
      "29/29 [==============================] - 2s 80ms/step\n",
      "29/29 [==============================] - 2s 80ms/step\n",
      "29/29 [==============================] - 2s 82ms/step\n",
      "29/29 [==============================] - 2s 80ms/step\n",
      "29/29 [==============================] - 2s 80ms/step\n",
      "29/29 [==============================] - 2s 81ms/step\n",
      "Epoch 1/2\n",
      "688/688 [==============================] - 187s 272ms/step - accuracy: 0.8125 - loss: 0.6402 - val_accuracy: 0.8358 - val_loss: 0.7202\n",
      "Epoch 2/2\n",
      "688/688 [==============================] - 164s 239ms/step - accuracy: 0.9556 - loss: 0.1450 - val_accuracy: 0.8505 - val_loss: 0.8301\n",
      "10/10 [==============================] - 8s 792ms/step\n",
      "10/10 [==============================] - 1s 74ms/step\n",
      "10/10 [==============================] - 1s 81ms/step\n",
      "10/10 [==============================] - 1s 73ms/step\n",
      "10/10 [==============================] - 1s 75ms/step\n",
      "10/10 [==============================] - 1s 75ms/step\n",
      "10/10 [==============================] - 1s 75ms/step\n",
      "10/10 [==============================] - 1s 74ms/step\n",
      "Accuracy for KFold 9: 0.8594771241830066\n",
      "29/29 [==============================] - 15s 530ms/step\n",
      "29/29 [==============================] - 2s 84ms/step\n",
      "29/29 [==============================] - 2s 85ms/step\n",
      "29/29 [==============================] - 2s 81ms/step\n",
      "29/29 [==============================] - 2s 81ms/step\n",
      "29/29 [==============================] - 2s 83ms/step\n",
      "29/29 [==============================] - 2s 80ms/step\n",
      "29/29 [==============================] - 2s 81ms/step\n"
     ]
    }
   ],
   "source": [
    "all_accs = []\n",
    "test_pred_results = []\n",
    "for ii, (tr, tt) in enumerate(kfold.split(X=y, y=y)):\n",
    "    if tpu:\n",
    "        tf.config.experimental_connect_to_cluster(tpu)\n",
    "        tf.tpu.experimental.initialize_tpu_system(tpu)\n",
    "        strategy = tf.distribute.experimental.TPUStrategy(tpu)\n",
    "    elif len(gpus) > 1: # multiple GPUs in one VM\n",
    "        strategy = tf.distribute.MirroredStrategy(gpus)\n",
    "    else: # default strategy that works on CPU and single GPU\n",
    "        strategy = tf.distribute.get_strategy()\n",
    "    \n",
    "    # Prepare KFold data\n",
    "    y_train, y_valid = y[tr], y[tt]\n",
    "\n",
    "    x_train_combined = np.concatenate([x[tr] for x in x_train])\n",
    "    y_train_combined = np.concatenate([y_train] * len(x_train))\n",
    "    \n",
    "    # Shuffle augmented data\n",
    "    idxs = np.arange(len(y_train_combined))\n",
    "    idxs = shuffle(idxs, random_state=2020)\n",
    "    x_train_combined = x_train_combined[idxs]\n",
    "    y_train_combined = y_train_combined[idxs]\n",
    "    \n",
    "    train_dataset = (\n",
    "        tf.data.Dataset\n",
    "        .from_tensor_slices((x_train_combined, y_train_combined))\n",
    "        .repeat()\n",
    "        .shuffle(2048)\n",
    "        .batch(BATCH_SIZE)\n",
    "        .prefetch(AUTO)\n",
    "    )\n",
    "    valid_datasets = []\n",
    "    for x in x_train:        \n",
    "        valid_dataset = (\n",
    "            tf.data.Dataset\n",
    "            .from_tensor_slices((x[tt], y_valid))\n",
    "            .batch(BATCH_SIZE)\n",
    "            .cache()\n",
    "            .prefetch(AUTO)\n",
    "        )\n",
    "        valid_datasets.append(valid_dataset)\n",
    "\n",
    "    with strategy.scope():\n",
    "        model = build_model(MODEL_NAME, MAX_LEN)\n",
    "\n",
    "    n_steps = len(x_train_combined) // BATCH_SIZE\n",
    "    train_history = model.fit(\n",
    "        train_dataset,\n",
    "        steps_per_epoch=n_steps,\n",
    "        validation_data=valid_datasets[0],\n",
    "        epochs=EPOCHS\n",
    "    )\n",
    "    \n",
    "    # Predict on validation set\n",
    "    valid_aug_probs = [model.predict(valid_dataset, verbose=1) for valid_dataset in valid_datasets]\n",
    "    valid_probs = np.mean(valid_aug_probs, axis=0)\n",
    "    y_valid_preds = np.argmax(valid_probs, axis=1)\n",
    "    acc = accuracy_score(y_valid, y_valid_preds)\n",
    "    print(f\"Accuracy for KFold {ii}: {acc}\")\n",
    "    all_accs.append(acc)\n",
    "    \n",
    "    train_df.loc[tt, 'y_pred'] = np.vectorize(inv_label_map.get)(y_valid_preds)\n",
    "    train_df.loc[tt, 'proba'] = valid_probs.max(axis=1)\n",
    "    \n",
    "    if RUN_TEST:\n",
    "        # Prediction on test set\n",
    "        test_aug_probs = [model.predict(test_dataset, verbose=1) for test_dataset in test_datasets]\n",
    "        test_probs = np.mean(test_aug_probs, axis=0)\n",
    "        test_pred_results.append(test_probs)\n"
   ]
  },
  {
   "cell_type": "code",
   "execution_count": 27,
   "metadata": {
    "execution": {
     "iopub.execute_input": "2020-12-07T02:29:47.756036Z",
     "iopub.status.busy": "2020-12-07T02:29:47.754922Z",
     "iopub.status.idle": "2020-12-07T02:29:47.758005Z",
     "shell.execute_reply": "2020-12-07T02:29:47.758609Z"
    },
    "papermill": {
     "duration": 6.994657,
     "end_time": "2020-12-07T02:29:47.758782",
     "exception": false,
     "start_time": "2020-12-07T02:29:40.764125",
     "status": "completed"
    },
    "tags": []
   },
   "outputs": [],
   "source": [
    "# test_aug_encoded = tokenizer.batch_encode_plus(\n",
    "# #     ['工作单位新办序号广饶县环卫处延华文男华泰集团有限公司杜滨男华泰集团有限公司倪鹤女广饶县丰源纺织有限公司燕荣凤女原广饶县供销贸易公司宋福志男广饶县山水水泥有限公司王光诚男花官镇洛程幼儿园王芬女科达集团高孟海男广饶科力达石化科技有限公司田美岗男山东华星石油化工集团有限公司谢文杰男华泰集团有限公司傅建武男原服装厂崔向亮男'],\n",
    "# #     ['出生年月性别青岛市市北区台东三路号单元户刘宽男青岛市市北区顺兴路号户臧丽娜女青岛市市北区东光路号单元宋降龙男青岛市市北区华阳路号大成公馆号楼户王新男青岛市埕口一路三单元户王英光男青岛市市北区瑞海北路号号楼户瑞海馨园肖中权男青岛市市北区台东八路号户周嵩智男山东省青岛市市北区东仲小区号单元户李龙男青岛市市北区长春路东兴市场号号楼单元乔安钢男青岛市市北区台东六路号户鲍习平男山东省莱阳市穴坊镇西富山村孙辉女黄岛路号户蒲英玲女青岛市市北区康宁路号北舍号楼单元户张瑛女青岛市徐州路号号楼单元室苏兆楷男青岛市市北区台东三路号单元户关永斌男无棣县金羚华府号楼一单元室程兵男青岛市市北区标山路号户王玉台男青岛市市北区威海路号户段京兵男山东省青岛市市北区台东七路号楼户梁尧庆男青岛市市北区芙蓉路号号楼单元户连红男通化路号单元户姜腾飞男'],\n",
    "#     ['出生年月民族参加工作时间性别汉大本男张宪印党组成员副局长山东政法干部管理学院汉大专男高峰科员河北燕山大学汉大本女张双双主任山东省委党校汉大本男陈尚平党组副书记局长莱阳农学院汉硕士男胡金庆科员中国海洋大学汉大本男刘勇党组书记副局长山东工业大学汉大本女段琪琪科员长江大学汉初中男顾兆强科员北长山联中汉大专男高峰主任河北燕山大学汉初中男董仁科员蓬莱市大季家中学汉大本男李强副主任山东省委党校汉中专男娄兆军科员烟台水校汉大专男刘玉伟党组成员副局长烟台师范学院汉初中男于庆科员龙口市大王中学汉大本男刘勇党组书记副局长山东工业大学汉大本男李强科员山东省委党校汉大本女隋婷婷科员山东农业大学汉大本女刘宗云科员山东科技大学汉中专男娄兆军科员烟台水校汉大本女刘宗云科员山东科技大学汉大本男吴忠进科员山东函授大学汉初中男董仁科员蓬莱市大季家中学汉初中男于庆副主任龙口市大王中学汉硕士男胡金庆科员中国海洋大学汉大本女张双双主任山东省委党校汉大本女于咏文科员山东省委党校汉大本女隋婷婷科员山东农业大学汉大本男霍延虎科员山东理工大学汉大本女魏童童科员济宁学院汉大本女段琪琪科员长江大学汉初中男顾兆强科员北长山联中汉大本男王海亮党组成员山东省委党校汉大专男刘玉伟党组成员副局长烟台师范学院汉大本女于咏文科员山东省委党校汉大本女王美丁副主任聊城大学汉大本女乔婕科员鲁东大学汉大本男王黎明副主任长岛县委党校汉大本女乔婕科员鲁东大学汉大本男霍延虎科员山东理工大学汉大本女王美丁副主任聊城大学汉大本男王海亮党组成员山东省委党校汉大本男张宪印党组成员副局长山东政法干部管理学院汉大本男王黎明科员长岛县委党校汉大本女魏童童科员济宁学院汉大本男吴忠进科员山东函授大学汉大本男陈尚平党组副书记局长莱阳农学院'],\n",
    "#     pad_to_max_length=True,\n",
    "#     max_length=MAX_LEN\n",
    "# )\n",
    "# x_test = np.array(test_aug_encoded['input_ids'])\n",
    "# test_dataset = (\n",
    "#     tf.data.Dataset\n",
    "#     .from_tensor_slices(x_test)\n",
    "#     .batch(BATCH_SIZE)\n",
    "# )\n",
    "# probs = model.predict(test_dataset, verbose=1)"
   ]
  },
  {
   "cell_type": "code",
   "execution_count": 28,
   "metadata": {
    "execution": {
     "iopub.execute_input": "2020-12-07T02:30:01.674820Z",
     "iopub.status.busy": "2020-12-07T02:30:01.673691Z",
     "iopub.status.idle": "2020-12-07T02:30:01.677360Z",
     "shell.execute_reply": "2020-12-07T02:30:01.676731Z"
    },
    "papermill": {
     "duration": 6.93249,
     "end_time": "2020-12-07T02:30:01.677521",
     "exception": false,
     "start_time": "2020-12-07T02:29:54.745031",
     "status": "completed"
    },
    "tags": []
   },
   "outputs": [],
   "source": [
    "# plt.plot(probs[0])"
   ]
  },
  {
   "cell_type": "code",
   "execution_count": 29,
   "metadata": {
    "execution": {
     "iopub.execute_input": "2020-12-07T02:30:15.470741Z",
     "iopub.status.busy": "2020-12-07T02:30:15.469671Z",
     "iopub.status.idle": "2020-12-07T02:30:15.472415Z",
     "shell.execute_reply": "2020-12-07T02:30:15.473034Z"
    },
    "papermill": {
     "duration": 6.985826,
     "end_time": "2020-12-07T02:30:15.473202",
     "exception": false,
     "start_time": "2020-12-07T02:30:08.487376",
     "status": "completed"
    },
    "tags": []
   },
   "outputs": [],
   "source": [
    "# inv_label_map[np.argmax(probs[0])]"
   ]
  },
  {
   "cell_type": "code",
   "execution_count": 30,
   "metadata": {
    "execution": {
     "iopub.execute_input": "2020-12-07T02:30:29.158371Z",
     "iopub.status.busy": "2020-12-07T02:30:29.157336Z",
     "iopub.status.idle": "2020-12-07T02:30:29.160590Z",
     "shell.execute_reply": "2020-12-07T02:30:29.159839Z"
    },
    "papermill": {
     "duration": 6.771855,
     "end_time": "2020-12-07T02:30:29.160716",
     "exception": false,
     "start_time": "2020-12-07T02:30:22.388861",
     "status": "completed"
    },
    "tags": []
   },
   "outputs": [],
   "source": [
    "# for probs in valid_aug_probs:\n",
    "#     _pred = np.argmax(probs, axis=1)\n",
    "#     print(accuracy_score(y_valid, _pred))"
   ]
  },
  {
   "cell_type": "code",
   "execution_count": 31,
   "metadata": {
    "execution": {
     "iopub.execute_input": "2020-12-07T02:30:43.262487Z",
     "iopub.status.busy": "2020-12-07T02:30:43.261444Z",
     "iopub.status.idle": "2020-12-07T02:30:43.264692Z",
     "shell.execute_reply": "2020-12-07T02:30:43.264095Z"
    },
    "papermill": {
     "duration": 7.031422,
     "end_time": "2020-12-07T02:30:43.264826",
     "exception": false,
     "start_time": "2020-12-07T02:30:36.233404",
     "status": "completed"
    },
    "tags": []
   },
   "outputs": [],
   "source": [
    "# for idx in range(2, len(valid_aug_probs)):\n",
    "#     _probs = np.mean(valid_aug_probs[:idx], axis=0)\n",
    "#     _pred = np.argmax(_probs, axis=1)\n",
    "#     print(accuracy_score(y_valid, _pred))"
   ]
  },
  {
   "cell_type": "code",
   "execution_count": 32,
   "metadata": {
    "execution": {
     "iopub.execute_input": "2020-12-07T02:30:57.076738Z",
     "iopub.status.busy": "2020-12-07T02:30:57.075959Z",
     "iopub.status.idle": "2020-12-07T02:30:57.079112Z",
     "shell.execute_reply": "2020-12-07T02:30:57.078503Z"
    },
    "papermill": {
     "duration": 6.965447,
     "end_time": "2020-12-07T02:30:57.079242",
     "exception": false,
     "start_time": "2020-12-07T02:30:50.113795",
     "status": "completed"
    },
    "tags": []
   },
   "outputs": [],
   "source": [
    "# for idx in range(2, len(valid_aug_probs)):\n",
    "#     _probs = np.mean(valid_aug_probs[-idx:], axis=0)\n",
    "#     _pred = np.argmax(_probs, axis=1)\n",
    "#     print(accuracy_score(y_valid, _pred))"
   ]
  },
  {
   "cell_type": "code",
   "execution_count": 33,
   "metadata": {
    "execution": {
     "iopub.execute_input": "2020-12-07T02:31:11.028338Z",
     "iopub.status.busy": "2020-12-07T02:31:11.027567Z",
     "iopub.status.idle": "2020-12-07T02:31:11.031016Z",
     "shell.execute_reply": "2020-12-07T02:31:11.030265Z"
    },
    "papermill": {
     "duration": 6.873689,
     "end_time": "2020-12-07T02:31:11.031149",
     "exception": false,
     "start_time": "2020-12-07T02:31:04.157460",
     "status": "completed"
    },
    "tags": []
   },
   "outputs": [],
   "source": [
    "# np.mean(valid_aug_probs[:3], axis=0)"
   ]
  },
  {
   "cell_type": "code",
   "execution_count": 34,
   "metadata": {
    "execution": {
     "iopub.execute_input": "2020-12-07T02:31:24.883237Z",
     "iopub.status.busy": "2020-12-07T02:31:24.882369Z",
     "iopub.status.idle": "2020-12-07T02:31:24.887973Z",
     "shell.execute_reply": "2020-12-07T02:31:24.887204Z"
    },
    "papermill": {
     "duration": 6.936902,
     "end_time": "2020-12-07T02:31:24.888096",
     "exception": false,
     "start_time": "2020-12-07T02:31:17.951194",
     "status": "completed"
    },
    "tags": []
   },
   "outputs": [
    {
     "name": "stdout",
     "output_type": "stream",
     "text": [
      "[0.8603511637403022, 0.8660130718954249, 0.8496732026143791, 0.8594771241830066, 0.8517156862745098, 0.8537581699346405, 0.8627450980392157, 0.8570261437908496, 0.8643790849673203, 0.8594771241830066]\n",
      "0.8584615869622656\n"
     ]
    }
   ],
   "source": [
    "print(all_accs)\n",
    "print(np.mean(all_accs))"
   ]
  },
  {
   "cell_type": "code",
   "execution_count": 35,
   "metadata": {
    "execution": {
     "iopub.execute_input": "2020-12-07T02:31:38.818538Z",
     "iopub.status.busy": "2020-12-07T02:31:38.817286Z",
     "iopub.status.idle": "2020-12-07T02:31:38.962294Z",
     "shell.execute_reply": "2020-12-07T02:31:38.961521Z"
    },
    "papermill": {
     "duration": 7.246427,
     "end_time": "2020-12-07T02:31:38.962445",
     "exception": false,
     "start_time": "2020-12-07T02:31:31.716018",
     "status": "completed"
    },
    "tags": []
   },
   "outputs": [],
   "source": [
    "test_preds = np.argmax(np.sum(test_pred_results, axis=0), axis=-1)\n",
    "test_df['label'] = np.vectorize(inv_label_map.get)(test_preds)\n",
    "test_df[['filename', 'label']].to_csv(\"content_only_prediction.csv\", index=False, encoding='utf-8')"
   ]
  },
  {
   "cell_type": "code",
   "execution_count": 36,
   "metadata": {
    "execution": {
     "iopub.execute_input": "2020-12-07T02:31:52.721274Z",
     "iopub.status.busy": "2020-12-07T02:31:52.720404Z",
     "iopub.status.idle": "2020-12-07T02:31:52.730952Z",
     "shell.execute_reply": "2020-12-07T02:31:52.730179Z"
    },
    "papermill": {
     "duration": 6.869928,
     "end_time": "2020-12-07T02:31:52.731081",
     "exception": false,
     "start_time": "2020-12-07T02:31:45.861153",
     "status": "completed"
    },
    "tags": []
   },
   "outputs": [],
   "source": [
    "with open(\"test_probs.pkl\", 'wb') as f:\n",
    "    pickle.dump(test_pred_results, f)"
   ]
  },
  {
   "cell_type": "code",
   "execution_count": 37,
   "metadata": {
    "execution": {
     "iopub.execute_input": "2020-12-07T02:32:06.483695Z",
     "iopub.status.busy": "2020-12-07T02:32:06.482815Z",
     "iopub.status.idle": "2020-12-07T02:32:08.469967Z",
     "shell.execute_reply": "2020-12-07T02:32:08.469158Z"
    },
    "papermill": {
     "duration": 8.895686,
     "end_time": "2020-12-07T02:32:08.470093",
     "exception": false,
     "start_time": "2020-12-07T02:31:59.574407",
     "status": "completed"
    },
    "tags": []
   },
   "outputs": [],
   "source": [
    "train_df.to_csv(\"train_error_analysis.csv\", index=False)"
   ]
  },
  {
   "cell_type": "code",
   "execution_count": 38,
   "metadata": {
    "execution": {
     "iopub.execute_input": "2020-12-07T02:32:22.200045Z",
     "iopub.status.busy": "2020-12-07T02:32:22.199079Z",
     "iopub.status.idle": "2020-12-07T02:32:22.202626Z",
     "shell.execute_reply": "2020-12-07T02:32:22.203197Z"
    },
    "papermill": {
     "duration": 6.925227,
     "end_time": "2020-12-07T02:32:22.203346",
     "exception": false,
     "start_time": "2020-12-07T02:32:15.278119",
     "status": "completed"
    },
    "tags": []
   },
   "outputs": [
    {
     "name": "stdout",
     "output_type": "stream",
     "text": [
      "Total Running Time: 6360.778 seconds\n"
     ]
    }
   ],
   "source": [
    "print(f\"Total Running Time: {time() - start_time:.3f} seconds\")"
   ]
  }
 ],
 "metadata": {
  "kernelspec": {
   "display_name": "Python 3",
   "language": "python",
   "name": "python3"
  },
  "language_info": {
   "codemirror_mode": {
    "name": "ipython",
    "version": 3
   },
   "file_extension": ".py",
   "mimetype": "text/x-python",
   "name": "python",
   "nbconvert_exporter": "python",
   "pygments_lexer": "ipython3",
   "version": "3.5.5"
  },
  "papermill": {
   "duration": 6373.751094,
   "end_time": "2020-12-07T02:32:29.591894",
   "environment_variables": {},
   "exception": null,
   "input_path": "__notebook__.ipynb",
   "output_path": "__notebook__.ipynb",
   "parameters": {},
   "start_time": "2020-12-07T00:46:15.840800",
   "version": "2.1.0"
  },
  "widgets": {
   "application/vnd.jupyter.widget-state+json": {
    "state": {
     "148d7475e21e4476b377e72ad07d8bba": {
      "model_module": "@jupyter-widgets/base",
      "model_module_version": "1.2.0",
      "model_name": "LayoutModel",
      "state": {
       "_model_module": "@jupyter-widgets/base",
       "_model_module_version": "1.2.0",
       "_model_name": "LayoutModel",
       "_view_count": null,
       "_view_module": "@jupyter-widgets/base",
       "_view_module_version": "1.2.0",
       "_view_name": "LayoutView",
       "align_content": null,
       "align_items": null,
       "align_self": null,
       "border": null,
       "bottom": null,
       "display": null,
       "flex": null,
       "flex_flow": null,
       "grid_area": null,
       "grid_auto_columns": null,
       "grid_auto_flow": null,
       "grid_auto_rows": null,
       "grid_column": null,
       "grid_gap": null,
       "grid_row": null,
       "grid_template_areas": null,
       "grid_template_columns": null,
       "grid_template_rows": null,
       "height": null,
       "justify_content": null,
       "justify_items": null,
       "left": null,
       "margin": null,
       "max_height": null,
       "max_width": null,
       "min_height": null,
       "min_width": null,
       "object_fit": null,
       "object_position": null,
       "order": null,
       "overflow": null,
       "overflow_x": null,
       "overflow_y": null,
       "padding": null,
       "right": null,
       "top": null,
       "visibility": null,
       "width": null
      }
     },
     "153a311f65804162bd528ba607fcc5fe": {
      "model_module": "@jupyter-widgets/controls",
      "model_module_version": "1.5.0",
      "model_name": "DescriptionStyleModel",
      "state": {
       "_model_module": "@jupyter-widgets/controls",
       "_model_module_version": "1.5.0",
       "_model_name": "DescriptionStyleModel",
       "_view_count": null,
       "_view_module": "@jupyter-widgets/base",
       "_view_module_version": "1.2.0",
       "_view_name": "StyleView",
       "description_width": ""
      }
     },
     "33a33bc14b9b4e9e8f8097ab93022a41": {
      "model_module": "@jupyter-widgets/controls",
      "model_module_version": "1.5.0",
      "model_name": "ProgressStyleModel",
      "state": {
       "_model_module": "@jupyter-widgets/controls",
       "_model_module_version": "1.5.0",
       "_model_name": "ProgressStyleModel",
       "_view_count": null,
       "_view_module": "@jupyter-widgets/base",
       "_view_module_version": "1.2.0",
       "_view_name": "StyleView",
       "bar_color": null,
       "description_width": "initial"
      }
     },
     "44f4712bea554a9fa6b824da18262424": {
      "model_module": "@jupyter-widgets/controls",
      "model_module_version": "1.5.0",
      "model_name": "FloatProgressModel",
      "state": {
       "_dom_classes": [],
       "_model_module": "@jupyter-widgets/controls",
       "_model_module_version": "1.5.0",
       "_model_name": "FloatProgressModel",
       "_view_count": null,
       "_view_module": "@jupyter-widgets/controls",
       "_view_module_version": "1.5.0",
       "_view_name": "ProgressView",
       "bar_style": "success",
       "description": "Downloading: 100%",
       "description_tooltip": null,
       "layout": "IPY_MODEL_bcfb78efd64b4432b2edf945a485003c",
       "max": 624,
       "min": 0,
       "orientation": "horizontal",
       "style": "IPY_MODEL_46f2c0cc271e40f0abc5bbc6a71dff75",
       "value": 624
      }
     },
     "46f2c0cc271e40f0abc5bbc6a71dff75": {
      "model_module": "@jupyter-widgets/controls",
      "model_module_version": "1.5.0",
      "model_name": "ProgressStyleModel",
      "state": {
       "_model_module": "@jupyter-widgets/controls",
       "_model_module_version": "1.5.0",
       "_model_name": "ProgressStyleModel",
       "_view_count": null,
       "_view_module": "@jupyter-widgets/base",
       "_view_module_version": "1.2.0",
       "_view_name": "StyleView",
       "bar_color": null,
       "description_width": "initial"
      }
     },
     "4957ed1f68444563b694286d3a4a7e0e": {
      "model_module": "@jupyter-widgets/controls",
      "model_module_version": "1.5.0",
      "model_name": "HBoxModel",
      "state": {
       "_dom_classes": [],
       "_model_module": "@jupyter-widgets/controls",
       "_model_module_version": "1.5.0",
       "_model_name": "HBoxModel",
       "_view_count": null,
       "_view_module": "@jupyter-widgets/controls",
       "_view_module_version": "1.5.0",
       "_view_name": "HBoxView",
       "box_style": "",
       "children": [
        "IPY_MODEL_44f4712bea554a9fa6b824da18262424",
        "IPY_MODEL_c41f1b5502ba4d03a5ca8e08246ac837"
       ],
       "layout": "IPY_MODEL_7c0b7e7bb8db438e8692edf1577f0bb0"
      }
     },
     "508f086d5e9d4cfcbde810438cc47c2b": {
      "model_module": "@jupyter-widgets/base",
      "model_module_version": "1.2.0",
      "model_name": "LayoutModel",
      "state": {
       "_model_module": "@jupyter-widgets/base",
       "_model_module_version": "1.2.0",
       "_model_name": "LayoutModel",
       "_view_count": null,
       "_view_module": "@jupyter-widgets/base",
       "_view_module_version": "1.2.0",
       "_view_name": "LayoutView",
       "align_content": null,
       "align_items": null,
       "align_self": null,
       "border": null,
       "bottom": null,
       "display": null,
       "flex": null,
       "flex_flow": null,
       "grid_area": null,
       "grid_auto_columns": null,
       "grid_auto_flow": null,
       "grid_auto_rows": null,
       "grid_column": null,
       "grid_gap": null,
       "grid_row": null,
       "grid_template_areas": null,
       "grid_template_columns": null,
       "grid_template_rows": null,
       "height": null,
       "justify_content": null,
       "justify_items": null,
       "left": null,
       "margin": null,
       "max_height": null,
       "max_width": null,
       "min_height": null,
       "min_width": null,
       "object_fit": null,
       "object_position": null,
       "order": null,
       "overflow": null,
       "overflow_x": null,
       "overflow_y": null,
       "padding": null,
       "right": null,
       "top": null,
       "visibility": null,
       "width": null
      }
     },
     "52b5326f465b4a2cbf4d51d31056ee1b": {
      "model_module": "@jupyter-widgets/base",
      "model_module_version": "1.2.0",
      "model_name": "LayoutModel",
      "state": {
       "_model_module": "@jupyter-widgets/base",
       "_model_module_version": "1.2.0",
       "_model_name": "LayoutModel",
       "_view_count": null,
       "_view_module": "@jupyter-widgets/base",
       "_view_module_version": "1.2.0",
       "_view_name": "LayoutView",
       "align_content": null,
       "align_items": null,
       "align_self": null,
       "border": null,
       "bottom": null,
       "display": null,
       "flex": null,
       "flex_flow": null,
       "grid_area": null,
       "grid_auto_columns": null,
       "grid_auto_flow": null,
       "grid_auto_rows": null,
       "grid_column": null,
       "grid_gap": null,
       "grid_row": null,
       "grid_template_areas": null,
       "grid_template_columns": null,
       "grid_template_rows": null,
       "height": null,
       "justify_content": null,
       "justify_items": null,
       "left": null,
       "margin": null,
       "max_height": null,
       "max_width": null,
       "min_height": null,
       "min_width": null,
       "object_fit": null,
       "object_position": null,
       "order": null,
       "overflow": null,
       "overflow_x": null,
       "overflow_y": null,
       "padding": null,
       "right": null,
       "top": null,
       "visibility": null,
       "width": null
      }
     },
     "6f47d72a491d4e2eb622e0c694e2491b": {
      "model_module": "@jupyter-widgets/controls",
      "model_module_version": "1.5.0",
      "model_name": "DescriptionStyleModel",
      "state": {
       "_model_module": "@jupyter-widgets/controls",
       "_model_module_version": "1.5.0",
       "_model_name": "DescriptionStyleModel",
       "_view_count": null,
       "_view_module": "@jupyter-widgets/base",
       "_view_module_version": "1.2.0",
       "_view_name": "StyleView",
       "description_width": ""
      }
     },
     "7c0b7e7bb8db438e8692edf1577f0bb0": {
      "model_module": "@jupyter-widgets/base",
      "model_module_version": "1.2.0",
      "model_name": "LayoutModel",
      "state": {
       "_model_module": "@jupyter-widgets/base",
       "_model_module_version": "1.2.0",
       "_model_name": "LayoutModel",
       "_view_count": null,
       "_view_module": "@jupyter-widgets/base",
       "_view_module_version": "1.2.0",
       "_view_name": "LayoutView",
       "align_content": null,
       "align_items": null,
       "align_self": null,
       "border": null,
       "bottom": null,
       "display": null,
       "flex": null,
       "flex_flow": null,
       "grid_area": null,
       "grid_auto_columns": null,
       "grid_auto_flow": null,
       "grid_auto_rows": null,
       "grid_column": null,
       "grid_gap": null,
       "grid_row": null,
       "grid_template_areas": null,
       "grid_template_columns": null,
       "grid_template_rows": null,
       "height": null,
       "justify_content": null,
       "justify_items": null,
       "left": null,
       "margin": null,
       "max_height": null,
       "max_width": null,
       "min_height": null,
       "min_width": null,
       "object_fit": null,
       "object_position": null,
       "order": null,
       "overflow": null,
       "overflow_x": null,
       "overflow_y": null,
       "padding": null,
       "right": null,
       "top": null,
       "visibility": null,
       "width": null
      }
     },
     "8317cb979698455d96406113d4ce09ff": {
      "model_module": "@jupyter-widgets/base",
      "model_module_version": "1.2.0",
      "model_name": "LayoutModel",
      "state": {
       "_model_module": "@jupyter-widgets/base",
       "_model_module_version": "1.2.0",
       "_model_name": "LayoutModel",
       "_view_count": null,
       "_view_module": "@jupyter-widgets/base",
       "_view_module_version": "1.2.0",
       "_view_name": "LayoutView",
       "align_content": null,
       "align_items": null,
       "align_self": null,
       "border": null,
       "bottom": null,
       "display": null,
       "flex": null,
       "flex_flow": null,
       "grid_area": null,
       "grid_auto_columns": null,
       "grid_auto_flow": null,
       "grid_auto_rows": null,
       "grid_column": null,
       "grid_gap": null,
       "grid_row": null,
       "grid_template_areas": null,
       "grid_template_columns": null,
       "grid_template_rows": null,
       "height": null,
       "justify_content": null,
       "justify_items": null,
       "left": null,
       "margin": null,
       "max_height": null,
       "max_width": null,
       "min_height": null,
       "min_width": null,
       "object_fit": null,
       "object_position": null,
       "order": null,
       "overflow": null,
       "overflow_x": null,
       "overflow_y": null,
       "padding": null,
       "right": null,
       "top": null,
       "visibility": null,
       "width": null
      }
     },
     "834784c3d15947b8bcc2a11c2b03bd02": {
      "model_module": "@jupyter-widgets/controls",
      "model_module_version": "1.5.0",
      "model_name": "ProgressStyleModel",
      "state": {
       "_model_module": "@jupyter-widgets/controls",
       "_model_module_version": "1.5.0",
       "_model_name": "ProgressStyleModel",
       "_view_count": null,
       "_view_module": "@jupyter-widgets/base",
       "_view_module_version": "1.2.0",
       "_view_name": "StyleView",
       "bar_color": null,
       "description_width": "initial"
      }
     },
     "9ece70eea741464dae485e578238fc7a": {
      "model_module": "@jupyter-widgets/base",
      "model_module_version": "1.2.0",
      "model_name": "LayoutModel",
      "state": {
       "_model_module": "@jupyter-widgets/base",
       "_model_module_version": "1.2.0",
       "_model_name": "LayoutModel",
       "_view_count": null,
       "_view_module": "@jupyter-widgets/base",
       "_view_module_version": "1.2.0",
       "_view_name": "LayoutView",
       "align_content": null,
       "align_items": null,
       "align_self": null,
       "border": null,
       "bottom": null,
       "display": null,
       "flex": null,
       "flex_flow": null,
       "grid_area": null,
       "grid_auto_columns": null,
       "grid_auto_flow": null,
       "grid_auto_rows": null,
       "grid_column": null,
       "grid_gap": null,
       "grid_row": null,
       "grid_template_areas": null,
       "grid_template_columns": null,
       "grid_template_rows": null,
       "height": null,
       "justify_content": null,
       "justify_items": null,
       "left": null,
       "margin": null,
       "max_height": null,
       "max_width": null,
       "min_height": null,
       "min_width": null,
       "object_fit": null,
       "object_position": null,
       "order": null,
       "overflow": null,
       "overflow_x": null,
       "overflow_y": null,
       "padding": null,
       "right": null,
       "top": null,
       "visibility": null,
       "width": null
      }
     },
     "a2a7b9067257415582ebc805afb6f2c8": {
      "model_module": "@jupyter-widgets/base",
      "model_module_version": "1.2.0",
      "model_name": "LayoutModel",
      "state": {
       "_model_module": "@jupyter-widgets/base",
       "_model_module_version": "1.2.0",
       "_model_name": "LayoutModel",
       "_view_count": null,
       "_view_module": "@jupyter-widgets/base",
       "_view_module_version": "1.2.0",
       "_view_name": "LayoutView",
       "align_content": null,
       "align_items": null,
       "align_self": null,
       "border": null,
       "bottom": null,
       "display": null,
       "flex": null,
       "flex_flow": null,
       "grid_area": null,
       "grid_auto_columns": null,
       "grid_auto_flow": null,
       "grid_auto_rows": null,
       "grid_column": null,
       "grid_gap": null,
       "grid_row": null,
       "grid_template_areas": null,
       "grid_template_columns": null,
       "grid_template_rows": null,
       "height": null,
       "justify_content": null,
       "justify_items": null,
       "left": null,
       "margin": null,
       "max_height": null,
       "max_width": null,
       "min_height": null,
       "min_width": null,
       "object_fit": null,
       "object_position": null,
       "order": null,
       "overflow": null,
       "overflow_x": null,
       "overflow_y": null,
       "padding": null,
       "right": null,
       "top": null,
       "visibility": null,
       "width": null
      }
     },
     "a86cf487d9ae4fdb8af9d2a41495f083": {
      "model_module": "@jupyter-widgets/controls",
      "model_module_version": "1.5.0",
      "model_name": "HTMLModel",
      "state": {
       "_dom_classes": [],
       "_model_module": "@jupyter-widgets/controls",
       "_model_module_version": "1.5.0",
       "_model_name": "HTMLModel",
       "_view_count": null,
       "_view_module": "@jupyter-widgets/controls",
       "_view_module_version": "1.5.0",
       "_view_name": "HTMLView",
       "description": "",
       "description_tooltip": null,
       "layout": "IPY_MODEL_508f086d5e9d4cfcbde810438cc47c2b",
       "placeholder": "​",
       "style": "IPY_MODEL_153a311f65804162bd528ba607fcc5fe",
       "value": " 478M/478M [00:17&lt;00:00, 27.6MB/s]"
      }
     },
     "af899488f23c49e3a493e6665c03fee1": {
      "model_module": "@jupyter-widgets/controls",
      "model_module_version": "1.5.0",
      "model_name": "FloatProgressModel",
      "state": {
       "_dom_classes": [],
       "_model_module": "@jupyter-widgets/controls",
       "_model_module_version": "1.5.0",
       "_model_name": "FloatProgressModel",
       "_view_count": null,
       "_view_module": "@jupyter-widgets/controls",
       "_view_module_version": "1.5.0",
       "_view_name": "ProgressView",
       "bar_style": "success",
       "description": "Downloading: 100%",
       "description_tooltip": null,
       "layout": "IPY_MODEL_52b5326f465b4a2cbf4d51d31056ee1b",
       "max": 109540,
       "min": 0,
       "orientation": "horizontal",
       "style": "IPY_MODEL_33a33bc14b9b4e9e8f8097ab93022a41",
       "value": 109540
      }
     },
     "bcfb78efd64b4432b2edf945a485003c": {
      "model_module": "@jupyter-widgets/base",
      "model_module_version": "1.2.0",
      "model_name": "LayoutModel",
      "state": {
       "_model_module": "@jupyter-widgets/base",
       "_model_module_version": "1.2.0",
       "_model_name": "LayoutModel",
       "_view_count": null,
       "_view_module": "@jupyter-widgets/base",
       "_view_module_version": "1.2.0",
       "_view_name": "LayoutView",
       "align_content": null,
       "align_items": null,
       "align_self": null,
       "border": null,
       "bottom": null,
       "display": null,
       "flex": null,
       "flex_flow": null,
       "grid_area": null,
       "grid_auto_columns": null,
       "grid_auto_flow": null,
       "grid_auto_rows": null,
       "grid_column": null,
       "grid_gap": null,
       "grid_row": null,
       "grid_template_areas": null,
       "grid_template_columns": null,
       "grid_template_rows": null,
       "height": null,
       "justify_content": null,
       "justify_items": null,
       "left": null,
       "margin": null,
       "max_height": null,
       "max_width": null,
       "min_height": null,
       "min_width": null,
       "object_fit": null,
       "object_position": null,
       "order": null,
       "overflow": null,
       "overflow_x": null,
       "overflow_y": null,
       "padding": null,
       "right": null,
       "top": null,
       "visibility": null,
       "width": null
      }
     },
     "c40eeee624f840db87d854eb46c2cb87": {
      "model_module": "@jupyter-widgets/controls",
      "model_module_version": "1.5.0",
      "model_name": "HTMLModel",
      "state": {
       "_dom_classes": [],
       "_model_module": "@jupyter-widgets/controls",
       "_model_module_version": "1.5.0",
       "_model_name": "HTMLModel",
       "_view_count": null,
       "_view_module": "@jupyter-widgets/controls",
       "_view_module_version": "1.5.0",
       "_view_name": "HTMLView",
       "description": "",
       "description_tooltip": null,
       "layout": "IPY_MODEL_a2a7b9067257415582ebc805afb6f2c8",
       "placeholder": "​",
       "style": "IPY_MODEL_c48323bd8f2c4dc79334f594360982ef",
       "value": " 110k/110k [00:00&lt;00:00, 388kB/s]"
      }
     },
     "c41f1b5502ba4d03a5ca8e08246ac837": {
      "model_module": "@jupyter-widgets/controls",
      "model_module_version": "1.5.0",
      "model_name": "HTMLModel",
      "state": {
       "_dom_classes": [],
       "_model_module": "@jupyter-widgets/controls",
       "_model_module_version": "1.5.0",
       "_model_name": "HTMLModel",
       "_view_count": null,
       "_view_module": "@jupyter-widgets/controls",
       "_view_module_version": "1.5.0",
       "_view_name": "HTMLView",
       "description": "",
       "description_tooltip": null,
       "layout": "IPY_MODEL_d451db0d50c6433a83e8a7c7ddf5dfdc",
       "placeholder": "​",
       "style": "IPY_MODEL_6f47d72a491d4e2eb622e0c694e2491b",
       "value": " 624/624 [00:00&lt;00:00, 714B/s]"
      }
     },
     "c48323bd8f2c4dc79334f594360982ef": {
      "model_module": "@jupyter-widgets/controls",
      "model_module_version": "1.5.0",
      "model_name": "DescriptionStyleModel",
      "state": {
       "_model_module": "@jupyter-widgets/controls",
       "_model_module_version": "1.5.0",
       "_model_name": "DescriptionStyleModel",
       "_view_count": null,
       "_view_module": "@jupyter-widgets/base",
       "_view_module_version": "1.2.0",
       "_view_name": "StyleView",
       "description_width": ""
      }
     },
     "d06f0671631a4e10a94a68c90eafaad9": {
      "model_module": "@jupyter-widgets/controls",
      "model_module_version": "1.5.0",
      "model_name": "HBoxModel",
      "state": {
       "_dom_classes": [],
       "_model_module": "@jupyter-widgets/controls",
       "_model_module_version": "1.5.0",
       "_model_name": "HBoxModel",
       "_view_count": null,
       "_view_module": "@jupyter-widgets/controls",
       "_view_module_version": "1.5.0",
       "_view_name": "HBoxView",
       "box_style": "",
       "children": [
        "IPY_MODEL_af899488f23c49e3a493e6665c03fee1",
        "IPY_MODEL_c40eeee624f840db87d854eb46c2cb87"
       ],
       "layout": "IPY_MODEL_8317cb979698455d96406113d4ce09ff"
      }
     },
     "d451db0d50c6433a83e8a7c7ddf5dfdc": {
      "model_module": "@jupyter-widgets/base",
      "model_module_version": "1.2.0",
      "model_name": "LayoutModel",
      "state": {
       "_model_module": "@jupyter-widgets/base",
       "_model_module_version": "1.2.0",
       "_model_name": "LayoutModel",
       "_view_count": null,
       "_view_module": "@jupyter-widgets/base",
       "_view_module_version": "1.2.0",
       "_view_name": "LayoutView",
       "align_content": null,
       "align_items": null,
       "align_self": null,
       "border": null,
       "bottom": null,
       "display": null,
       "flex": null,
       "flex_flow": null,
       "grid_area": null,
       "grid_auto_columns": null,
       "grid_auto_flow": null,
       "grid_auto_rows": null,
       "grid_column": null,
       "grid_gap": null,
       "grid_row": null,
       "grid_template_areas": null,
       "grid_template_columns": null,
       "grid_template_rows": null,
       "height": null,
       "justify_content": null,
       "justify_items": null,
       "left": null,
       "margin": null,
       "max_height": null,
       "max_width": null,
       "min_height": null,
       "min_width": null,
       "object_fit": null,
       "object_position": null,
       "order": null,
       "overflow": null,
       "overflow_x": null,
       "overflow_y": null,
       "padding": null,
       "right": null,
       "top": null,
       "visibility": null,
       "width": null
      }
     },
     "ea4f2780e29f433193781977903f46ed": {
      "model_module": "@jupyter-widgets/controls",
      "model_module_version": "1.5.0",
      "model_name": "HBoxModel",
      "state": {
       "_dom_classes": [],
       "_model_module": "@jupyter-widgets/controls",
       "_model_module_version": "1.5.0",
       "_model_name": "HBoxModel",
       "_view_count": null,
       "_view_module": "@jupyter-widgets/controls",
       "_view_module_version": "1.5.0",
       "_view_name": "HBoxView",
       "box_style": "",
       "children": [
        "IPY_MODEL_fc520c85c68f4bd1953fc894d95673a0",
        "IPY_MODEL_a86cf487d9ae4fdb8af9d2a41495f083"
       ],
       "layout": "IPY_MODEL_9ece70eea741464dae485e578238fc7a"
      }
     },
     "fc520c85c68f4bd1953fc894d95673a0": {
      "model_module": "@jupyter-widgets/controls",
      "model_module_version": "1.5.0",
      "model_name": "FloatProgressModel",
      "state": {
       "_dom_classes": [],
       "_model_module": "@jupyter-widgets/controls",
       "_model_module_version": "1.5.0",
       "_model_name": "FloatProgressModel",
       "_view_count": null,
       "_view_module": "@jupyter-widgets/controls",
       "_view_module_version": "1.5.0",
       "_view_name": "ProgressView",
       "bar_style": "success",
       "description": "Downloading: 100%",
       "description_tooltip": null,
       "layout": "IPY_MODEL_148d7475e21e4476b377e72ad07d8bba",
       "max": 478309336,
       "min": 0,
       "orientation": "horizontal",
       "style": "IPY_MODEL_834784c3d15947b8bcc2a11c2b03bd02",
       "value": 478309336
      }
     }
    },
    "version_major": 2,
    "version_minor": 0
   }
  }
 },
 "nbformat": 4,
 "nbformat_minor": 4
}
